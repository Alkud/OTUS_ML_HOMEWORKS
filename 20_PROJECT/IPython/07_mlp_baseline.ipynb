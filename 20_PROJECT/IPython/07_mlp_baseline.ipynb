{
 "cells": [
  {
   "cell_type": "code",
   "execution_count": 1,
   "metadata": {},
   "outputs": [],
   "source": [
    "import numpy as np\n",
    "from matplotlib import pyplot as plt\n",
    "%matplotlib inline\n",
    "import seaborn as sns\n",
    "import pandas as pd\n",
    "\n",
    "from sklearn.neural_network import MLPClassifier\n",
    "from sklearn.metrics import pairwise_distances, accuracy_score, recall_score, roc_auc_score, precision_score, f1_score, confusion_matrix\n",
    "from sklearn.model_selection import train_test_split, cross_validate, StratifiedKFold, GridSearchCV\n",
    "\n",
    "import graphics_utility as gru\n",
    "\n",
    "from pathlib import Path\n",
    "import os\n",
    "import pickle\n",
    "\n",
    "import dtw_metrics_tslearn as dtm"
   ]
  },
  {
   "cell_type": "code",
   "execution_count": 2,
   "metadata": {},
   "outputs": [],
   "source": [
    "feature16_path = Path('../data/features_16')\n",
    "feature32_path = Path('../data/features_32')"
   ]
  },
  {
   "cell_type": "code",
   "execution_count": 3,
   "metadata": {},
   "outputs": [],
   "source": [
    "f16_path_dictionary = {}\n",
    "\n",
    "for sub_path in feature16_path.iterdir():\n",
    "    if False==sub_path.is_dir():\n",
    "        continue\n",
    "    f16_path_dictionary[sub_path.name] = {'mfcc': [], 'cq': [], 'wp': []}\n",
    "    for item in sub_path.iterdir():\n",
    "        if False== item.is_file() or item.suffix!='.npy':\n",
    "            continue\n",
    "        if '_mfcc' in item.stem:\n",
    "            f16_path_dictionary[sub_path.name]['mfcc'].append(item.absolute())\n",
    "        elif '_cq' in item.stem:\n",
    "            f16_path_dictionary[sub_path.name]['cq'].append(item.absolute())\n",
    "        elif '_wp' in item.stem:\n",
    "            f16_path_dictionary[sub_path.name]['wp'].append(item.absolute())\n",
    "        else:\n",
    "            continue\n",
    "    f16_path_dictionary[sub_path.name]['mfcc'].sort()\n",
    "    f16_path_dictionary[sub_path.name]['cq'].sort()\n",
    "    f16_path_dictionary[sub_path.name]['wp'].sort()"
   ]
  },
  {
   "cell_type": "code",
   "execution_count": 4,
   "metadata": {},
   "outputs": [],
   "source": [
    "def get_multiclass_dataset(path_dictionary, feature, key_words=None):\n",
    "    '''\n",
    "    Parameters:\n",
    "    path_dictionary : dict of paths to feature folders\n",
    "    feature (str)   : 'wp' - wavelet packets envelopes, 'mfcc', 'cq' - constant Q spectrum\n",
    "    '''\n",
    "    if feature not in ['wp', 'mfcc', 'cq']:\n",
    "        print(\"feature name can be either 'wp' or 'mfcc' or 'cq'\")\n",
    "        return None\n",
    "    \n",
    "    raw_X = []\n",
    "    max_size = 0\n",
    "    y = []\n",
    "    label_dict = {}\n",
    "    if key_words is None:\n",
    "        key_words = list(path_dictionary.keys())\n",
    "    for word_idx, word in enumerate(path_dictionary.keys()):\n",
    "        if word in key_words:\n",
    "            label_dict[word] = key_words.index(word)+1\n",
    "        else:\n",
    "            label_dict[word] = 0\n",
    "            \n",
    "        for path in path_dictionary[word][feature]:\n",
    "            sample = np.load(path).flatten()\n",
    "            if sample.size > max_size:\n",
    "                max_size = sample.size\n",
    "            raw_X.append(sample)\n",
    "            if word in key_words:\n",
    "                y.append(key_words.index(word)+1)\n",
    "            else:\n",
    "                y.append(0)\n",
    "            \n",
    "    X = []\n",
    "    for sample in raw_X:\n",
    "        padded_sample = np.zeros(max_size)\n",
    "        padded_sample[0:sample.size]=sample[0:sample.size]\n",
    "        X.append(padded_sample)\n",
    "    return np.array(X), np.array(y), label_dict"
   ]
  },
  {
   "cell_type": "code",
   "execution_count": 5,
   "metadata": {},
   "outputs": [],
   "source": [
    "X, y, label_dict = get_multiclass_dataset(f16_path_dictionary, 'mfcc', key_words=None)"
   ]
  },
  {
   "cell_type": "code",
   "execution_count": 6,
   "metadata": {},
   "outputs": [
    {
     "data": {
      "text/plain": [
       "944"
      ]
     },
     "execution_count": 6,
     "metadata": {},
     "output_type": "execute_result"
    }
   ],
   "source": [
    "X[0].size"
   ]
  },
  {
   "cell_type": "code",
   "execution_count": 7,
   "metadata": {},
   "outputs": [],
   "source": [
    "X_train, X_test, y_train, y_test = train_test_split(X, y, test_size=0.25)"
   ]
  },
  {
   "cell_type": "markdown",
   "metadata": {},
   "source": [
    "#### **Для сравнения с KNN протестируем качество распознавания команд**\n",
    "#### **нейронной сетью простейшей архитектуры.**"
   ]
  },
  {
   "cell_type": "code",
   "execution_count": 8,
   "metadata": {},
   "outputs": [],
   "source": [
    "mlp = MLPClassifier(\n",
    "    hidden_layer_sizes=(2000,1000),\n",
    "    max_iter=500, alpha=1e-4,\n",
    "    solver='sgd', verbose=0, random_state=1812,\n",
    "    learning_rate_init=.001\n",
    ")"
   ]
  },
  {
   "cell_type": "code",
   "execution_count": 9,
   "metadata": {},
   "outputs": [
    {
     "data": {
      "text/plain": [
       "MLPClassifier(activation='relu', alpha=0.0001, batch_size='auto', beta_1=0.9,\n",
       "              beta_2=0.999, early_stopping=False, epsilon=1e-08,\n",
       "              hidden_layer_sizes=(2000, 1000), learning_rate='constant',\n",
       "              learning_rate_init=0.001, max_fun=15000, max_iter=500,\n",
       "              momentum=0.9, n_iter_no_change=10, nesterovs_momentum=True,\n",
       "              power_t=0.5, random_state=1812, shuffle=True, solver='sgd',\n",
       "              tol=0.0001, validation_fraction=0.1, verbose=0, warm_start=False)"
      ]
     },
     "execution_count": 9,
     "metadata": {},
     "output_type": "execute_result"
    }
   ],
   "source": [
    "mlp.fit(X_train, y_train)"
   ]
  },
  {
   "cell_type": "code",
   "execution_count": 10,
   "metadata": {},
   "outputs": [
    {
     "data": {
      "text/plain": [
       "array([ 3,  3,  8,  3,  5, 10,  2,  7,  5,  6,  5,  1,  9, 10,  6,  6,  2,\n",
       "        7,  4,  2,  6,  8,  2, 10,  1,  7,  4,  3,  6,  2,  4,  6,  8,  5,\n",
       "        3,  4,  7,  7, 10,  9,  6, 10, 10,  3,  1,  7,  6,  7,  6,  9])"
      ]
     },
     "execution_count": 10,
     "metadata": {},
     "output_type": "execute_result"
    }
   ],
   "source": [
    "y_pred = mlp.predict(X_test)\n",
    "y_pred"
   ]
  },
  {
   "cell_type": "code",
   "execution_count": 11,
   "metadata": {},
   "outputs": [
    {
     "data": {
      "text/plain": [
       "array([ 3,  5,  7,  5,  7,  2, 10,  7,  5,  6,  4,  1,  9, 10,  9,  2,  1,\n",
       "        7,  4,  1,  6,  8,  2,  2,  4,  1,  4,  3,  6,  2,  5,  5,  8,  3,\n",
       "        9,  4,  7,  9, 10,  9,  6, 10, 10,  3,  1,  1,  2,  2,  6,  9])"
      ]
     },
     "execution_count": 11,
     "metadata": {},
     "output_type": "execute_result"
    }
   ],
   "source": [
    "y_test"
   ]
  },
  {
   "cell_type": "code",
   "execution_count": 12,
   "metadata": {},
   "outputs": [
    {
     "data": {
      "text/plain": [
       "0.5674891774891775"
      ]
     },
     "execution_count": 12,
     "metadata": {},
     "output_type": "execute_result"
    }
   ],
   "source": [
    "f1_score(y_test, y_pred, average='macro')"
   ]
  },
  {
   "cell_type": "code",
   "execution_count": 13,
   "metadata": {},
   "outputs": [
    {
     "data": {
      "text/plain": [
       "0.56"
      ]
     },
     "execution_count": 13,
     "metadata": {},
     "output_type": "execute_result"
    }
   ],
   "source": [
    "accuracy_score(y_test, y_pred)"
   ]
  },
  {
   "cell_type": "markdown",
   "metadata": {},
   "source": [
    "#### Вывод: нейронная сеть даже такой простой архитектуры требует в десятки и сотни раз\n",
    "#### вычислительных операций, чем KNN, при этом качество распознавания несопоставимо хуже."
   ]
  },
  {
   "cell_type": "code",
   "execution_count": null,
   "metadata": {},
   "outputs": [],
   "source": []
  }
 ],
 "metadata": {
  "kernelspec": {
   "display_name": "Python 3",
   "language": "python",
   "name": "python3"
  },
  "language_info": {
   "codemirror_mode": {
    "name": "ipython",
    "version": 3
   },
   "file_extension": ".py",
   "mimetype": "text/x-python",
   "name": "python",
   "nbconvert_exporter": "python",
   "pygments_lexer": "ipython3",
   "version": "3.7.6"
  }
 },
 "nbformat": 4,
 "nbformat_minor": 4
}
