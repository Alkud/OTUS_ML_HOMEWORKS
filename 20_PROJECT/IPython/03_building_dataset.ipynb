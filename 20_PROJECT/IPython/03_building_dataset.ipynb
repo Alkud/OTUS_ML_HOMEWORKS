{
 "cells": [
  {
   "cell_type": "code",
   "execution_count": 1,
   "metadata": {},
   "outputs": [],
   "source": [
    "import numpy as np\n",
    "import scipy.signal as ssgn\n",
    "from matplotlib import pyplot as plt\n",
    "%matplotlib inline\n",
    "import pandas as pd\n",
    "\n",
    "# собственные утилиты с функциями предобработки и выделения параметров\n",
    "import aif_preprocessor as aifp\n",
    "from aif_preprocessor import aif_preprocessor\n",
    "import feature_extractor as fex\n",
    "from feature_extractor import feature_extractor\n",
    "\n",
    "# собственные утилиты с функциями визуализации \n",
    "import graphics_utility as gru\n",
    "\n",
    "from pathlib import Path\n",
    "import os"
   ]
  },
  {
   "cell_type": "code",
   "execution_count": 2,
   "metadata": {},
   "outputs": [
    {
     "data": {
      "text/plain": [
       "<module 'feature_extractor' from '/media/user/DATA/Python_Projects/rb_tech/Python/feature_extractor.py'>"
      ]
     },
     "execution_count": 2,
     "metadata": {},
     "output_type": "execute_result"
    }
   ],
   "source": [
    "import importlib\n",
    "importlib.reload(aifp)\n",
    "importlib.reload(gru)\n",
    "importlib.reload(fex)"
   ]
  },
  {
   "cell_type": "markdown",
   "metadata": {},
   "source": [
    "#### Путь к папке, содержащей исходные звуковые файлы"
   ]
  },
  {
   "cell_type": "code",
   "execution_count": 3,
   "metadata": {},
   "outputs": [],
   "source": [
    "data_folder_name = '../data/commands/!select'"
   ]
  },
  {
   "cell_type": "code",
   "execution_count": 4,
   "metadata": {},
   "outputs": [],
   "source": [
    "data_path = Path(data_folder_name)\n",
    "command_path_dictionary = {}\n",
    "\n",
    "for sub_path in data_path.iterdir():\n",
    "    if False==sub_path.is_dir() or '_' in sub_path.name:\n",
    "        continue\n",
    "    command_path_dictionary[sub_path.name] = []\n",
    "    for item in sub_path.iterdir():\n",
    "        if False== item.is_file() or item.suffix!='.aif':\n",
    "            continue\n",
    "        command_path_dictionary[sub_path.name].append(item.absolute())"
   ]
  },
  {
   "cell_type": "markdown",
   "metadata": {},
   "source": [
    "#### Словарь путей к файлам, содержащим голосовые команды."
   ]
  },
  {
   "cell_type": "code",
   "execution_count": 5,
   "metadata": {},
   "outputs": [
    {
     "data": {
      "text/plain": [
       "dict_keys(['bird', 'bed', 'seven', 'four', 'zero', 'marvin', 'dog', 'cat', 'happy', 'eight'])"
      ]
     },
     "execution_count": 5,
     "metadata": {},
     "output_type": "execute_result"
    }
   ],
   "source": [
    "command_path_dictionary.keys()"
   ]
  },
  {
   "cell_type": "code",
   "execution_count": 6,
   "metadata": {},
   "outputs": [
    {
     "data": {
      "text/plain": [
       "'c2e08f08_nohash_0.aif'"
      ]
     },
     "execution_count": 6,
     "metadata": {},
     "output_type": "execute_result"
    }
   ],
   "source": [
    "sample_path = command_path_dictionary['marvin'][9]\n",
    "sample_path.name"
   ]
  },
  {
   "cell_type": "markdown",
   "metadata": {},
   "source": [
    "#### Размер окна кратковременного анализа и шаг между соседними окнами."
   ]
  },
  {
   "cell_type": "code",
   "execution_count": 7,
   "metadata": {},
   "outputs": [],
   "source": [
    "FRAME_SIZE = 512\n",
    "HOP_SIZE = 256"
   ]
  },
  {
   "cell_type": "markdown",
   "metadata": {},
   "source": [
    "#### Пути к папкам с файлами параметров размерностей 16 и 32."
   ]
  },
  {
   "cell_type": "code",
   "execution_count": 8,
   "metadata": {},
   "outputs": [],
   "source": [
    "feature16_path = Path('../data/features_16')\n",
    "feature32_path = Path('../data/features_32')"
   ]
  },
  {
   "cell_type": "markdown",
   "metadata": {},
   "source": [
    "#### Чтение и обработка звуковых файлов, создание набора данных соответствующих параметров."
   ]
  },
  {
   "cell_type": "code",
   "execution_count": 9,
   "metadata": {},
   "outputs": [
    {
     "name": "stderr",
     "output_type": "stream",
     "text": [
      "/home/user/anaconda3/lib/python3.7/site-packages/scipy/signal/filter_design.py:470: RuntimeWarning: divide by zero encountered in true_divide\n",
      "  npp_polyval(zm1, a, tensor=False))\n",
      "/home/user/anaconda3/lib/python3.7/site-packages/scipy/signal/filter_design.py:470: RuntimeWarning: invalid value encountered in true_divide\n",
      "  npp_polyval(zm1, a, tensor=False))\n"
     ]
    }
   ],
   "source": [
    "OVERWRITE = False # owerwrite existing files?\n",
    "\n",
    "audio_description_dict = {\n",
    "    'file_name' : [],\n",
    "    'command' : [],\n",
    "    'duration' : [],\n",
    "    'signal_rms' : [],\n",
    "    'noise_rms' : []\n",
    "}\n",
    "\n",
    "for command, paths in command_path_dictionary.items():\n",
    "    for path in paths:\n",
    "        preprocessor = aif_preprocessor(str(path), FRAME_SIZE, HOP_SIZE)\n",
    "        preprocessor.process()\n",
    "        if not preprocessor.data_ready:\n",
    "            print(str(path))\n",
    "            continue\n",
    "        # gathering audio info\n",
    "        audio_description_dict['command'].append(command)\n",
    "        audio_description_dict['file_name'].append(path.name)\n",
    "        audio_description_dict['duration'].append(preprocessor.signal_duration)\n",
    "        audio_description_dict['signal_rms'].append(preprocessor.signal_rms)\n",
    "        audio_description_dict['noise_rms'].append(preprocessor.noise_rms)\n",
    "        # audio features extraction and saving\n",
    "        name_base = path.stem\n",
    "        extractor = feature_extractor(preprocessor.signal_frames, preprocessor.audio_info.framerate)\n",
    "        \n",
    "        extractor.process(16)\n",
    "        try:\n",
    "            mfcc_path = feature16_path.joinpath(f'{command}/{name_base}' + '_mfcc.npy')\n",
    "            if (OVERWRITE==True and mfcc_path.exists()==True) or (mfcc_path.exists()==False):\n",
    "                np.save(mfcc_path, extractor.mfcc)\n",
    "            cq_path = feature16_path.joinpath(f'{command}/{name_base}' + '_cq.npy')\n",
    "            if (OVERWRITE==True and cq_path.exists()==True) or (cq_path.exists()==False):\n",
    "                np.save(cq_path, extractor.cq)\n",
    "            #lpc_path = feature16_path.joinpath(f'{command}/{name_base}' + '_lpc.npy')        \n",
    "            #if (OVERWRITE==True and lpc_path.exists()==True) or (lpc_path.exists()==False):\n",
    "            #    np.save(lpc_path, extractor.lpc)\n",
    "            #spe_path = feature16_path.joinpath(f'{command}/{name_base}' + '_spe.npy')        \n",
    "            #if (OVERWRITE==True and spe_path.exists()==True) or (spe_path.exists()==False):\n",
    "            #    np.save(spe_path, extractor.spe)            \n",
    "            wp_path = feature16_path.joinpath(f'{command}/{name_base}' + '_wp.npy')        \n",
    "            if (OVERWRITE==True and wp_path.exists()==True) or (wp_path.exists()==False):\n",
    "                np.save(wp_path, extractor.wp_envelopes)\n",
    "        except Exception as ex:\n",
    "            print(f'Saving 16 features for {command}/{name_base} failed : {ex}')\n",
    "        \n",
    "        extractor.process(32)        \n",
    "        try:\n",
    "            mfcc_path = feature32_path.joinpath(f'{command}/{name_base}' + '_mfcc.npy')\n",
    "            if (OVERWRITE==True and mfcc_path.exists()==True) or (mfcc_path.exists()==False):\n",
    "                np.save(mfcc_path, extractor.mfcc)\n",
    "            cq_path = feature32_path.joinpath(f'{command}/{name_base}' + '_cq.npy')\n",
    "            if (OVERWRITE==True and cq_path.exists()==True) or (cq_path.exists()==False):\n",
    "                np.save(cq_path, extractor.cq)                \n",
    "            #lpc_path = feature32_path.joinpath(f'{command}/{name_base}' + '_lpc.npy')        \n",
    "            #if (OVERWRITE==True and lpc_path.exists()==True) or (lpc_path.exists()==False):\n",
    "            #    np.save(lpc_path, extractor.lpc)\n",
    "            #spe_path = feature32_path.joinpath(f'{command}/{name_base}' + '_spe.npy')        \n",
    "            #if (OVERWRITE==True and spe_path.exists()==True) or (spe_path.exists()==False):\n",
    "            #    np.save(spe_path, extractor.spe)                            \n",
    "            wp_path = feature32_path.joinpath(f'{command}/{name_base}' + '_wp.npy')        \n",
    "            if (OVERWRITE==True and wp_path.exists()==True) or (wp_path.exists()==False):\n",
    "                np.save(wp_path, extractor.wp_envelopes)\n",
    "        except Exception as ex:\n",
    "            print(f'Saving 32 features for {command}/{name_base} failed : {ex}')\n",
    "        \n",
    "\n",
    "audio_description_df = pd.DataFrame.from_dict(audio_description_dict)"
   ]
  },
  {
   "cell_type": "markdown",
   "metadata": {},
   "source": [
    "#### Сводная таблица сведений об обработанных файлах:\n",
    "#### длительность полезного сигнала, мощность сигнала, мощность фонового шума."
   ]
  },
  {
   "cell_type": "code",
   "execution_count": 12,
   "metadata": {},
   "outputs": [
    {
     "data": {
      "text/html": [
       "<div>\n",
       "<style scoped>\n",
       "    .dataframe tbody tr th:only-of-type {\n",
       "        vertical-align: middle;\n",
       "    }\n",
       "\n",
       "    .dataframe tbody tr th {\n",
       "        vertical-align: top;\n",
       "    }\n",
       "\n",
       "    .dataframe thead th {\n",
       "        text-align: right;\n",
       "    }\n",
       "</style>\n",
       "<table border=\"1\" class=\"dataframe\">\n",
       "  <thead>\n",
       "    <tr style=\"text-align: right;\">\n",
       "      <th></th>\n",
       "      <th>file_name</th>\n",
       "      <th>command</th>\n",
       "      <th>duration</th>\n",
       "      <th>signal_rms</th>\n",
       "      <th>noise_rms</th>\n",
       "    </tr>\n",
       "  </thead>\n",
       "  <tbody>\n",
       "    <tr>\n",
       "      <th>0</th>\n",
       "      <td>3ec05c3d_nohash_0.aif</td>\n",
       "      <td>bird</td>\n",
       "      <td>0.491312</td>\n",
       "      <td>0.036258</td>\n",
       "      <td>0.004585</td>\n",
       "    </tr>\n",
       "    <tr>\n",
       "      <th>1</th>\n",
       "      <td>1aed7c6d_nohash_0.aif</td>\n",
       "      <td>bird</td>\n",
       "      <td>0.406938</td>\n",
       "      <td>0.040497</td>\n",
       "      <td>0.000244</td>\n",
       "    </tr>\n",
       "    <tr>\n",
       "      <th>2</th>\n",
       "      <td>1a073312_nohash_0.aif</td>\n",
       "      <td>bird</td>\n",
       "      <td>0.425812</td>\n",
       "      <td>0.044931</td>\n",
       "      <td>0.000180</td>\n",
       "    </tr>\n",
       "    <tr>\n",
       "      <th>3</th>\n",
       "      <td>3d6bee47_nohash_0.aif</td>\n",
       "      <td>bird</td>\n",
       "      <td>0.437500</td>\n",
       "      <td>0.033978</td>\n",
       "      <td>0.000049</td>\n",
       "    </tr>\n",
       "    <tr>\n",
       "      <th>4</th>\n",
       "      <td>1ecfb537_nohash_0.aif</td>\n",
       "      <td>bird</td>\n",
       "      <td>0.423750</td>\n",
       "      <td>0.026736</td>\n",
       "      <td>0.000246</td>\n",
       "    </tr>\n",
       "    <tr>\n",
       "      <th>...</th>\n",
       "      <td>...</td>\n",
       "      <td>...</td>\n",
       "      <td>...</td>\n",
       "      <td>...</td>\n",
       "      <td>...</td>\n",
       "    </tr>\n",
       "    <tr>\n",
       "      <th>195</th>\n",
       "      <td>3d53244b_nohash_0.aif</td>\n",
       "      <td>eight</td>\n",
       "      <td>0.501563</td>\n",
       "      <td>0.026925</td>\n",
       "      <td>0.000055</td>\n",
       "    </tr>\n",
       "    <tr>\n",
       "      <th>196</th>\n",
       "      <td>02e85b60_nohash_0.aif</td>\n",
       "      <td>eight</td>\n",
       "      <td>0.500000</td>\n",
       "      <td>0.019100</td>\n",
       "      <td>0.000567</td>\n",
       "    </tr>\n",
       "    <tr>\n",
       "      <th>197</th>\n",
       "      <td>3c257192_nohash_0.aif</td>\n",
       "      <td>eight</td>\n",
       "      <td>0.562500</td>\n",
       "      <td>0.023937</td>\n",
       "      <td>0.000063</td>\n",
       "    </tr>\n",
       "    <tr>\n",
       "      <th>198</th>\n",
       "      <td>1b755c65_nohash_0.aif</td>\n",
       "      <td>eight</td>\n",
       "      <td>0.484812</td>\n",
       "      <td>0.024067</td>\n",
       "      <td>0.000078</td>\n",
       "    </tr>\n",
       "    <tr>\n",
       "      <th>199</th>\n",
       "      <td>3efef882_nohash_0.aif</td>\n",
       "      <td>eight</td>\n",
       "      <td>0.513563</td>\n",
       "      <td>0.023127</td>\n",
       "      <td>0.000089</td>\n",
       "    </tr>\n",
       "  </tbody>\n",
       "</table>\n",
       "<p>200 rows × 5 columns</p>\n",
       "</div>"
      ],
      "text/plain": [
       "                 file_name command  duration  signal_rms  noise_rms\n",
       "0    3ec05c3d_nohash_0.aif    bird  0.491312    0.036258   0.004585\n",
       "1    1aed7c6d_nohash_0.aif    bird  0.406938    0.040497   0.000244\n",
       "2    1a073312_nohash_0.aif    bird  0.425812    0.044931   0.000180\n",
       "3    3d6bee47_nohash_0.aif    bird  0.437500    0.033978   0.000049\n",
       "4    1ecfb537_nohash_0.aif    bird  0.423750    0.026736   0.000246\n",
       "..                     ...     ...       ...         ...        ...\n",
       "195  3d53244b_nohash_0.aif   eight  0.501563    0.026925   0.000055\n",
       "196  02e85b60_nohash_0.aif   eight  0.500000    0.019100   0.000567\n",
       "197  3c257192_nohash_0.aif   eight  0.562500    0.023937   0.000063\n",
       "198  1b755c65_nohash_0.aif   eight  0.484812    0.024067   0.000078\n",
       "199  3efef882_nohash_0.aif   eight  0.513563    0.023127   0.000089\n",
       "\n",
       "[200 rows x 5 columns]"
      ]
     },
     "execution_count": 12,
     "metadata": {},
     "output_type": "execute_result"
    }
   ],
   "source": [
    "audio_description_df"
   ]
  },
  {
   "cell_type": "code",
   "execution_count": 13,
   "metadata": {},
   "outputs": [
    {
     "data": {
      "text/html": [
       "<div>\n",
       "<style scoped>\n",
       "    .dataframe tbody tr th:only-of-type {\n",
       "        vertical-align: middle;\n",
       "    }\n",
       "\n",
       "    .dataframe tbody tr th {\n",
       "        vertical-align: top;\n",
       "    }\n",
       "\n",
       "    .dataframe thead th {\n",
       "        text-align: right;\n",
       "    }\n",
       "</style>\n",
       "<table border=\"1\" class=\"dataframe\">\n",
       "  <thead>\n",
       "    <tr style=\"text-align: right;\">\n",
       "      <th></th>\n",
       "      <th>duration</th>\n",
       "      <th>signal_rms</th>\n",
       "      <th>noise_rms</th>\n",
       "    </tr>\n",
       "  </thead>\n",
       "  <tbody>\n",
       "    <tr>\n",
       "      <th>count</th>\n",
       "      <td>200.000000</td>\n",
       "      <td>200.000000</td>\n",
       "      <td>200.000000</td>\n",
       "    </tr>\n",
       "    <tr>\n",
       "      <th>mean</th>\n",
       "      <td>0.543570</td>\n",
       "      <td>0.031605</td>\n",
       "      <td>0.000683</td>\n",
       "    </tr>\n",
       "    <tr>\n",
       "      <th>std</th>\n",
       "      <td>0.107505</td>\n",
       "      <td>0.006006</td>\n",
       "      <td>0.001048</td>\n",
       "    </tr>\n",
       "    <tr>\n",
       "      <th>min</th>\n",
       "      <td>0.317937</td>\n",
       "      <td>0.014431</td>\n",
       "      <td>0.000016</td>\n",
       "    </tr>\n",
       "    <tr>\n",
       "      <th>25%</th>\n",
       "      <td>0.473594</td>\n",
       "      <td>0.027826</td>\n",
       "      <td>0.000117</td>\n",
       "    </tr>\n",
       "    <tr>\n",
       "      <th>50%</th>\n",
       "      <td>0.531438</td>\n",
       "      <td>0.031306</td>\n",
       "      <td>0.000301</td>\n",
       "    </tr>\n",
       "    <tr>\n",
       "      <th>75%</th>\n",
       "      <td>0.599000</td>\n",
       "      <td>0.036095</td>\n",
       "      <td>0.000720</td>\n",
       "    </tr>\n",
       "    <tr>\n",
       "      <th>max</th>\n",
       "      <td>0.919125</td>\n",
       "      <td>0.047020</td>\n",
       "      <td>0.005818</td>\n",
       "    </tr>\n",
       "  </tbody>\n",
       "</table>\n",
       "</div>"
      ],
      "text/plain": [
       "         duration  signal_rms   noise_rms\n",
       "count  200.000000  200.000000  200.000000\n",
       "mean     0.543570    0.031605    0.000683\n",
       "std      0.107505    0.006006    0.001048\n",
       "min      0.317937    0.014431    0.000016\n",
       "25%      0.473594    0.027826    0.000117\n",
       "50%      0.531438    0.031306    0.000301\n",
       "75%      0.599000    0.036095    0.000720\n",
       "max      0.919125    0.047020    0.005818"
      ]
     },
     "execution_count": 13,
     "metadata": {},
     "output_type": "execute_result"
    }
   ],
   "source": [
    "audio_description_df.describe()"
   ]
  },
  {
   "cell_type": "code",
   "execution_count": null,
   "metadata": {},
   "outputs": [],
   "source": []
  }
 ],
 "metadata": {
  "kernelspec": {
   "display_name": "Python 3",
   "language": "python",
   "name": "python3"
  },
  "language_info": {
   "codemirror_mode": {
    "name": "ipython",
    "version": 3
   },
   "file_extension": ".py",
   "mimetype": "text/x-python",
   "name": "python",
   "nbconvert_exporter": "python",
   "pygments_lexer": "ipython3",
   "version": "3.7.6"
  }
 },
 "nbformat": 4,
 "nbformat_minor": 4
}
