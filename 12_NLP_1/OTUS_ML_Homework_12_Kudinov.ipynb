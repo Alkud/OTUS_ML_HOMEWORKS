{
 "cells": [
  {
   "cell_type": "markdown",
   "metadata": {},
   "source": [
    "# Предсказание рейтинга фильма по тексту отзыва"
   ]
  },
  {
   "cell_type": "markdown",
   "metadata": {},
   "source": [
    "## Источник данных : http://ai.stanford.edu/~amaas/data/sentiment/\n",
    "### _This is a dataset for binary sentiment classification containing substantially more data than previous benchmark datasets.<br>This dataset contains movie reviews along with their associated binary sentiment polarity labels. It is intended to serve as a benchmark for sentiment classification._\n",
    "### _The core dataset contains 50,000 reviews split evenly into 25k train and 25k test sets. The overall distribution of labels is balanced (25k pos and 25k neg)._"
   ]
  },
  {
   "cell_type": "code",
   "execution_count": 1,
   "metadata": {},
   "outputs": [],
   "source": [
    "import pandas as pd\n",
    "import numpy as np\n",
    "import seaborn as sns\n",
    "import matplotlib.pyplot as plt\n",
    "%matplotlib inline"
   ]
  },
  {
   "cell_type": "markdown",
   "metadata": {},
   "source": [
    "## 1. Чтение данных из файлов - формирование набора данных"
   ]
  },
  {
   "cell_type": "markdown",
   "metadata": {},
   "source": [
    "### Данные представлены в виде .txt файлов с именами вида [id]_[rating].txt, [id] - уникальный идентификатор отзыва, [rating] - рейтинг фильма по шкале от 1 до 10."
   ]
  },
  {
   "cell_type": "code",
   "execution_count": 2,
   "metadata": {},
   "outputs": [],
   "source": [
    "train_neg_path = './data/train/neg/'\n",
    "train_pos_path = './data/train/pos/'\n",
    "test_pos_path = './data/test/pos/'\n",
    "test_neg_path = './data/test/neg/'"
   ]
  },
  {
   "cell_type": "code",
   "execution_count": 3,
   "metadata": {},
   "outputs": [],
   "source": [
    "from pathlib import Path"
   ]
  },
  {
   "cell_type": "code",
   "execution_count": 4,
   "metadata": {},
   "outputs": [],
   "source": [
    "def read_folder(folder_path):\n",
    "    result_dict = {'id':[], 'score':[], 'review':[]}\n",
    "    for path in list(Path(folder_path).glob('*.txt')):\n",
    "        review_id, movie_score = tuple(path.stem.split('_'))                \n",
    "        review_text = path.read_text(encoding='utf8')\n",
    "        result_dict['id'].append(int(review_id))\n",
    "        result_dict['score'].append(int(movie_score))\n",
    "        result_dict['review'].append(review_text)\n",
    "    return pd.DataFrame.from_dict(result_dict)"
   ]
  },
  {
   "cell_type": "code",
   "execution_count": 5,
   "metadata": {},
   "outputs": [
    {
     "data": {
      "text/html": [
       "<div>\n",
       "<style scoped>\n",
       "    .dataframe tbody tr th:only-of-type {\n",
       "        vertical-align: middle;\n",
       "    }\n",
       "\n",
       "    .dataframe tbody tr th {\n",
       "        vertical-align: top;\n",
       "    }\n",
       "\n",
       "    .dataframe thead th {\n",
       "        text-align: right;\n",
       "    }\n",
       "</style>\n",
       "<table border=\"1\" class=\"dataframe\">\n",
       "  <thead>\n",
       "    <tr style=\"text-align: right;\">\n",
       "      <th></th>\n",
       "      <th>id</th>\n",
       "      <th>score</th>\n",
       "      <th>review</th>\n",
       "    </tr>\n",
       "  </thead>\n",
       "  <tbody>\n",
       "    <tr>\n",
       "      <td>0</td>\n",
       "      <td>0</td>\n",
       "      <td>10</td>\n",
       "      <td>I went and saw this movie last night after bei...</td>\n",
       "    </tr>\n",
       "    <tr>\n",
       "      <td>1</td>\n",
       "      <td>10000</td>\n",
       "      <td>7</td>\n",
       "      <td>Actor turned director Bill Paxton follows up h...</td>\n",
       "    </tr>\n",
       "    <tr>\n",
       "      <td>2</td>\n",
       "      <td>10001</td>\n",
       "      <td>9</td>\n",
       "      <td>As a recreational golfer with some knowledge o...</td>\n",
       "    </tr>\n",
       "    <tr>\n",
       "      <td>3</td>\n",
       "      <td>10002</td>\n",
       "      <td>8</td>\n",
       "      <td>I saw this film in a sneak preview, and it is ...</td>\n",
       "    </tr>\n",
       "    <tr>\n",
       "      <td>4</td>\n",
       "      <td>10003</td>\n",
       "      <td>8</td>\n",
       "      <td>Bill Paxton has taken the true story of the 19...</td>\n",
       "    </tr>\n",
       "    <tr>\n",
       "      <td>...</td>\n",
       "      <td>...</td>\n",
       "      <td>...</td>\n",
       "      <td>...</td>\n",
       "    </tr>\n",
       "    <tr>\n",
       "      <td>12495</td>\n",
       "      <td>9998</td>\n",
       "      <td>8</td>\n",
       "      <td>I was extraordinarily impressed by this film. ...</td>\n",
       "    </tr>\n",
       "    <tr>\n",
       "      <td>12496</td>\n",
       "      <td>9999</td>\n",
       "      <td>10</td>\n",
       "      <td>Although I'm not a golf fan, I attended a snea...</td>\n",
       "    </tr>\n",
       "    <tr>\n",
       "      <td>12497</td>\n",
       "      <td>999</td>\n",
       "      <td>8</td>\n",
       "      <td>From the start of \"The Edge Of Love\", the view...</td>\n",
       "    </tr>\n",
       "    <tr>\n",
       "      <td>12498</td>\n",
       "      <td>99</td>\n",
       "      <td>10</td>\n",
       "      <td>This movie, with all its complexity and subtle...</td>\n",
       "    </tr>\n",
       "    <tr>\n",
       "      <td>12499</td>\n",
       "      <td>9</td>\n",
       "      <td>7</td>\n",
       "      <td>I've seen this story before but my kids haven'...</td>\n",
       "    </tr>\n",
       "  </tbody>\n",
       "</table>\n",
       "<p>12500 rows × 3 columns</p>\n",
       "</div>"
      ],
      "text/plain": [
       "          id  score                                             review\n",
       "0          0     10  I went and saw this movie last night after bei...\n",
       "1      10000      7  Actor turned director Bill Paxton follows up h...\n",
       "2      10001      9  As a recreational golfer with some knowledge o...\n",
       "3      10002      8  I saw this film in a sneak preview, and it is ...\n",
       "4      10003      8  Bill Paxton has taken the true story of the 19...\n",
       "...      ...    ...                                                ...\n",
       "12495   9998      8  I was extraordinarily impressed by this film. ...\n",
       "12496   9999     10  Although I'm not a golf fan, I attended a snea...\n",
       "12497    999      8  From the start of \"The Edge Of Love\", the view...\n",
       "12498     99     10  This movie, with all its complexity and subtle...\n",
       "12499      9      7  I've seen this story before but my kids haven'...\n",
       "\n",
       "[12500 rows x 3 columns]"
      ]
     },
     "execution_count": 5,
     "metadata": {},
     "output_type": "execute_result"
    }
   ],
   "source": [
    "read_folder(test_pos_path)"
   ]
  },
  {
   "cell_type": "code",
   "execution_count": 6,
   "metadata": {},
   "outputs": [],
   "source": [
    "train_neg_df = read_folder(train_neg_path)\n",
    "train_pos_df = read_folder(train_pos_path)\n",
    "test_neg_df = read_folder(test_neg_path)\n",
    "test_pos_df = read_folder(test_pos_path)"
   ]
  },
  {
   "cell_type": "markdown",
   "metadata": {},
   "source": [
    "___Распределение рейтинга фильмов тренировочного набора___"
   ]
  },
  {
   "cell_type": "code",
   "execution_count": 7,
   "metadata": {},
   "outputs": [],
   "source": [
    "train_neg_df['is_positive'] = 0\n",
    "train_pos_df['is_positive'] = 1\n",
    "train_data = pd.concat([train_neg_df, train_pos_df], axis=0)\n",
    "train_data.to_csv('imdb_reviews_train.csv', sep=';', encoding='utf8')"
   ]
  },
  {
   "cell_type": "code",
   "execution_count": 8,
   "metadata": {},
   "outputs": [
    {
     "data": {
      "image/png": "[encoded data removed]",
      "text/plain": [
       "<Figure size 504x504 with 1 Axes>"
      ]
     },
     "metadata": {
      "needs_background": "light"
     },
     "output_type": "display_data"
    }
   ],
   "source": [
    "plt.figure(figsize=(7,7))\n",
    "ax = sns.countplot(y='score', data=train_data, hue='is_positive', palette={0:'red', 1:'green'})\n",
    "ax.invert_yaxis()\n",
    "plt.title('Распределение рейтинга. Тренировочные данные');\n",
    "plt.legend(['отрицательные\\nотзывы', 'положительные\\nотзывы'],loc='center right');"
   ]
  },
  {
   "cell_type": "markdown",
   "metadata": {},
   "source": [
    "___Распределение рейтинга фильмов тестового набора___"
   ]
  },
  {
   "cell_type": "code",
   "execution_count": 9,
   "metadata": {},
   "outputs": [],
   "source": [
    "test_neg_df['is_positive'] = 0\n",
    "test_pos_df['is_positive'] = 1\n",
    "test_data = pd.concat([test_neg_df, test_pos_df], axis=0)\n",
    "test_data.to_csv('imdb_reviews_test.csv', sep=';', encoding='utf8')"
   ]
  },
  {
   "cell_type": "code",
   "execution_count": 10,
   "metadata": {},
   "outputs": [
    {
     "data": {
      "image/png": "[encoded data removed]",
      "text/plain": [
       "<Figure size 504x504 with 1 Axes>"
      ]
     },
     "metadata": {
      "needs_background": "light"
     },
     "output_type": "display_data"
    }
   ],
   "source": [
    "plt.figure(figsize=(7,7))\n",
    "ax = sns.countplot(y='score', data=test_data, hue='is_positive', palette={0:'red', 1:'green'})\n",
    "ax.invert_yaxis()\n",
    "plt.title('Распределение рейтинга. Тестовые данные');\n",
    "plt.legend(['отрицательные\\nотзывы', 'положительные\\nотзывы'],loc='center right');"
   ]
  },
  {
   "cell_type": "markdown",
   "metadata": {},
   "source": [
    "## 2. Векторизация текстов"
   ]
  },
  {
   "cell_type": "code",
   "execution_count": 11,
   "metadata": {},
   "outputs": [],
   "source": [
    "import nltk\n",
    "from nltk.corpus import stopwords"
   ]
  },
  {
   "cell_type": "code",
   "execution_count": 12,
   "metadata": {},
   "outputs": [],
   "source": [
    "#nltk.download()"
   ]
  },
  {
   "cell_type": "markdown",
   "metadata": {},
   "source": [
    "### Приводим все тексты к одному регистру"
   ]
  },
  {
   "cell_type": "code",
   "execution_count": 13,
   "metadata": {},
   "outputs": [],
   "source": [
    "train_data['review'] = train_data['review'].apply(lambda s: s.lower().replace('<br />',''))"
   ]
  },
  {
   "cell_type": "code",
   "execution_count": 14,
   "metadata": {},
   "outputs": [],
   "source": [
    "test_data['review'] = test_data['review'].apply(lambda s: s.lower().replace('<br />',''))"
   ]
  },
  {
   "cell_type": "markdown",
   "metadata": {},
   "source": [
    "### Приводим грамматические формы слов к единой основе, отбрасываем последовательности символов, не несущие смысла"
   ]
  },
  {
   "cell_type": "code",
   "execution_count": 15,
   "metadata": {},
   "outputs": [],
   "source": [
    "stop_words = stopwords.words('english')\n",
    "stemmer = nltk.stem.snowball.EnglishStemmer('english')"
   ]
  },
  {
   "cell_type": "code",
   "execution_count": 16,
   "metadata": {},
   "outputs": [],
   "source": [
    "def stem_text(text):\n",
    "    return ' '.join([stemmer.stem(word) for word in text.split(' ') if word not in stop_words])"
   ]
  },
  {
   "cell_type": "code",
   "execution_count": 17,
   "metadata": {},
   "outputs": [
    {
     "data": {
      "text/plain": [
       "'imagine every stereotypical, overacted cliche from every movie and tv show set on the streets of brooklyn between 1930 and 1980. populate it with a cast of interchangeable caricatures instead of actual characters. throw in a mix of \"period\" music and wailing electric guitars during the \"rumble\" scenes. then pass the time trying to figure out (or care) which of the deuces is going to be killed in the (anti)climactic final rumble.i\\'ll give this movie points for not being just another romantic comedy, teen slasher, explosive action movie, teen sex comedy, kiddie musical, or oscar-nomination vehicle. but bringing something new or interesting to the street-gang tragedy genre might\\'ve been nice.'"
      ]
     },
     "execution_count": 17,
     "metadata": {},
     "output_type": "execute_result"
    }
   ],
   "source": [
    "test_data.iloc[100]['review']"
   ]
  },
  {
   "cell_type": "code",
   "execution_count": 18,
   "metadata": {},
   "outputs": [
    {
     "data": {
      "text/plain": [
       "'imagin everi stereotypical, overact clich everi movi tv show set street brooklyn 1930 1980. popul cast interchang caricatur instead actual characters. throw mix \"period\" music wail electr guitar \"rumble\" scenes. pass time tri figur (or care) deuc go kill (anti)climact final rumble.i\\'l give movi point anoth romant comedy, teen slasher, explos action movie, teen sex comedy, kiddi musical, oscar-nomin vehicle. bring someth new interest street-gang tragedi genr might\\'v nice.'"
      ]
     },
     "execution_count": 18,
     "metadata": {},
     "output_type": "execute_result"
    }
   ],
   "source": [
    "stem_text(test_data.iloc[100]['review'])"
   ]
  },
  {
   "cell_type": "code",
   "execution_count": 19,
   "metadata": {},
   "outputs": [],
   "source": [
    "X_train = train_data['review'].apply(stem_text)\n",
    "y_class_train = train_data['is_positive']\n",
    "y_reg_train = train_data['score']"
   ]
  },
  {
   "cell_type": "code",
   "execution_count": 21,
   "metadata": {},
   "outputs": [],
   "source": [
    "X_test = test_data['review'].apply(stem_text)\n",
    "y_class_test = test_data['is_positive']\n",
    "y_reg_test = test_data['score']"
   ]
  },
  {
   "cell_type": "code",
   "execution_count": 22,
   "metadata": {},
   "outputs": [
    {
     "data": {
      "text/plain": [
       "'imagin everi stereotypical, overact clich everi movi tv show set street brooklyn 1930 1980. popul cast interchang caricatur instead actual characters. throw mix \"period\" music wail electr guitar \"rumble\" scenes. pass time tri figur (or care) deuc go kill (anti)climact final rumble.i\\'l give movi point anoth romant comedy, teen slasher, explos action movie, teen sex comedy, kiddi musical, oscar-nomin vehicle. bring someth new interest street-gang tragedi genr might\\'v nice.'"
      ]
     },
     "execution_count": 22,
     "metadata": {},
     "output_type": "execute_result"
    }
   ],
   "source": [
    "X_test.iloc[100]"
   ]
  },
  {
   "cell_type": "markdown",
   "metadata": {},
   "source": [
    "### TF-IDF векторизация текстов"
   ]
  },
  {
   "cell_type": "code",
   "execution_count": 23,
   "metadata": {},
   "outputs": [],
   "source": [
    "from sklearn.feature_extraction.text import TfidfVectorizer"
   ]
  },
  {
   "cell_type": "code",
   "execution_count": 24,
   "metadata": {},
   "outputs": [],
   "source": [
    "#vectorizer = TfidfVectorizer(ngram_range=(1,2), max_df=1.0, min_df=0.0, analyzer='word', stop_words='english')\n",
    "vectorizer = TfidfVectorizer(ngram_range=(1,2), max_df=0.995, min_df=0.005, analyzer='word', stop_words='english')"
   ]
  },
  {
   "cell_type": "code",
   "execution_count": 25,
   "metadata": {},
   "outputs": [],
   "source": [
    "X_vector_train = vectorizer.fit_transform(X_train)"
   ]
  },
  {
   "cell_type": "code",
   "execution_count": 26,
   "metadata": {},
   "outputs": [
    {
     "data": {
      "text/plain": [
       "['000',\n",
       " '10',\n",
       " '10 10',\n",
       " '10 minut',\n",
       " '10 year',\n",
       " '100',\n",
       " '11',\n",
       " '12',\n",
       " '13',\n",
       " '14',\n",
       " '15',\n",
       " '16',\n",
       " '17',\n",
       " '18',\n",
       " '1950',\n",
       " '1950s',\n",
       " '1970',\n",
       " '1980',\n",
       " '20',\n",
       " '20 minut',\n",
       " '20 year',\n",
       " '2000',\n",
       " '2001',\n",
       " '2005',\n",
       " '2006',\n",
       " '24',\n",
       " '25',\n",
       " '30',\n",
       " '30 minut',\n",
       " '40',\n",
       " '50',\n",
       " '60',\n",
       " '60s',\n",
       " '70',\n",
       " '70s',\n",
       " '80',\n",
       " '80s',\n",
       " '90',\n",
       " '90 minut',\n",
       " 'abandon',\n",
       " 'abil',\n",
       " 'abl',\n",
       " 'absolut',\n",
       " 'absolut noth',\n",
       " 'absurd',\n",
       " 'abus',\n",
       " 'academi',\n",
       " 'academi award',\n",
       " 'accent',\n",
       " 'accept',\n",
       " 'access',\n",
       " 'accid',\n",
       " 'accident',\n",
       " 'accompani',\n",
       " 'accomplish',\n",
       " 'accord',\n",
       " 'account',\n",
       " 'accur',\n",
       " 'accus',\n",
       " 'achiev',\n",
       " 'act',\n",
       " 'act bad',\n",
       " 'act good',\n",
       " 'act like',\n",
       " 'acted',\n",
       " 'acting',\n",
       " 'action',\n",
       " 'action film',\n",
       " 'action movi',\n",
       " 'action scene',\n",
       " 'activ',\n",
       " 'actor',\n",
       " 'actor play',\n",
       " 'actors',\n",
       " 'actress',\n",
       " 'actual',\n",
       " 'actually',\n",
       " 'ad',\n",
       " 'adam',\n",
       " 'adapt',\n",
       " 'add',\n",
       " 'addict',\n",
       " 'addit',\n",
       " 'address',\n",
       " 'admir',\n",
       " 'admit',\n",
       " 'adopt',\n",
       " 'ador',\n",
       " 'adult',\n",
       " 'advanc',\n",
       " 'advantag',\n",
       " 'adventur',\n",
       " 'adventure',\n",
       " 'advertis',\n",
       " 'advic',\n",
       " 'advis',\n",
       " 'affair',\n",
       " 'affect',\n",
       " 'afford',\n",
       " 'afraid',\n",
       " 'africa',\n",
       " 'african',\n",
       " 'aft',\n",
       " 'afternoon',\n",
       " 'ag',\n",
       " 'age',\n",
       " 'agent',\n",
       " 'ago',\n",
       " 'agre',\n",
       " 'ahead',\n",
       " 'aid',\n",
       " 'aim',\n",
       " 'ain',\n",
       " 'air',\n",
       " 'aka',\n",
       " 'al',\n",
       " 'alan',\n",
       " 'albeit',\n",
       " 'albert',\n",
       " 'alcohol',\n",
       " 'alex',\n",
       " 'alic',\n",
       " 'alien',\n",
       " 'aliv',\n",
       " 'alive',\n",
       " 'allen',\n",
       " 'allow',\n",
       " 'alon',\n",
       " 'alreadi',\n",
       " 'alright',\n",
       " 'alter',\n",
       " 'altern',\n",
       " 'alway',\n",
       " 'amateur',\n",
       " 'amateurish',\n",
       " 'amaz',\n",
       " 'amazing',\n",
       " 'america',\n",
       " 'american',\n",
       " 'amus',\n",
       " 'amusing',\n",
       " 'ancient',\n",
       " 'anderson',\n",
       " 'andi',\n",
       " 'andrew',\n",
       " 'angel',\n",
       " 'anger',\n",
       " 'angl',\n",
       " 'angri',\n",
       " 'anim',\n",
       " 'animation',\n",
       " 'ann',\n",
       " 'anna',\n",
       " 'annoy',\n",
       " 'annoying',\n",
       " 'anoth',\n",
       " 'answer',\n",
       " 'anthoni',\n",
       " 'anti',\n",
       " 'anybodi',\n",
       " 'anymore',\n",
       " 'anyon',\n",
       " 'anyon els',\n",
       " 'anyth',\n",
       " 'anyth els',\n",
       " 'anywher',\n",
       " 'apart',\n",
       " 'appal',\n",
       " 'appar',\n",
       " 'apparently',\n",
       " 'appeal',\n",
       " 'appear',\n",
       " 'appli',\n",
       " 'appreci',\n",
       " 'approach',\n",
       " 'appropri',\n",
       " 'area',\n",
       " 'argu',\n",
       " 'argument',\n",
       " 'arm',\n",
       " 'armi',\n",
       " 'arrest',\n",
       " 'arriv',\n",
       " 'art',\n",
       " 'arthur',\n",
       " 'artist',\n",
       " 'asham',\n",
       " 'asian',\n",
       " 'asid',\n",
       " 'ask',\n",
       " 'asleep',\n",
       " 'aspect',\n",
       " 'aspir',\n",
       " 'ass',\n",
       " 'assassin',\n",
       " 'assign',\n",
       " 'assist',\n",
       " 'associ',\n",
       " 'assum',\n",
       " 'assur',\n",
       " 'atmospher',\n",
       " 'atmosphere',\n",
       " 'attach',\n",
       " 'attack',\n",
       " 'attempt',\n",
       " 'attend',\n",
       " 'attent',\n",
       " 'attention',\n",
       " 'attitud',\n",
       " 'attract',\n",
       " 'audienc',\n",
       " 'audience',\n",
       " 'audiences',\n",
       " 'aunt',\n",
       " 'australian',\n",
       " 'authent',\n",
       " 'author',\n",
       " 'avail',\n",
       " 'averag',\n",
       " 'average',\n",
       " 'avoid',\n",
       " 'aw',\n",
       " 'awar',\n",
       " 'award',\n",
       " 'away',\n",
       " 'awesom',\n",
       " 'awesome',\n",
       " 'awful',\n",
       " 'awkward',\n",
       " 'babi',\n",
       " 'baby',\n",
       " 'backdrop',\n",
       " 'background',\n",
       " 'bad',\n",
       " 'bad act',\n",
       " 'bad acting',\n",
       " 'bad film',\n",
       " 'bad good',\n",
       " 'bad guy',\n",
       " 'bad movi',\n",
       " 'bad movie',\n",
       " 'bad thing',\n",
       " 'bag',\n",
       " 'balanc',\n",
       " 'ball',\n",
       " 'band',\n",
       " 'bang',\n",
       " 'bank',\n",
       " 'bar',\n",
       " 'barbara',\n",
       " 'bare',\n",
       " 'base',\n",
       " 'basic',\n",
       " 'basically',\n",
       " 'bath',\n",
       " 'batman',\n",
       " 'battl',\n",
       " 'bbc',\n",
       " 'beach',\n",
       " 'bear',\n",
       " 'beast',\n",
       " 'beat',\n",
       " 'beauti',\n",
       " 'beautiful',\n",
       " 'beauty',\n",
       " 'becam',\n",
       " 'becaus',\n",
       " 'becom',\n",
       " 'bed',\n",
       " 'beer',\n",
       " 'beg',\n",
       " 'began',\n",
       " 'begin',\n",
       " 'begin end',\n",
       " 'beginning',\n",
       " 'behav',\n",
       " 'behavior',\n",
       " 'belief',\n",
       " 'believ',\n",
       " 'believable',\n",
       " 'believe',\n",
       " 'bell',\n",
       " 'belong',\n",
       " 'belov',\n",
       " 'ben',\n",
       " 'benefit',\n",
       " 'besid',\n",
       " 'best',\n",
       " 'best actor',\n",
       " 'best film',\n",
       " 'best friend',\n",
       " 'best movi',\n",
       " 'best perform',\n",
       " 'best thing',\n",
       " 'bet',\n",
       " 'better',\n",
       " 'better film',\n",
       " 'better movi',\n",
       " 'bi',\n",
       " 'big',\n",
       " 'big fan',\n",
       " 'big screen',\n",
       " 'bigger',\n",
       " 'biggest',\n",
       " 'billi',\n",
       " 'bird',\n",
       " 'birth',\n",
       " 'bit',\n",
       " 'bite',\n",
       " 'bitter',\n",
       " 'bizarr',\n",
       " 'black',\n",
       " 'black white',\n",
       " 'blair',\n",
       " 'blame',\n",
       " 'bland',\n",
       " 'blatant',\n",
       " 'blend',\n",
       " 'blind',\n",
       " 'block',\n",
       " 'blockbust',\n",
       " 'blond',\n",
       " 'blood',\n",
       " 'bloodi',\n",
       " 'blow',\n",
       " 'blown',\n",
       " 'blue',\n",
       " 'board',\n",
       " 'boat',\n",
       " 'bob',\n",
       " 'bodi',\n",
       " 'body',\n",
       " 'bomb',\n",
       " 'bond',\n",
       " 'bone',\n",
       " 'book',\n",
       " 'books',\n",
       " 'boot',\n",
       " 'border',\n",
       " 'bore',\n",
       " 'boredom',\n",
       " 'boring',\n",
       " 'born',\n",
       " 'borrow',\n",
       " 'boss',\n",
       " 'bother',\n",
       " 'bought',\n",
       " 'bound',\n",
       " 'box',\n",
       " 'box offic',\n",
       " 'boy',\n",
       " 'boyfriend',\n",
       " 'boys',\n",
       " 'brad',\n",
       " 'brain',\n",
       " 'brand',\n",
       " 'brave',\n",
       " 'break',\n",
       " 'breast',\n",
       " 'breath',\n",
       " 'brian',\n",
       " 'bride',\n",
       " 'bridg',\n",
       " 'brief',\n",
       " 'bright',\n",
       " 'brilliant',\n",
       " 'bring',\n",
       " 'british',\n",
       " 'broadcast',\n",
       " 'broadway',\n",
       " 'broke',\n",
       " 'broken',\n",
       " 'brook',\n",
       " 'brother',\n",
       " 'brothers',\n",
       " 'brought',\n",
       " 'brown',\n",
       " 'bruce',\n",
       " 'brutal',\n",
       " 'buck',\n",
       " 'buddi',\n",
       " 'budget',\n",
       " 'budget film',\n",
       " 'buff',\n",
       " 'bug',\n",
       " 'build',\n",
       " 'built',\n",
       " 'bullet',\n",
       " 'bunch',\n",
       " 'buri',\n",
       " 'burn',\n",
       " 'burst',\n",
       " 'bus',\n",
       " 'busi',\n",
       " 'business',\n",
       " 'butt',\n",
       " 'buy',\n",
       " 'cabl',\n",
       " 'cage',\n",
       " 'cal',\n",
       " 'california',\n",
       " 'came',\n",
       " 'cameo',\n",
       " 'camera',\n",
       " 'camera work',\n",
       " 'camp',\n",
       " 'campi',\n",
       " 'canadian',\n",
       " 'capabl',\n",
       " 'capit',\n",
       " 'captain',\n",
       " 'captiv',\n",
       " 'captur',\n",
       " 'car',\n",
       " 'card',\n",
       " 'care',\n",
       " 'career',\n",
       " 'carri',\n",
       " 'cartoon',\n",
       " 'case',\n",
       " 'cash',\n",
       " 'cast',\n",
       " 'castl',\n",
       " 'cat',\n",
       " 'catch',\n",
       " 'caught',\n",
       " 'caus',\n",
       " 'celebr',\n",
       " 'cell',\n",
       " 'center',\n",
       " 'central',\n",
       " 'centuri',\n",
       " 'century',\n",
       " 'certain',\n",
       " 'cgi',\n",
       " 'chain',\n",
       " 'chair',\n",
       " 'challeng',\n",
       " 'chanc',\n",
       " 'chance',\n",
       " 'chang',\n",
       " 'change',\n",
       " 'channel',\n",
       " 'charact',\n",
       " 'charact actor',\n",
       " 'charact develop',\n",
       " 'charact development',\n",
       " 'charact film',\n",
       " 'charact play',\n",
       " 'character',\n",
       " 'characters',\n",
       " 'charg',\n",
       " 'charisma',\n",
       " 'charl',\n",
       " 'charli',\n",
       " 'charm',\n",
       " 'charming',\n",
       " 'chase',\n",
       " 'cheap',\n",
       " 'cheat',\n",
       " 'check',\n",
       " 'cheer',\n",
       " 'cheesi',\n",
       " 'cheesy',\n",
       " 'chemistri',\n",
       " 'chick',\n",
       " 'chief',\n",
       " 'child',\n",
       " 'childhood',\n",
       " 'childish',\n",
       " 'children',\n",
       " 'chill',\n",
       " 'china',\n",
       " 'chines',\n",
       " 'choic',\n",
       " 'choice',\n",
       " 'choos',\n",
       " 'chop',\n",
       " 'chose',\n",
       " 'chosen',\n",
       " 'chris',\n",
       " 'christ',\n",
       " 'christian',\n",
       " 'christma',\n",
       " 'christoph',\n",
       " 'church',\n",
       " 'cinema',\n",
       " 'cinemat',\n",
       " 'cinematograph',\n",
       " 'cinematographi',\n",
       " 'cinematography',\n",
       " 'circumst',\n",
       " 'citi',\n",
       " 'citizen',\n",
       " 'city',\n",
       " 'civil',\n",
       " 'claim',\n",
       " 'clair',\n",
       " 'clark',\n",
       " 'class',\n",
       " 'classic',\n",
       " 'clean',\n",
       " 'clear',\n",
       " 'clever',\n",
       " 'cliché',\n",
       " 'clichéd',\n",
       " 'climax',\n",
       " 'climb',\n",
       " 'clip',\n",
       " 'close',\n",
       " 'closer',\n",
       " 'cloth',\n",
       " 'club',\n",
       " 'clue',\n",
       " 'code',\n",
       " 'cold',\n",
       " 'collect',\n",
       " 'colleg',\n",
       " 'color',\n",
       " 'colour',\n",
       " 'com',\n",
       " 'combin',\n",
       " 'come',\n",
       " 'come close',\n",
       " 'comed',\n",
       " 'comedi',\n",
       " 'comedian',\n",
       " 'comedies',\n",
       " 'comedy',\n",
       " 'comfort',\n",
       " 'comic',\n",
       " 'comic book',\n",
       " 'command',\n",
       " 'comment',\n",
       " 'commentari',\n",
       " 'comments',\n",
       " 'commerci',\n",
       " 'commit',\n",
       " 'common',\n",
       " 'communic',\n",
       " 'communiti',\n",
       " 'compani',\n",
       " 'companion',\n",
       " 'company',\n",
       " 'compar',\n",
       " 'comparison',\n",
       " 'compel',\n",
       " 'compet',\n",
       " 'complain',\n",
       " 'complaint',\n",
       " 'complet',\n",
       " 'complex',\n",
       " 'complic',\n",
       " 'compos',\n",
       " 'comput',\n",
       " 'concentr',\n",
       " 'concept',\n",
       " 'concern',\n",
       " 'conclus',\n",
       " 'conclusion',\n",
       " 'condit',\n",
       " 'confess',\n",
       " 'confid',\n",
       " 'conflict',\n",
       " 'confront',\n",
       " 'confus',\n",
       " 'connect',\n",
       " 'consequ',\n",
       " 'consid',\n",
       " 'consider',\n",
       " 'consist',\n",
       " 'constant',\n",
       " 'construct',\n",
       " 'contact',\n",
       " 'contain',\n",
       " 'contemporari',\n",
       " 'content',\n",
       " 'context',\n",
       " 'continu',\n",
       " 'contract',\n",
       " 'contrast',\n",
       " 'contribut',\n",
       " 'contriv',\n",
       " 'control',\n",
       " 'controversi',\n",
       " 'convent',\n",
       " 'convers',\n",
       " 'convey',\n",
       " 'convict',\n",
       " 'convinc',\n",
       " 'convincing',\n",
       " 'cook',\n",
       " 'cool',\n",
       " 'cooper',\n",
       " 'cop',\n",
       " 'copi',\n",
       " 'core',\n",
       " 'corner',\n",
       " 'corni',\n",
       " 'corpor',\n",
       " 'correct',\n",
       " 'corrupt',\n",
       " 'cost',\n",
       " 'costs',\n",
       " 'costum',\n",
       " 'costumes',\n",
       " 'count',\n",
       " 'countless',\n",
       " 'countri',\n",
       " 'country',\n",
       " 'coupl',\n",
       " 'couple',\n",
       " 'courag',\n",
       " 'cours',\n",
       " 'course',\n",
       " 'court',\n",
       " 'cousin',\n",
       " 'cover',\n",
       " 'cowboy',\n",
       " 'crack',\n",
       " 'craft',\n",
       " 'crap',\n",
       " 'crappi',\n",
       " 'crash',\n",
       " 'crazi',\n",
       " 'crazy',\n",
       " 'creat',\n",
       " 'creation',\n",
       " 'creativ',\n",
       " 'creator',\n",
       " 'creatur',\n",
       " 'credibl',\n",
       " 'credit',\n",
       " 'credits',\n",
       " 'creep',\n",
       " 'creepi',\n",
       " 'creepy',\n",
       " 'crew',\n",
       " 'cri',\n",
       " 'crime',\n",
       " 'crimin',\n",
       " 'critic',\n",
       " 'cross',\n",
       " 'crowd',\n",
       " 'crude',\n",
       " 'cruel',\n",
       " 'crush',\n",
       " 'cult',\n",
       " 'cultur',\n",
       " 'culture',\n",
       " 'curious',\n",
       " 'current',\n",
       " 'curs',\n",
       " 'cut',\n",
       " 'cute',\n",
       " 'cynic',\n",
       " 'dad',\n",
       " 'daili',\n",
       " 'damag',\n",
       " 'damn',\n",
       " 'dan',\n",
       " 'danc',\n",
       " 'dance',\n",
       " 'dancer',\n",
       " 'danger',\n",
       " 'daniel',\n",
       " 'danni',\n",
       " 'dare',\n",
       " 'dark',\n",
       " 'date',\n",
       " 'daughter',\n",
       " 'davi',\n",
       " 'david',\n",
       " 'dawn',\n",
       " 'day',\n",
       " 'days',\n",
       " 'dead',\n",
       " 'deal',\n",
       " 'dealt',\n",
       " 'dean',\n",
       " 'dear',\n",
       " 'death',\n",
       " 'debut',\n",
       " 'decad',\n",
       " 'decent',\n",
       " 'decid',\n",
       " 'decis',\n",
       " 'dedic',\n",
       " 'deep',\n",
       " 'deeper',\n",
       " 'deepli',\n",
       " 'defeat',\n",
       " 'defend',\n",
       " 'defin',\n",
       " 'definit',\n",
       " 'definit worth',\n",
       " 'degre',\n",
       " 'deliber',\n",
       " 'delight',\n",
       " 'deliv',\n",
       " 'deliveri',\n",
       " 'demand',\n",
       " 'demon',\n",
       " 'demonstr',\n",
       " 'deni',\n",
       " 'denni',\n",
       " 'depart',\n",
       " 'depend',\n",
       " 'depict',\n",
       " 'depress',\n",
       " 'depth',\n",
       " 'describ',\n",
       " 'descript',\n",
       " 'desert',\n",
       " 'deserv',\n",
       " 'design',\n",
       " 'desir',\n",
       " 'desper',\n",
       " 'despit',\n",
       " 'destroy',\n",
       " 'destruct',\n",
       " 'details',\n",
       " 'detect',\n",
       " 'determin',\n",
       " 'develop',\n",
       " 'development',\n",
       " 'devic',\n",
       " 'devil',\n",
       " 'devot',\n",
       " 'dialog',\n",
       " 'dialogu',\n",
       " 'dialogue',\n",
       " 'dick',\n",
       " 'did',\n",
       " 'didn',\n",
       " 'die',\n",
       " 'die hard',\n",
       " 'died',\n",
       " 'dies',\n",
       " 'differ',\n",
       " 'different',\n",
       " 'difficult',\n",
       " 'dig',\n",
       " 'digit',\n",
       " 'dimension',\n",
       " 'dinner',\n",
       " 'direct',\n",
       " 'directed',\n",
       " 'directing',\n",
       " 'direction',\n",
       " 'director',\n",
       " 'directors',\n",
       " 'dirti',\n",
       " 'disappear',\n",
       " 'disappoint',\n",
       " 'disappointed',\n",
       " 'disappointing',\n",
       " 'disappointment',\n",
       " 'disast',\n",
       " 'disaster',\n",
       " 'disbelief',\n",
       " 'discov',\n",
       " 'discuss',\n",
       " 'disgust',\n",
       " 'dislik',\n",
       " 'disney',\n",
       " 'display',\n",
       " 'distinct',\n",
       " 'distract',\n",
       " 'disturb',\n",
       " 'disturbing',\n",
       " 'doctor',\n",
       " 'documentari',\n",
       " 'documentary',\n",
       " 'does',\n",
       " 'dog',\n",
       " 'doing',\n",
       " 'dollar',\n",
       " 'domin',\n",
       " 'don',\n",
       " 'donald',\n",
       " 'doom',\n",
       " 'door',\n",
       " 'doubl',\n",
       " 'doubt',\n",
       " 'dougla',\n",
       " 'downright',\n",
       " 'dozen',\n",
       " 'dr',\n",
       " 'drag',\n",
       " 'dragon',\n",
       " 'drama',\n",
       " 'dramat',\n",
       " 'draw',\n",
       " 'drawn',\n",
       " 'dread',\n",
       " 'dream',\n",
       " 'dreams',\n",
       " 'dress',\n",
       " 'drew',\n",
       " 'dri',\n",
       " 'drink',\n",
       " 'drive',\n",
       " 'driven',\n",
       " 'driver',\n",
       " 'drop',\n",
       " 'drug',\n",
       " 'drunk',\n",
       " 'dub',\n",
       " 'dude',\n",
       " 'dull',\n",
       " 'dumb',\n",
       " 'dump',\n",
       " 'dvd',\n",
       " 'dynam',\n",
       " 'eager',\n",
       " 'ear',\n",
       " 'earli',\n",
       " 'earlier',\n",
       " 'earn',\n",
       " 'earth',\n",
       " 'easi',\n",
       " 'easier',\n",
       " 'easili',\n",
       " 'east',\n",
       " 'eat',\n",
       " 'ed',\n",
       " 'eddi',\n",
       " 'edg',\n",
       " 'edit',\n",
       " 'editing',\n",
       " 'editor',\n",
       " 'educ',\n",
       " 'edward',\n",
       " 'effect',\n",
       " 'effects',\n",
       " 'effort',\n",
       " 'elder',\n",
       " 'element',\n",
       " 'elements',\n",
       " 'elev',\n",
       " 'elizabeth',\n",
       " 'els',\n",
       " 'em',\n",
       " 'embarrass',\n",
       " 'emerg',\n",
       " 'emot',\n",
       " 'emotion',\n",
       " 'employ',\n",
       " 'empti',\n",
       " 'encount',\n",
       " 'encourag',\n",
       " 'end',\n",
       " 'end film',\n",
       " 'end movi',\n",
       " 'end movie',\n",
       " 'ending',\n",
       " 'endless',\n",
       " 'ends',\n",
       " 'endur',\n",
       " 'enemi',\n",
       " 'energi',\n",
       " 'engag',\n",
       " 'england',\n",
       " 'english',\n",
       " 'enhanc',\n",
       " 'enjoy',\n",
       " 'enjoy film',\n",
       " 'enjoy movi',\n",
       " 'enjoy movie',\n",
       " 'enjoy watch',\n",
       " 'enjoyable',\n",
       " 'enorm',\n",
       " 'enter',\n",
       " 'entertain',\n",
       " 'entertaining',\n",
       " 'entertainment',\n",
       " 'entir',\n",
       " 'entir film',\n",
       " 'entir movi',\n",
       " 'entri',\n",
       " 'epic',\n",
       " 'episod',\n",
       " 'episode',\n",
       " 'episodes',\n",
       " 'equal',\n",
       " 'era',\n",
       " 'eric',\n",
       " 'erot',\n",
       " 'escap',\n",
       " 'escape',\n",
       " 'especi',\n",
       " 'essenti',\n",
       " 'establish',\n",
       " 'european',\n",
       " 'event',\n",
       " 'events',\n",
       " 'eventu',\n",
       " 'everi',\n",
       " 'everi scene',\n",
       " 'everi singl',\n",
       " 'everi time',\n",
       " 'everybodi',\n",
       " 'everyday',\n",
       " 'everyon',\n",
       " 'everyon els',\n",
       " 'everyth',\n",
       " 'everyth els',\n",
       " 'evid',\n",
       " 'evil',\n",
       " 'ex',\n",
       " 'exact',\n",
       " 'exagger',\n",
       " 'examin',\n",
       " 'exampl',\n",
       " 'example',\n",
       " 'excel',\n",
       " 'excellent',\n",
       " 'exception',\n",
       " 'excess',\n",
       " 'excit',\n",
       " 'exciting',\n",
       " 'excus',\n",
       " 'execut',\n",
       " 'exist',\n",
       " 'expect',\n",
       " 'expectations',\n",
       " 'expected',\n",
       " 'expens',\n",
       " 'experi',\n",
       " 'experienc',\n",
       " 'experience',\n",
       " 'experiment',\n",
       " 'expert',\n",
       " 'explain',\n",
       " 'explan',\n",
       " 'explicit',\n",
       " 'exploit',\n",
       " 'explor',\n",
       " 'explos',\n",
       " 'expos',\n",
       " 'express',\n",
       " 'extend',\n",
       " 'extent',\n",
       " 'extra',\n",
       " 'extraordinari',\n",
       " 'extrem',\n",
       " 'ey',\n",
       " 'eye',\n",
       " 'eyes',\n",
       " 'fabul',\n",
       " 'face',\n",
       " 'facial',\n",
       " 'fact',\n",
       " 'factor',\n",
       " 'fade',\n",
       " 'fail',\n",
       " 'failur',\n",
       " 'fair',\n",
       " 'faith',\n",
       " 'fake',\n",
       " 'fall',\n",
       " 'fall love',\n",
       " 'fallen',\n",
       " 'fals',\n",
       " 'fame',\n",
       " 'famili',\n",
       " 'familiar',\n",
       " 'family',\n",
       " 'famous',\n",
       " 'fan',\n",
       " 'fanci',\n",
       " 'fans',\n",
       " 'fantasi',\n",
       " 'fantast',\n",
       " 'fantastic',\n",
       " 'fantasy',\n",
       " 'far',\n",
       " 'far better',\n",
       " 'fare',\n",
       " 'fascin',\n",
       " 'fashion',\n",
       " 'fast',\n",
       " 'fast forward',\n",
       " 'fat',\n",
       " 'fatal',\n",
       " 'fate',\n",
       " 'father',\n",
       " 'fault',\n",
       " 'favor',\n",
       " 'favorit',\n",
       " 'favourit',\n",
       " 'fear',\n",
       " 'featur',\n",
       " 'featur film',\n",
       " 'feature',\n",
       " 'feed',\n",
       " 'feel',\n",
       " 'feel good',\n",
       " 'feel like',\n",
       " ...]"
      ]
     },
     "execution_count": 26,
     "metadata": {},
     "output_type": "execute_result"
    }
   ],
   "source": [
    "vectorizer.get_feature_names()"
   ]
  },
  {
   "cell_type": "code",
   "execution_count": 27,
   "metadata": {},
   "outputs": [
    {
     "data": {
      "text/plain": [
       "3048"
      ]
     },
     "execution_count": 27,
     "metadata": {},
     "output_type": "execute_result"
    }
   ],
   "source": [
    "len(vectorizer.get_feature_names())"
   ]
  },
  {
   "cell_type": "markdown",
   "metadata": {},
   "source": [
    "### Отбросив n-грамы, встречающиеся в более, чем 99,5%, и менее, чем в 0,5%, документов, получили словарь из 3-ёх тысяч n-грамм.\n",
    "#### Полный словарь содержит примерно 1 миллион 670 тысяч n-грамм."
   ]
  },
  {
   "cell_type": "code",
   "execution_count": 28,
   "metadata": {},
   "outputs": [],
   "source": [
    "X_vector_test = vectorizer.transform(X_test)"
   ]
  },
  {
   "cell_type": "code",
   "execution_count": 29,
   "metadata": {},
   "outputs": [
    {
     "data": {
      "text/plain": [
       "<1x3048 sparse matrix of type '<class 'numpy.float64'>'\n",
       "\twith 37 stored elements in Compressed Sparse Row format>"
      ]
     },
     "execution_count": 29,
     "metadata": {},
     "output_type": "execute_result"
    }
   ],
   "source": [
    "X_vector_train[0]"
   ]
  },
  {
   "cell_type": "markdown",
   "metadata": {},
   "source": [
    "## 3. Построение модели бинарной классификации"
   ]
  },
  {
   "cell_type": "markdown",
   "metadata": {},
   "source": [
    "#### Перед решением задачи предсказания рейтинга есть возможность построить более простую модель классификации отзывов \"позитивный/негативный\".\n",
    "#### К \"позитивным\" отнесены отзывы с рейтингом не менее 7-ми, к \"негативным\" - с рейтингом не выше 4-ёх.\n",
    "#### Цель - оценка качества словаря с точки зрения достаточности для построения моделей."
   ]
  },
  {
   "cell_type": "markdown",
   "metadata": {},
   "source": [
    "### Простая модель для базовой оценки качества классификации - логистическая регрессия"
   ]
  },
  {
   "cell_type": "code",
   "execution_count": 30,
   "metadata": {},
   "outputs": [],
   "source": [
    "from sklearn.linear_model import LogisticRegressionCV, SGDClassifier"
   ]
  },
  {
   "cell_type": "code",
   "execution_count": 31,
   "metadata": {},
   "outputs": [],
   "source": [
    "from sklearn.metrics import accuracy_score, precision_score, recall_score, f1_score\n",
    "def quality_report(prediction, actual):\n",
    "    print(\"Accuracy: {:.3f}\\nPrecision: {:.3f}\\nRecall: {:.3f}\\nf1_score: {:.3f}\".format(\n",
    "        accuracy_score(prediction, actual),\n",
    "        precision_score(prediction, actual),\n",
    "        recall_score(prediction, actual),\n",
    "        f1_score(prediction, actual)\n",
    "    ))"
   ]
  },
  {
   "cell_type": "code",
   "execution_count": 32,
   "metadata": {},
   "outputs": [],
   "source": [
    "from sklearn.metrics import roc_auc_score, roc_curve\n",
    "\n",
    "def plot_roc_curve(prob_prediction, actual):\n",
    "    fpr, tpr, thresholds = roc_curve(actual, prob_prediction)\n",
    "    auc_score = roc_auc_score(actual, prob_prediction)\n",
    "    \n",
    "    plt.plot(fpr, tpr, label='ROC curve ')\n",
    "    plt.plot([0, 1], [0, 1])\n",
    "    plt.xlim([0.0, 1.0])\n",
    "    plt.ylim([0.0, 1.05])\n",
    "    plt.xlabel('False Positive Rate')\n",
    "    plt.ylabel('True Positive Rate')\n",
    "    plt.title('ROC AUC: {:.3f}'.format(auc_score))\n",
    "    plt.show()"
   ]
  },
  {
   "cell_type": "code",
   "execution_count": 33,
   "metadata": {},
   "outputs": [],
   "source": [
    "basic_classifier = LogisticRegressionCV(cv=5, n_jobs=8, multi_class='ovr')"
   ]
  },
  {
   "cell_type": "code",
   "execution_count": 34,
   "metadata": {},
   "outputs": [
    {
     "data": {
      "text/plain": [
       "LogisticRegressionCV(Cs=10, class_weight=None, cv=5, dual=False,\n",
       "                     fit_intercept=True, intercept_scaling=1.0, l1_ratios=None,\n",
       "                     max_iter=100, multi_class='ovr', n_jobs=8, penalty='l2',\n",
       "                     random_state=None, refit=True, scoring=None,\n",
       "                     solver='lbfgs', tol=0.0001, verbose=0)"
      ]
     },
     "execution_count": 34,
     "metadata": {},
     "output_type": "execute_result"
    }
   ],
   "source": [
    "basic_classifier.fit(X_vector_train, y_class_train)"
   ]
  },
  {
   "cell_type": "code",
   "execution_count": 35,
   "metadata": {},
   "outputs": [],
   "source": [
    "basic_proba = basic_classifier.predict_proba(X_vector_test)\n",
    "basic_prediction = basic_classifier.predict(X_vector_test)"
   ]
  },
  {
   "cell_type": "code",
   "execution_count": 36,
   "metadata": {},
   "outputs": [
    {
     "name": "stdout",
     "output_type": "stream",
     "text": [
      "Accuracy: 0.868\n",
      "Precision: 0.882\n",
      "Recall: 0.859\n",
      "f1_score: 0.870\n"
     ]
    }
   ],
   "source": [
    "quality_report(basic_prediction, y_class_test)"
   ]
  },
  {
   "cell_type": "code",
   "execution_count": 37,
   "metadata": {},
   "outputs": [
    {
     "data": {
      "image/png": "[encoded data removed]",
      "text/plain": [
       "<Figure size 432x288 with 1 Axes>"
      ]
     },
     "metadata": {
      "needs_background": "light"
     },
     "output_type": "display_data"
    }
   ],
   "source": [
    "plot_roc_curve(basic_proba[:,1], y_class_test)"
   ]
  },
  {
   "cell_type": "markdown",
   "metadata": {},
   "source": [
    "### Базовая модель даёт неплохой результат. Посмотрим, можно ли его улучшить."
   ]
  },
  {
   "cell_type": "code",
   "execution_count": 38,
   "metadata": {},
   "outputs": [],
   "source": [
    "svm_classifier = SGDClassifier(loss='hinge', penalty='l1',\n",
    "                               max_iter=1000, early_stopping=True, n_iter_no_change=10,\n",
    "                               n_jobs=8)"
   ]
  },
  {
   "cell_type": "code",
   "execution_count": 39,
   "metadata": {},
   "outputs": [
    {
     "data": {
      "text/plain": [
       "SGDClassifier(alpha=0.0001, average=False, class_weight=None,\n",
       "              early_stopping=True, epsilon=0.1, eta0=0.0, fit_intercept=True,\n",
       "              l1_ratio=0.15, learning_rate='optimal', loss='hinge',\n",
       "              max_iter=1000, n_iter_no_change=10, n_jobs=8, penalty='l1',\n",
       "              power_t=0.5, random_state=None, shuffle=True, tol=0.001,\n",
       "              validation_fraction=0.1, verbose=0, warm_start=False)"
      ]
     },
     "execution_count": 39,
     "metadata": {},
     "output_type": "execute_result"
    }
   ],
   "source": [
    "svm_classifier.fit(X_vector_train, y_class_train)"
   ]
  },
  {
   "cell_type": "code",
   "execution_count": 40,
   "metadata": {},
   "outputs": [
    {
     "data": {
      "text/plain": [
       "11"
      ]
     },
     "execution_count": 40,
     "metadata": {},
     "output_type": "execute_result"
    }
   ],
   "source": [
    "svm_classifier.n_iter_"
   ]
  },
  {
   "cell_type": "code",
   "execution_count": 41,
   "metadata": {},
   "outputs": [],
   "source": [
    "svm_prediction = svm_classifier.predict(X_vector_test)"
   ]
  },
  {
   "cell_type": "code",
   "execution_count": 42,
   "metadata": {},
   "outputs": [
    {
     "name": "stdout",
     "output_type": "stream",
     "text": [
      "Accuracy: 0.864\n",
      "Precision: 0.882\n",
      "Recall: 0.851\n",
      "f1_score: 0.867\n"
     ]
    }
   ],
   "source": [
    "quality_report(svm_prediction, y_class_test)"
   ]
  },
  {
   "cell_type": "markdown",
   "metadata": {},
   "source": [
    "### SVM с линейным ядром даёт результаты, идентичные результатам базовой модели..."
   ]
  },
  {
   "cell_type": "code",
   "execution_count": 43,
   "metadata": {},
   "outputs": [],
   "source": [
    "def visualize_coefficients(coef, feature_names, title, plot_num, color, take_top=True, n_features=25):\n",
    "    if True==take_top:\n",
    "        # take n greatest values\n",
    "        interesting_coefficients = np.argsort(coef)[-n_features:]\n",
    "    else:\n",
    "        # take n lowest values\n",
    "        interesting_coefficients = np.argsort(coef)[:n_features]\n",
    "    \n",
    "    plt.figure(figsize=(15, 10))\n",
    "    plt.subplot(2, 1, plot_num + 1)\n",
    "    colors = [color for c in coef[interesting_coefficients]]\n",
    "    plt.bar(np.arange(n_features), coef[interesting_coefficients], color=colors)\n",
    "    feature_names = np.array(feature_names)\n",
    "    plt.xticks(np.arange(0, n_features), \n",
    "               feature_names[interesting_coefficients], rotation=60, ha=\"right\", fontsize=14);\n",
    "    plt.title(title)"
   ]
  },
  {
   "cell_type": "markdown",
   "metadata": {},
   "source": [
    "### Набор 25-ти наиболее важных n-грамм для классификации отзыва."
   ]
  },
  {
   "cell_type": "code",
   "execution_count": 44,
   "metadata": {},
   "outputs": [
    {
     "data": {
      "image/png": "[encoded data removed]",
      "text/plain": [
       "<Figure size 1080x720 with 1 Axes>"
      ]
     },
     "metadata": {
      "needs_background": "light"
     },
     "output_type": "display_data"
    },
    {
     "data": {
      "image/png": "[encoded data removed]",
      "text/plain": [
       "<Figure size 1080x720 with 1 Axes>"
      ]
     },
     "metadata": {
      "needs_background": "light"
     },
     "output_type": "display_data"
    }
   ],
   "source": [
    "visualize_coefficients(svm_classifier.coef_[0,:], vectorizer.get_feature_names(),\n",
    "                       title='позитивные', plot_num=0,\n",
    "                       color = 'lightgreen', take_top=True)\n",
    "visualize_coefficients(svm_classifier.coef_[0,:], vectorizer.get_feature_names(),\n",
    "                       title='негативные', plot_num=1,\n",
    "                       color = 'darkred', take_top=False)"
   ]
  },
  {
   "cell_type": "code",
   "execution_count": 46,
   "metadata": {},
   "outputs": [
    {
     "name": "stdout",
     "output_type": "stream",
     "text": [
      "[1214  917 1984  916]\n",
      "['great', 'excellent', 'perfect', 'excel']\n"
     ]
    }
   ],
   "source": [
    "top_pos_word_inices = np.argsort(svm_classifier.coef_[0,:])\n",
    "vectorizer_dict = vectorizer.get_feature_names()\n",
    "print(top_pos_word_inices[-4:])\n",
    "print([vectorizer_dict[idx] for idx in top_pos_word_inices[-4:]])"
   ]
  },
  {
   "cell_type": "code",
   "execution_count": 47,
   "metadata": {},
   "outputs": [
    {
     "name": "stdout",
     "output_type": "stream",
     "text": [
      "[3009 2937  227  810]\n",
      "['worst', 'wast', 'awful', 'dull']\n"
     ]
    }
   ],
   "source": [
    "print(top_pos_word_inices[:4])\n",
    "print([vectorizer_dict[idx] for idx in top_pos_word_inices[:4]])"
   ]
  },
  {
   "cell_type": "code",
   "execution_count": 48,
   "metadata": {},
   "outputs": [],
   "source": [
    "from sklearn.ensemble import RandomForestClassifier, RandomForestRegressor"
   ]
  },
  {
   "cell_type": "code",
   "execution_count": 49,
   "metadata": {},
   "outputs": [],
   "source": [
    "forest_classifier = RandomForestClassifier(n_estimators=1600, max_depth=64, n_jobs=8)"
   ]
  },
  {
   "cell_type": "code",
   "execution_count": 50,
   "metadata": {},
   "outputs": [
    {
     "data": {
      "text/plain": [
       "RandomForestClassifier(bootstrap=True, class_weight=None, criterion='gini',\n",
       "                       max_depth=64, max_features='auto', max_leaf_nodes=None,\n",
       "                       min_impurity_decrease=0.0, min_impurity_split=None,\n",
       "                       min_samples_leaf=1, min_samples_split=2,\n",
       "                       min_weight_fraction_leaf=0.0, n_estimators=1600,\n",
       "                       n_jobs=8, oob_score=False, random_state=None, verbose=0,\n",
       "                       warm_start=False)"
      ]
     },
     "execution_count": 50,
     "metadata": {},
     "output_type": "execute_result"
    }
   ],
   "source": [
    "forest_classifier.fit(X_vector_train, y_class_train)"
   ]
  },
  {
   "cell_type": "code",
   "execution_count": 51,
   "metadata": {},
   "outputs": [],
   "source": [
    "forest_prediction = forest_classifier.predict(X_vector_test)\n",
    "forest_proba = forest_classifier.predict_proba(X_vector_test)"
   ]
  },
  {
   "cell_type": "code",
   "execution_count": 52,
   "metadata": {},
   "outputs": [
    {
     "name": "stdout",
     "output_type": "stream",
     "text": [
      "Accuracy: 0.844\n",
      "Precision: 0.851\n",
      "Recall: 0.840\n",
      "f1_score: 0.845\n"
     ]
    }
   ],
   "source": [
    "quality_report(forest_prediction, y_class_test)"
   ]
  },
  {
   "cell_type": "code",
   "execution_count": 53,
   "metadata": {},
   "outputs": [
    {
     "data": {
      "image/png": "[encoded data removed]",
      "text/plain": [
       "<Figure size 432x288 with 1 Axes>"
      ]
     },
     "metadata": {
      "needs_background": "light"
     },
     "output_type": "display_data"
    }
   ],
   "source": [
    "plot_roc_curve(forest_proba[:,1], y_class_test)"
   ]
  },
  {
   "cell_type": "markdown",
   "metadata": {},
   "source": [
    "### Результаты Random Forest несколько хуже, чем у SVM и логистической регрессии.\n",
    "### Смотрим наиболее и наименее важные n-граммы"
   ]
  },
  {
   "cell_type": "code",
   "execution_count": 54,
   "metadata": {},
   "outputs": [
    {
     "data": {
      "image/png": "[encoded data removed]",
      "text/plain": [
       "<Figure size 1080x720 with 1 Axes>"
      ]
     },
     "metadata": {
      "needs_background": "light"
     },
     "output_type": "display_data"
    },
    {
     "data": {
      "image/png": "[encoded data removed]",
      "text/plain": [
       "<Figure size 1080x720 with 1 Axes>"
      ]
     },
     "metadata": {
      "needs_background": "light"
     },
     "output_type": "display_data"
    }
   ],
   "source": [
    "visualize_coefficients(forest_classifier.feature_importances_, vectorizer.get_feature_names(),\n",
    "                       title='наиболее важные', plot_num=0,\n",
    "                       color = 'darkorange', take_top=True)\n",
    "visualize_coefficients(forest_classifier.feature_importances_, vectorizer.get_feature_names(),\n",
    "                       title='наименее важные', plot_num=1,\n",
    "                       color = 'lightgray', take_top=False)"
   ]
  },
  {
   "cell_type": "markdown",
   "metadata": {},
   "source": [
    "## 4. Построение модели регрессии"
   ]
  },
  {
   "cell_type": "code",
   "execution_count": 55,
   "metadata": {},
   "outputs": [],
   "source": [
    "from sklearn import metrics\n",
    "\n",
    "def mean_absolute_percentage_error(y_true, y_pred): \n",
    "    y_true, y_pred = np.array(y_true), np.array(y_pred)\n",
    "    return np.mean(np.abs((y_true - y_pred) / y_true)) * 100\n",
    "\n",
    "def print_metrics(y_true,y_pred):\n",
    "    print('MAE:', metrics.mean_absolute_error(y_true, y_pred))\n",
    "    print('RMSE:', np.sqrt(metrics.mean_squared_error(y_true, y_pred)))\n",
    "    print('R2:',  metrics.r2_score(y_true, y_pred))\n",
    "    print('MAPE:', mean_absolute_percentage_error(y_true, y_pred), '%')\n",
    "    pass"
   ]
  },
  {
   "cell_type": "code",
   "execution_count": 105,
   "metadata": {},
   "outputs": [],
   "source": [
    "def plot_regression_error(y_true,y_pred, title_text=''):\n",
    "    true_min = np.min(y_true)\n",
    "    true_max = np.max(y_true)\n",
    "    plot_step = 0.1 * np.abs(true_min - true_max)\n",
    "    pred_min = np.min(y_pred)\n",
    "    pred_max = np.max(y_pred)\n",
    "    \n",
    "    range_min = min(true_min, pred_min)\n",
    "    range_max = max(true_max, pred_max)\n",
    "    f, ax = plt.subplots(1, 1);\n",
    "    f.set_size_inches(10, 5)\n",
    "    ax.scatter(y_true, y_pred)\n",
    "    ax.plot(np.linspace(true_min, true_max, num=20), np.linspace(true_min, true_max, num=20), '-r')\n",
    "    ax.set_ylabel('Target predicted')\n",
    "    ax.set_xlabel('True Target')\n",
    "    ax.set_title(title_text)\n",
    "    ax.text(true_min, pred_max, r'$R^2$=%.2f, MAE=%.2f' % (\n",
    "        metrics.r2_score(y_true, y_pred),\n",
    "        metrics.median_absolute_error(y_true, y_pred))\n",
    "    )\n",
    "    ax.set_xlim([true_min - plot_step, true_max + plot_step])\n",
    "    ax.set_ylim([range_min - plot_step, range_max + plot_step])"
   ]
  },
  {
   "cell_type": "markdown",
   "metadata": {},
   "source": [
    "### В качестве базовой модели возьмём простую линейную регрессию"
   ]
  },
  {
   "cell_type": "code",
   "execution_count": 57,
   "metadata": {},
   "outputs": [],
   "source": [
    "from sklearn.linear_model import LinearRegression"
   ]
  },
  {
   "cell_type": "code",
   "execution_count": 58,
   "metadata": {},
   "outputs": [],
   "source": [
    "basic_regressor = LinearRegression(n_jobs=8)"
   ]
  },
  {
   "cell_type": "code",
   "execution_count": 59,
   "metadata": {},
   "outputs": [
    {
     "data": {
      "text/plain": [
       "LinearRegression(copy_X=True, fit_intercept=True, n_jobs=8, normalize=False)"
      ]
     },
     "execution_count": 59,
     "metadata": {},
     "output_type": "execute_result"
    }
   ],
   "source": [
    "basic_regressor.fit(X_vector_train, y_reg_train)"
   ]
  },
  {
   "cell_type": "code",
   "execution_count": 60,
   "metadata": {},
   "outputs": [],
   "source": [
    "basic_score_estimation = basic_regressor.predict(X_vector_test)"
   ]
  },
  {
   "cell_type": "code",
   "execution_count": 61,
   "metadata": {},
   "outputs": [
    {
     "name": "stdout",
     "output_type": "stream",
     "text": [
      "MAE: 1.8607781893056015\n",
      "RMSE: 2.3105255595564174\n",
      "R2: 0.561909823036566\n",
      "MAPE: 72.37898434732695 %\n"
     ]
    }
   ],
   "source": [
    "print_metrics(y_reg_test, basic_score_estimation)"
   ]
  },
  {
   "cell_type": "code",
   "execution_count": 106,
   "metadata": {},
   "outputs": [
    {
     "data": {
      "image/png": "[encoded data removed]",
      "text/plain": [
       "<Figure size 720x360 with 1 Axes>"
      ]
     },
     "metadata": {
      "needs_background": "light"
     },
     "output_type": "display_data"
    }
   ],
   "source": [
    "plot_regression_error(y_reg_test, basic_score_estimation, 'LinearRegression')"
   ]
  },
  {
   "cell_type": "markdown",
   "metadata": {},
   "source": [
    "### Для простой линейной регрессии получили среднюю относительную ошибку 72% - это плохой результат"
   ]
  },
  {
   "cell_type": "code",
   "execution_count": 64,
   "metadata": {},
   "outputs": [],
   "source": [
    "forest_regressor = RandomForestRegressor(n_estimators=400, max_depth=None, n_jobs=8, verbose=0)"
   ]
  },
  {
   "cell_type": "code",
   "execution_count": 65,
   "metadata": {
    "scrolled": true
   },
   "outputs": [
    {
     "data": {
      "text/plain": [
       "RandomForestRegressor(bootstrap=True, criterion='mse', max_depth=None,\n",
       "                      max_features='auto', max_leaf_nodes=None,\n",
       "                      min_impurity_decrease=0.0, min_impurity_split=None,\n",
       "                      min_samples_leaf=1, min_samples_split=2,\n",
       "                      min_weight_fraction_leaf=0.0, n_estimators=400, n_jobs=8,\n",
       "                      oob_score=False, random_state=None, verbose=0,\n",
       "                      warm_start=False)"
      ]
     },
     "execution_count": 65,
     "metadata": {},
     "output_type": "execute_result"
    }
   ],
   "source": [
    "forest_regressor.fit(X_vector_train, y_reg_train)"
   ]
  },
  {
   "cell_type": "code",
   "execution_count": 66,
   "metadata": {},
   "outputs": [],
   "source": [
    "forest_score_estimation = forest_regressor.predict(X_vector_test)"
   ]
  },
  {
   "cell_type": "code",
   "execution_count": 67,
   "metadata": {},
   "outputs": [
    {
     "name": "stdout",
     "output_type": "stream",
     "text": [
      "MAE: 2.0087055366666666\n",
      "RMSE: 2.535089345317126\n",
      "R2: 0.47261411632639405\n",
      "MAPE: 77.63876026269841 %\n"
     ]
    }
   ],
   "source": [
    "print_metrics(y_reg_test, forest_score_estimation)"
   ]
  },
  {
   "cell_type": "code",
   "execution_count": 107,
   "metadata": {},
   "outputs": [
    {
     "data": {
      "image/png": "[encoded data removed]",
      "text/plain": [
       "<Figure size 720x360 with 1 Axes>"
      ]
     },
     "metadata": {
      "needs_background": "light"
     },
     "output_type": "display_data"
    }
   ],
   "source": [
    "plot_regression_error(y_reg_test, forest_score_estimation, 'RandomForest')"
   ]
  },
  {
   "cell_type": "markdown",
   "metadata": {},
   "source": [
    "### Для модели Random forest результат хуже, чем у базовой модели"
   ]
  },
  {
   "cell_type": "code",
   "execution_count": 73,
   "metadata": {},
   "outputs": [],
   "source": [
    "from sklearn.neighbors import KNeighborsRegressor"
   ]
  },
  {
   "cell_type": "code",
   "execution_count": 75,
   "metadata": {},
   "outputs": [],
   "source": [
    "knn_regressor = KNeighborsRegressor(n_neighbors=5, algorithm='auto')"
   ]
  },
  {
   "cell_type": "code",
   "execution_count": 77,
   "metadata": {},
   "outputs": [
    {
     "data": {
      "text/plain": [
       "KNeighborsRegressor(algorithm='auto', leaf_size=30, metric='minkowski',\n",
       "                    metric_params=None, n_jobs=None, n_neighbors=5, p=2,\n",
       "                    weights='uniform')"
      ]
     },
     "execution_count": 77,
     "metadata": {},
     "output_type": "execute_result"
    }
   ],
   "source": [
    "knn_regressor.fit(X_vector_train, y_reg_train)"
   ]
  },
  {
   "cell_type": "code",
   "execution_count": 78,
   "metadata": {},
   "outputs": [],
   "source": [
    "knn_score_estimation = knn_regressor.predict(X_vector_test)"
   ]
  },
  {
   "cell_type": "code",
   "execution_count": 79,
   "metadata": {},
   "outputs": [
    {
     "name": "stdout",
     "output_type": "stream",
     "text": [
      "MAE: 2.595416\n",
      "RMSE: 3.178719490612533\n",
      "R2: 0.17082467293710402\n",
      "MAPE: 103.96017555555557 %\n"
     ]
    }
   ],
   "source": [
    "print_metrics(y_reg_test, knn_score_estimation)"
   ]
  },
  {
   "cell_type": "code",
   "execution_count": 108,
   "metadata": {},
   "outputs": [
    {
     "data": {
      "image/png": "[encoded data removed]",
      "text/plain": [
       "<Figure size 720x360 with 1 Axes>"
      ]
     },
     "metadata": {
      "needs_background": "light"
     },
     "output_type": "display_data"
    }
   ],
   "source": [
    "plot_regression_error(y_reg_test, knn_score_estimation, 'KNN')"
   ]
  },
  {
   "cell_type": "code",
   "execution_count": 82,
   "metadata": {},
   "outputs": [],
   "source": [
    "from sklearn.linear_model import SGDRegressor"
   ]
  },
  {
   "cell_type": "code",
   "execution_count": 100,
   "metadata": {},
   "outputs": [],
   "source": [
    "sgd_regressor = SGDRegressor(loss='squared_loss', early_stopping=True, n_iter_no_change=10)"
   ]
  },
  {
   "cell_type": "code",
   "execution_count": 101,
   "metadata": {},
   "outputs": [
    {
     "data": {
      "text/plain": [
       "SGDRegressor(alpha=0.0001, average=False, early_stopping=True, epsilon=0.1,\n",
       "             eta0=0.01, fit_intercept=True, l1_ratio=0.15,\n",
       "             learning_rate='invscaling', loss='squared_loss', max_iter=1000,\n",
       "             n_iter_no_change=10, penalty='l2', power_t=0.25, random_state=None,\n",
       "             shuffle=True, tol=0.001, validation_fraction=0.1, verbose=0,\n",
       "             warm_start=False)"
      ]
     },
     "execution_count": 101,
     "metadata": {},
     "output_type": "execute_result"
    }
   ],
   "source": [
    "sgd_regressor.fit(X_vector_train, y_reg_train)"
   ]
  },
  {
   "cell_type": "code",
   "execution_count": 102,
   "metadata": {},
   "outputs": [],
   "source": [
    "sgd_score_estimation = sgd_regressor.predict(X_vector_test)"
   ]
  },
  {
   "cell_type": "code",
   "execution_count": 103,
   "metadata": {},
   "outputs": [
    {
     "name": "stdout",
     "output_type": "stream",
     "text": [
      "MAE: 2.667465527904923\n",
      "RMSE: 3.0478567947118442\n",
      "R2: 0.2376909490402942\n",
      "MAPE: 99.68015130024342 %\n"
     ]
    }
   ],
   "source": [
    "print_metrics(y_reg_test, sgd_score_estimation)"
   ]
  },
  {
   "cell_type": "code",
   "execution_count": 109,
   "metadata": {},
   "outputs": [
    {
     "data": {
      "image/png": "[encoded data removed]",
      "text/plain": [
       "<Figure size 720x360 with 1 Axes>"
      ]
     },
     "metadata": {
      "needs_background": "light"
     },
     "output_type": "display_data"
    }
   ],
   "source": [
    "plot_regression_error(y_reg_test, sgd_score_estimation, 'SGDRegressor')"
   ]
  },
  {
   "cell_type": "markdown",
   "metadata": {},
   "source": [
    "### Лучшие, хотя и неудовлетворительные, результаты показала базовая модель Linear regression."
   ]
  },
  {
   "cell_type": "markdown",
   "metadata": {},
   "source": [
    "## 5. Многоклассовая классификация вместо регрессии"
   ]
  },
  {
   "cell_type": "markdown",
   "metadata": {},
   "source": [
    "### Целевая переменная - рейтинг фильма - целочисленная переменная, принимающая 8 различных значений: 1-4 для отрицаиельных отзывов и 7-10 для положительных.\n",
    "### Задачу предсказания рейтинга можно рассматривать как задачу многоклассовой классификации."
   ]
  },
  {
   "cell_type": "code",
   "execution_count": 120,
   "metadata": {},
   "outputs": [],
   "source": [
    "from sklearn.metrics import classification_report, confusion_matrix"
   ]
  },
  {
   "cell_type": "markdown",
   "metadata": {},
   "source": [
    "### В качестве базовой модели возьмём KNN классификатор с метрикой Jaccard."
   ]
  },
  {
   "cell_type": "code",
   "execution_count": 110,
   "metadata": {},
   "outputs": [],
   "source": [
    "from sklearn.neighbors import KNeighborsClassifier"
   ]
  },
  {
   "cell_type": "code",
   "execution_count": 294,
   "metadata": {},
   "outputs": [],
   "source": [
    "from scipy.stats import norm, lognorm"
   ]
  },
  {
   "cell_type": "code",
   "execution_count": 118,
   "metadata": {},
   "outputs": [],
   "source": [
    "knn_multi_classifier = KNeighborsClassifier(n_neighbors=10, n_jobs=8)"
   ]
  },
  {
   "cell_type": "code",
   "execution_count": 119,
   "metadata": {},
   "outputs": [
    {
     "data": {
      "text/plain": [
       "KNeighborsClassifier(algorithm='auto', leaf_size=30, metric='minkowski',\n",
       "                     metric_params=None, n_jobs=8, n_neighbors=10, p=2,\n",
       "                     weights='uniform')"
      ]
     },
     "execution_count": 119,
     "metadata": {},
     "output_type": "execute_result"
    }
   ],
   "source": [
    "knn_multi_classifier.fit(X_vector_train, y_reg_test)"
   ]
  },
  {
   "cell_type": "code",
   "execution_count": 121,
   "metadata": {},
   "outputs": [],
   "source": [
    "knn_multi_predictions = knn_multi_classifier.predict(X_vector_test)\n",
    "knn_multi_proba = knn_multi_classifier.predict_proba(X_vector_test)"
   ]
  },
  {
   "cell_type": "markdown",
   "metadata": {},
   "source": [
    "### Метрики качества классификации:"
   ]
  },
  {
   "cell_type": "code",
   "execution_count": 122,
   "metadata": {},
   "outputs": [
    {
     "name": "stdout",
     "output_type": "stream",
     "text": [
      "0.22416\n",
      "              precision    recall  f1-score   support\n",
      "\n",
      "           1       0.52      0.29      0.37      9041\n",
      "           2       0.06      0.10      0.07      1462\n",
      "           3       0.08      0.12      0.10      1776\n",
      "           4       0.07      0.12      0.09      1520\n",
      "           7       0.09      0.12      0.10      1622\n",
      "           8       0.13      0.16      0.14      2323\n",
      "           9       0.07      0.13      0.09      1205\n",
      "          10       0.35      0.29      0.31      6051\n",
      "\n",
      "    accuracy                           0.22     25000\n",
      "   macro avg       0.17      0.17      0.16     25000\n",
      "weighted avg       0.31      0.22      0.25     25000\n",
      "\n"
     ]
    }
   ],
   "source": [
    "print(accuracy_score(knn_multi_predictions, y_reg_test))\n",
    "print(classification_report(knn_multi_predictions, y_reg_test))"
   ]
  },
  {
   "cell_type": "markdown",
   "metadata": {},
   "source": [
    "### Смотрим распределение вероятностей отнесения тестовых данных к классам."
   ]
  },
  {
   "cell_type": "code",
   "execution_count": 295,
   "metadata": {
    "scrolled": false
   },
   "outputs": [
    {
     "data": {
      "image/png": "[encoded data removed]",
      "text/plain": [
       "<Figure size 1440x720 with 8 Axes>"
      ]
     },
     "metadata": {
      "needs_background": "light"
     },
     "output_type": "display_data"
    }
   ],
   "source": [
    "knn_multi_certainty = pd.DataFrame(data=knn_multi_proba, columns=['1','2','3','4','7','8','9','10'])\n",
    "fig, axes = plt.subplots(nrows=2, ncols=4)\n",
    "fig.set_size_inches(20, 10)\n",
    "for idx, col in enumerate(knn_multi_certainty.columns):    \n",
    "    row_idx = idx // 4\n",
    "    col_idx = idx % 4\n",
    "    ax=sns.distplot(knn_multi_certainty[col], kde=False, color='tomato',\n",
    "                    fit=lognorm, fit_kws={'color':'tomato', 'lw':'3'},\n",
    "                    norm_hist=False, ax=axes[row_idx, col_idx])\n",
    "    ax.set_xlim([0,1])"
   ]
  },
  {
   "cell_type": "markdown",
   "metadata": {},
   "source": [
    "### KNN классификатор лучше всего (точнее и увереннее) предсказывает только ДВА класса: наилучшие и наихудшие рейтинги.\n",
    "### В целом, точность предсказания очень низкая.\n",
    "### Возможно, эти отзывы имеют наиболее ярко выраженный набор выражений. К тому же, имеем соответствующий дисбаланс классов."
   ]
  },
  {
   "cell_type": "code",
   "execution_count": 124,
   "metadata": {},
   "outputs": [
    {
     "data": {
      "text/plain": [
       "1     5022\n",
       "10    4999\n",
       "8     2850\n",
       "4     2635\n",
       "3     2541\n",
       "9     2344\n",
       "7     2307\n",
       "2     2302\n",
       "Name: score, dtype: int64"
      ]
     },
     "execution_count": 124,
     "metadata": {},
     "output_type": "execute_result"
    }
   ],
   "source": [
    "pd.Series(y_reg_test).value_counts()"
   ]
  },
  {
   "cell_type": "code",
   "execution_count": 126,
   "metadata": {},
   "outputs": [],
   "source": [
    "sgd_multi_classifier = SGDClassifier(\n",
    "    loss='log', penalty='l1',\n",
    "    shuffle=True, early_stopping=True, n_iter_no_change=10, max_iter=1000\n",
    ")"
   ]
  },
  {
   "cell_type": "code",
   "execution_count": 128,
   "metadata": {},
   "outputs": [
    {
     "data": {
      "text/plain": [
       "SGDClassifier(alpha=0.0001, average=False, class_weight=None,\n",
       "              early_stopping=True, epsilon=0.1, eta0=0.0, fit_intercept=True,\n",
       "              l1_ratio=0.15, learning_rate='optimal', loss='log', max_iter=1000,\n",
       "              n_iter_no_change=10, n_jobs=None, penalty='l1', power_t=0.5,\n",
       "              random_state=None, shuffle=True, tol=0.001,\n",
       "              validation_fraction=0.1, verbose=0, warm_start=False)"
      ]
     },
     "execution_count": 128,
     "metadata": {},
     "output_type": "execute_result"
    }
   ],
   "source": [
    "sgd_multi_classifier.fit(X_vector_train, y_reg_test)"
   ]
  },
  {
   "cell_type": "code",
   "execution_count": 182,
   "metadata": {},
   "outputs": [],
   "source": [
    "sgd_multi_predictions = sgd_multi_classifier.predict(X_vector_test)\n",
    "sgd_multi_proba = sgd_multi_classifier.predict_proba(X_vector_test)"
   ]
  },
  {
   "cell_type": "code",
   "execution_count": 183,
   "metadata": {},
   "outputs": [
    {
     "name": "stdout",
     "output_type": "stream",
     "text": [
      "0.3544\n",
      "              precision    recall  f1-score   support\n",
      "\n",
      "           1       0.87      0.38      0.53     11588\n",
      "           2       0.00      0.03      0.00        38\n",
      "           3       0.01      0.16      0.01        87\n",
      "           4       0.01      0.12      0.01       124\n",
      "           7       0.00      0.04      0.00        68\n",
      "           8       0.01      0.13      0.01       147\n",
      "           9       0.00      0.09      0.00        34\n",
      "          10       0.89      0.34      0.50     12914\n",
      "\n",
      "    accuracy                           0.35     25000\n",
      "   macro avg       0.22      0.16      0.13     25000\n",
      "weighted avg       0.86      0.35      0.50     25000\n",
      "\n"
     ]
    }
   ],
   "source": [
    "print(accuracy_score(sgd_multi_predictions, y_reg_test))\n",
    "print(classification_report(sgd_multi_predictions, y_reg_test))"
   ]
  },
  {
   "cell_type": "code",
   "execution_count": 297,
   "metadata": {},
   "outputs": [
    {
     "name": "stderr",
     "output_type": "stream",
     "text": [
      "No handles with labels found to put in legend.\n",
      "No handles with labels found to put in legend.\n",
      "No handles with labels found to put in legend.\n",
      "No handles with labels found to put in legend.\n",
      "No handles with labels found to put in legend.\n",
      "No handles with labels found to put in legend.\n",
      "No handles with labels found to put in legend.\n",
      "No handles with labels found to put in legend.\n"
     ]
    },
    {
     "data": {
      "image/png": "[encoded data removed]",
      "text/plain": [
       "<Figure size 1440x720 with 8 Axes>"
      ]
     },
     "metadata": {
      "needs_background": "light"
     },
     "output_type": "display_data"
    }
   ],
   "source": [
    "sgd_multi_certainty = pd.DataFrame(data=sgd_multi_proba, columns=['1','2','3','4','7','8','9','10'])\n",
    "fig, axes = plt.subplots(nrows=2, ncols=4)\n",
    "fig.set_size_inches(20, 10)\n",
    "for idx, col in enumerate(sgd_multi_certainty.columns):    \n",
    "    row_idx = idx // 4\n",
    "    col_idx = idx % 4    \n",
    "    ax=sns.distplot(sgd_multi_certainty[col], kde=False,\n",
    "                    color='tomato',\n",
    "                    fit=lognorm, fit_kws={'color':'tomato', 'lw':'3'},\n",
    "                    norm_hist=False, ax=axes[row_idx, col_idx])\n",
    "    ax.set_xlim([0,1])"
   ]
  },
  {
   "cell_type": "markdown",
   "metadata": {},
   "source": [
    "### SGD классификатор с логистической регрессией также лучше всего (точнее и увереннее) предсказывает только ДВА класса: наилучшие и наихудшие рейтинги.\n",
    "\n",
    "### Доля верных предсказаний для этих двух классов близка к доле верных предсказаний при бинарной классификации.\n",
    "\n",
    "### Для остальных классов качество предсказания очень низкое!"
   ]
  },
  {
   "cell_type": "code",
   "execution_count": 283,
   "metadata": {},
   "outputs": [],
   "source": [
    "def visualize_multi_coefficients(coef, feature_names, title, plot_num, n_top_features=10):\n",
    "    interesting_coefficients = np.argsort(coef)[-n_top_features:]\n",
    "    row_idx = plot_num // 4\n",
    "    col_idx = plot_num % 4        \n",
    "    ax=plt.subplot(2, 4, plot_num+1)\n",
    "    colors = plt.get_cmap('RdYlGn')(np.linspace(0.7, 0.3, n_top_features))\n",
    "    #colors = ['lightred' for c in coef[interesting_coefficients]]\n",
    "        \n",
    "    feature_names = np.array(feature_names)\n",
    "    plt.barh(np.arange(n_top_features), coef[interesting_coefficients], color=colors)\n",
    "    top_features = feature_names[interesting_coefficients]\n",
    "    for y, word in enumerate(top_features):\n",
    "        ax.text(0.3, y, word, ha='left', va='center', color='black', fontsize=18)   \n",
    "    \n",
    "    plt.yticks([]) \n",
    "    plt.title(title, fontsize=14)"
   ]
  },
  {
   "cell_type": "markdown",
   "metadata": {},
   "source": [
    "### Смотрим наиболее важные для отнесения к класам n-граммы "
   ]
  },
  {
   "cell_type": "code",
   "execution_count": 284,
   "metadata": {},
   "outputs": [
    {
     "data": {
      "image/png": "[encoded data removed]",
      "text/plain": [
       "<Figure size 1440x1440 with 8 Axes>"
      ]
     },
     "metadata": {
      "needs_background": "light"
     },
     "output_type": "display_data"
    }
   ],
   "source": [
    "titles = ['1/10','2/10','3/10','4/10','7/10','8/10','9/10','10/10']\n",
    "plt.figure(figsize=(20, 20))\n",
    "for i in range(8):\n",
    "    visualize_multi_coefficients(sgd_multi_classifier.coef_[i,:], vectorizer.get_feature_names(),\n",
    "                      title=titles[i], plot_num=i)"
   ]
  },
  {
   "cell_type": "markdown",
   "metadata": {},
   "source": [
    "### Видно, что группы классов 1-4 и 7-10 имеют много общих важных n-грамм."
   ]
  },
  {
   "cell_type": "markdown",
   "metadata": {},
   "source": [
    "## <font color=red>ОСНОВНОЙ ВЫВОД: ПОСТРОИТЬ УСПЕШНУЮ МОДЕЛЬ ПРЕДСКАЗАНИЯ РЕЙТИНГА НЕ УДАЛОСЬ.</font>\n",
    "## <font color=red>ОДНАКО, ДОВОЛЬНО УСПЕШНО РАБОТАЕТ МОДЕЛЬ БИНАРНОЙ КЛАССИФИКАЦИИ ОТЗЫВОВ \"ПОЗИТИВНЫЙ/НЕГАТИВНЫЙ\".</font>\n",
    "## СОБСТВЕННО, АВТОРЫ НАБОРА ДАННЫХ В ОПИСАНИИ И ХАРАКТЕРИЗУЮТ ЕГО КАК ПРЕДНАЗНАЧЕННЫЙ ДЛЯ БИНАРНОЙ КЛАССИФИКАЦИИ."
   ]
  }
 ],
 "metadata": {
  "kernelspec": {
   "display_name": "Python 3",
   "language": "python",
   "name": "python3"
  },
  "language_info": {
   "codemirror_mode": {
    "name": "ipython",
    "version": 3
   },
   "file_extension": ".py",
   "mimetype": "text/x-python",
   "name": "python",
   "nbconvert_exporter": "python",
   "pygments_lexer": "ipython3",
   "version": "3.7.4"
  }
 },
 "nbformat": 4,
 "nbformat_minor": 2
}
