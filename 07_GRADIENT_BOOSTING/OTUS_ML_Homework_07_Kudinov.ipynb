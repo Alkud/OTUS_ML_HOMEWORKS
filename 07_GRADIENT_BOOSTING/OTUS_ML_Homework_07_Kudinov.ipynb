{
 "cells": [
  {
   "cell_type": "code",
   "execution_count": 1,
   "metadata": {},
   "outputs": [],
   "source": [
    "import pandas as pd\n",
    "import numpy as np\n",
    "import seaborn as sns\n",
    "import matplotlib.pyplot as plt\n",
    "import os\n",
    "\n",
    "from scipy.io import arff"
   ]
  },
  {
   "cell_type": "markdown",
   "metadata": {},
   "source": [
    "## Диагностика хронического заболевания почек\n",
    "## Набор данных: https://archive.ics.uci.edu/ml/datasets/Chronic_Kidney_Disease\n",
    "_Abstract: This dataset can be used to predict the chronic kidney disease and it can be collected from the hospital nearly 2 months of period._"
   ]
  },
  {
   "cell_type": "code",
   "execution_count": 2,
   "metadata": {},
   "outputs": [],
   "source": [
    "data_file_name = 'chronic_kidney_disease_full.csv'\n",
    "full_data_frame = pd.read_csv(data_file_name)"
   ]
  },
  {
   "cell_type": "code",
   "execution_count": 3,
   "metadata": {},
   "outputs": [
    {
     "data": {
      "text/html": [
       "<div>\n",
       "<style scoped>\n",
       "    .dataframe tbody tr th:only-of-type {\n",
       "        vertical-align: middle;\n",
       "    }\n",
       "\n",
       "    .dataframe tbody tr th {\n",
       "        vertical-align: top;\n",
       "    }\n",
       "\n",
       "    .dataframe thead th {\n",
       "        text-align: right;\n",
       "    }\n",
       "</style>\n",
       "<table border=\"1\" class=\"dataframe\">\n",
       "  <thead>\n",
       "    <tr style=\"text-align: right;\">\n",
       "      <th></th>\n",
       "      <th>age</th>\n",
       "      <th>bp</th>\n",
       "      <th>sg</th>\n",
       "      <th>al</th>\n",
       "      <th>su</th>\n",
       "      <th>rbc</th>\n",
       "      <th>pc</th>\n",
       "      <th>pcc</th>\n",
       "      <th>ba</th>\n",
       "      <th>bgr</th>\n",
       "      <th>...</th>\n",
       "      <th>pcv</th>\n",
       "      <th>wbcc</th>\n",
       "      <th>rbcc</th>\n",
       "      <th>htn</th>\n",
       "      <th>dm</th>\n",
       "      <th>cad</th>\n",
       "      <th>appet</th>\n",
       "      <th>pe</th>\n",
       "      <th>ane</th>\n",
       "      <th>class</th>\n",
       "    </tr>\n",
       "  </thead>\n",
       "  <tbody>\n",
       "    <tr>\n",
       "      <th>0</th>\n",
       "      <td>48.0</td>\n",
       "      <td>80.0</td>\n",
       "      <td>1.020</td>\n",
       "      <td>1.0</td>\n",
       "      <td>0.0</td>\n",
       "      <td>NaN</td>\n",
       "      <td>normal</td>\n",
       "      <td>notpresent</td>\n",
       "      <td>notpresent</td>\n",
       "      <td>121.0</td>\n",
       "      <td>...</td>\n",
       "      <td>44.0</td>\n",
       "      <td>7800.0</td>\n",
       "      <td>5.2</td>\n",
       "      <td>yes</td>\n",
       "      <td>yes</td>\n",
       "      <td>no</td>\n",
       "      <td>good</td>\n",
       "      <td>no</td>\n",
       "      <td>no</td>\n",
       "      <td>ckd</td>\n",
       "    </tr>\n",
       "    <tr>\n",
       "      <th>1</th>\n",
       "      <td>7.0</td>\n",
       "      <td>50.0</td>\n",
       "      <td>1.020</td>\n",
       "      <td>4.0</td>\n",
       "      <td>0.0</td>\n",
       "      <td>NaN</td>\n",
       "      <td>normal</td>\n",
       "      <td>notpresent</td>\n",
       "      <td>notpresent</td>\n",
       "      <td>NaN</td>\n",
       "      <td>...</td>\n",
       "      <td>38.0</td>\n",
       "      <td>6000.0</td>\n",
       "      <td>NaN</td>\n",
       "      <td>no</td>\n",
       "      <td>no</td>\n",
       "      <td>no</td>\n",
       "      <td>good</td>\n",
       "      <td>no</td>\n",
       "      <td>no</td>\n",
       "      <td>ckd</td>\n",
       "    </tr>\n",
       "    <tr>\n",
       "      <th>2</th>\n",
       "      <td>62.0</td>\n",
       "      <td>80.0</td>\n",
       "      <td>1.010</td>\n",
       "      <td>2.0</td>\n",
       "      <td>3.0</td>\n",
       "      <td>normal</td>\n",
       "      <td>normal</td>\n",
       "      <td>notpresent</td>\n",
       "      <td>notpresent</td>\n",
       "      <td>423.0</td>\n",
       "      <td>...</td>\n",
       "      <td>31.0</td>\n",
       "      <td>7500.0</td>\n",
       "      <td>NaN</td>\n",
       "      <td>no</td>\n",
       "      <td>yes</td>\n",
       "      <td>no</td>\n",
       "      <td>poor</td>\n",
       "      <td>no</td>\n",
       "      <td>yes</td>\n",
       "      <td>ckd</td>\n",
       "    </tr>\n",
       "    <tr>\n",
       "      <th>3</th>\n",
       "      <td>48.0</td>\n",
       "      <td>70.0</td>\n",
       "      <td>1.005</td>\n",
       "      <td>4.0</td>\n",
       "      <td>0.0</td>\n",
       "      <td>normal</td>\n",
       "      <td>abnormal</td>\n",
       "      <td>present</td>\n",
       "      <td>notpresent</td>\n",
       "      <td>117.0</td>\n",
       "      <td>...</td>\n",
       "      <td>32.0</td>\n",
       "      <td>6700.0</td>\n",
       "      <td>3.9</td>\n",
       "      <td>yes</td>\n",
       "      <td>no</td>\n",
       "      <td>no</td>\n",
       "      <td>poor</td>\n",
       "      <td>yes</td>\n",
       "      <td>yes</td>\n",
       "      <td>ckd</td>\n",
       "    </tr>\n",
       "    <tr>\n",
       "      <th>4</th>\n",
       "      <td>51.0</td>\n",
       "      <td>80.0</td>\n",
       "      <td>1.010</td>\n",
       "      <td>2.0</td>\n",
       "      <td>0.0</td>\n",
       "      <td>normal</td>\n",
       "      <td>normal</td>\n",
       "      <td>notpresent</td>\n",
       "      <td>notpresent</td>\n",
       "      <td>106.0</td>\n",
       "      <td>...</td>\n",
       "      <td>35.0</td>\n",
       "      <td>7300.0</td>\n",
       "      <td>4.6</td>\n",
       "      <td>no</td>\n",
       "      <td>no</td>\n",
       "      <td>no</td>\n",
       "      <td>good</td>\n",
       "      <td>no</td>\n",
       "      <td>no</td>\n",
       "      <td>ckd</td>\n",
       "    </tr>\n",
       "    <tr>\n",
       "      <th>5</th>\n",
       "      <td>60.0</td>\n",
       "      <td>90.0</td>\n",
       "      <td>1.015</td>\n",
       "      <td>3.0</td>\n",
       "      <td>0.0</td>\n",
       "      <td>NaN</td>\n",
       "      <td>NaN</td>\n",
       "      <td>notpresent</td>\n",
       "      <td>notpresent</td>\n",
       "      <td>74.0</td>\n",
       "      <td>...</td>\n",
       "      <td>39.0</td>\n",
       "      <td>7800.0</td>\n",
       "      <td>4.4</td>\n",
       "      <td>yes</td>\n",
       "      <td>yes</td>\n",
       "      <td>no</td>\n",
       "      <td>good</td>\n",
       "      <td>yes</td>\n",
       "      <td>no</td>\n",
       "      <td>ckd</td>\n",
       "    </tr>\n",
       "    <tr>\n",
       "      <th>6</th>\n",
       "      <td>68.0</td>\n",
       "      <td>70.0</td>\n",
       "      <td>1.010</td>\n",
       "      <td>0.0</td>\n",
       "      <td>0.0</td>\n",
       "      <td>NaN</td>\n",
       "      <td>normal</td>\n",
       "      <td>notpresent</td>\n",
       "      <td>notpresent</td>\n",
       "      <td>100.0</td>\n",
       "      <td>...</td>\n",
       "      <td>36.0</td>\n",
       "      <td>NaN</td>\n",
       "      <td>NaN</td>\n",
       "      <td>no</td>\n",
       "      <td>no</td>\n",
       "      <td>no</td>\n",
       "      <td>good</td>\n",
       "      <td>no</td>\n",
       "      <td>no</td>\n",
       "      <td>ckd</td>\n",
       "    </tr>\n",
       "    <tr>\n",
       "      <th>7</th>\n",
       "      <td>24.0</td>\n",
       "      <td>NaN</td>\n",
       "      <td>1.015</td>\n",
       "      <td>2.0</td>\n",
       "      <td>4.0</td>\n",
       "      <td>normal</td>\n",
       "      <td>abnormal</td>\n",
       "      <td>notpresent</td>\n",
       "      <td>notpresent</td>\n",
       "      <td>410.0</td>\n",
       "      <td>...</td>\n",
       "      <td>44.0</td>\n",
       "      <td>6900.0</td>\n",
       "      <td>5.0</td>\n",
       "      <td>no</td>\n",
       "      <td>yes</td>\n",
       "      <td>no</td>\n",
       "      <td>good</td>\n",
       "      <td>yes</td>\n",
       "      <td>no</td>\n",
       "      <td>ckd</td>\n",
       "    </tr>\n",
       "    <tr>\n",
       "      <th>8</th>\n",
       "      <td>52.0</td>\n",
       "      <td>100.0</td>\n",
       "      <td>1.015</td>\n",
       "      <td>3.0</td>\n",
       "      <td>0.0</td>\n",
       "      <td>normal</td>\n",
       "      <td>abnormal</td>\n",
       "      <td>present</td>\n",
       "      <td>notpresent</td>\n",
       "      <td>138.0</td>\n",
       "      <td>...</td>\n",
       "      <td>33.0</td>\n",
       "      <td>9600.0</td>\n",
       "      <td>4.0</td>\n",
       "      <td>yes</td>\n",
       "      <td>yes</td>\n",
       "      <td>no</td>\n",
       "      <td>good</td>\n",
       "      <td>no</td>\n",
       "      <td>yes</td>\n",
       "      <td>ckd</td>\n",
       "    </tr>\n",
       "    <tr>\n",
       "      <th>9</th>\n",
       "      <td>53.0</td>\n",
       "      <td>90.0</td>\n",
       "      <td>1.020</td>\n",
       "      <td>2.0</td>\n",
       "      <td>0.0</td>\n",
       "      <td>abnormal</td>\n",
       "      <td>abnormal</td>\n",
       "      <td>present</td>\n",
       "      <td>notpresent</td>\n",
       "      <td>70.0</td>\n",
       "      <td>...</td>\n",
       "      <td>29.0</td>\n",
       "      <td>12100.0</td>\n",
       "      <td>3.7</td>\n",
       "      <td>yes</td>\n",
       "      <td>yes</td>\n",
       "      <td>no</td>\n",
       "      <td>poor</td>\n",
       "      <td>no</td>\n",
       "      <td>yes</td>\n",
       "      <td>ckd</td>\n",
       "    </tr>\n",
       "  </tbody>\n",
       "</table>\n",
       "<p>10 rows × 25 columns</p>\n",
       "</div>"
      ],
      "text/plain": [
       "    age     bp     sg   al   su       rbc        pc         pcc          ba  \\\n",
       "0  48.0   80.0  1.020  1.0  0.0       NaN    normal  notpresent  notpresent   \n",
       "1   7.0   50.0  1.020  4.0  0.0       NaN    normal  notpresent  notpresent   \n",
       "2  62.0   80.0  1.010  2.0  3.0    normal    normal  notpresent  notpresent   \n",
       "3  48.0   70.0  1.005  4.0  0.0    normal  abnormal     present  notpresent   \n",
       "4  51.0   80.0  1.010  2.0  0.0    normal    normal  notpresent  notpresent   \n",
       "5  60.0   90.0  1.015  3.0  0.0       NaN       NaN  notpresent  notpresent   \n",
       "6  68.0   70.0  1.010  0.0  0.0       NaN    normal  notpresent  notpresent   \n",
       "7  24.0    NaN  1.015  2.0  4.0    normal  abnormal  notpresent  notpresent   \n",
       "8  52.0  100.0  1.015  3.0  0.0    normal  abnormal     present  notpresent   \n",
       "9  53.0   90.0  1.020  2.0  0.0  abnormal  abnormal     present  notpresent   \n",
       "\n",
       "     bgr  ...   pcv     wbcc  rbcc  htn   dm  cad  appet   pe  ane class  \n",
       "0  121.0  ...  44.0   7800.0   5.2  yes  yes   no   good   no   no   ckd  \n",
       "1    NaN  ...  38.0   6000.0   NaN   no   no   no   good   no   no   ckd  \n",
       "2  423.0  ...  31.0   7500.0   NaN   no  yes   no   poor   no  yes   ckd  \n",
       "3  117.0  ...  32.0   6700.0   3.9  yes   no   no   poor  yes  yes   ckd  \n",
       "4  106.0  ...  35.0   7300.0   4.6   no   no   no   good   no   no   ckd  \n",
       "5   74.0  ...  39.0   7800.0   4.4  yes  yes   no   good  yes   no   ckd  \n",
       "6  100.0  ...  36.0      NaN   NaN   no   no   no   good   no   no   ckd  \n",
       "7  410.0  ...  44.0   6900.0   5.0   no  yes   no   good  yes   no   ckd  \n",
       "8  138.0  ...  33.0   9600.0   4.0  yes  yes   no   good   no  yes   ckd  \n",
       "9   70.0  ...  29.0  12100.0   3.7  yes  yes   no   poor   no  yes   ckd  \n",
       "\n",
       "[10 rows x 25 columns]"
      ]
     },
     "execution_count": 3,
     "metadata": {},
     "output_type": "execute_result"
    }
   ],
   "source": [
    "full_data_frame.head(10)"
   ]
  },
  {
   "cell_type": "markdown",
   "metadata": {},
   "source": [
    "<a id=\"Описание набора данных\"> </a>\n",
    "\n",
    "### Описание набора данных\n",
    "\n",
    "| # | Full name | Type | Short name | Description |\n",
    "| -- | -- | -- | -- | -- |\n",
    "| 1 | Age | numerical | age | in years |\n",
    "| 2 | Blood Pressure | numerical | bp | in mm/Hg |\n",
    "| 3 | Specific Gravity | nominal  | sg | 1.005, 1.010, 1.015, 1.020, 1.025 |\n",
    "|4 | Albumin | nominal |  al | 0, 1, 2, 3, 4, 5 |\n",
    "| 5 | Sugar | nominal | su | 0, 1, 2, 3, 4, 5 |\n",
    "|6 | Red Blood Cells |nominal | rbc | normal, abnormal |\n",
    "|7 | Pus Cell | nominal | pc | normal, abnormal |\n",
    "|8 | Pus Cell clumps | nominal | pcc | present, notpresent |\n",
    "|9 | Bacteria | nominal | ba | present, notpresent |\n",
    "|10 | Blood Glucose Random | numerical | bgr | in mgs/dl |\n",
    "|11 | Blood Urea | numerical | bu | in mgs/dl |\n",
    "|12 | Serum Creatinine | numerical | sc | in mgs/dl |\n",
    "|13 | Sodium | numerical | sod | in mEq/L |\n",
    "|14 | Potassium | numerical | pot | in mEq/L |\n",
    "|15 | Hemoglobin | numerical | hemo | in gms |\n",
    "|16 | Packed Cell Volume | numerical |  pcv | |\n",
    "|17 | White Blood Cell Count | numerical | wbcc | in cells/cumm |\n",
    "|18 | Red Blood Cell Count | numerical | rbcc | in millions/cmm |\n",
    "|19 | Hypertension | nominal | htn | yes, no |\n",
    "|20 | Diabetes Mellitus | nominal | dm | yes, no |\n",
    "|21 | Coronary Artery Disease | nominal | cad | yes, no |\n",
    "|22 | Appetite | nominal | appet | good, poor |\n",
    "|23 | Pedal Edema | nominal | pe | yes, no |\n",
    "|24 | Anemia | nominal | ane | yes, no |\n",
    "|25 | __Class__ | __nominal__ | __class__ | __ckd, notckd__ |"
   ]
  },
  {
   "cell_type": "markdown",
   "metadata": {},
   "source": [
    "## 1. Анализ данных"
   ]
  },
  {
   "cell_type": "code",
   "execution_count": 4,
   "metadata": {},
   "outputs": [
    {
     "name": "stdout",
     "output_type": "stream",
     "text": [
      "<class 'pandas.core.frame.DataFrame'>\n",
      "RangeIndex: 400 entries, 0 to 399\n",
      "Data columns (total 25 columns):\n",
      "age      391 non-null float64\n",
      "bp       388 non-null float64\n",
      "sg       353 non-null float64\n",
      "al       354 non-null float64\n",
      "su       351 non-null float64\n",
      "rbc      248 non-null object\n",
      "pc       335 non-null object\n",
      "pcc      396 non-null object\n",
      "ba       396 non-null object\n",
      "bgr      356 non-null float64\n",
      "bu       381 non-null float64\n",
      "sc       383 non-null float64\n",
      "sod      313 non-null float64\n",
      "pot      312 non-null float64\n",
      "hemo     348 non-null float64\n",
      "pcv      329 non-null float64\n",
      "wbcc     294 non-null float64\n",
      "rbcc     269 non-null float64\n",
      "htn      398 non-null object\n",
      "dm       398 non-null object\n",
      "cad      398 non-null object\n",
      "appet    399 non-null object\n",
      "pe       399 non-null object\n",
      "ane      399 non-null object\n",
      "class    400 non-null object\n",
      "dtypes: float64(14), object(11)\n",
      "memory usage: 78.2+ KB\n"
     ]
    }
   ],
   "source": [
    "full_data_frame.info()"
   ]
  },
  {
   "cell_type": "markdown",
   "metadata": {},
   "source": [
    "## Пропущенные значения"
   ]
  },
  {
   "cell_type": "code",
   "execution_count": 5,
   "metadata": {},
   "outputs": [
    {
     "data": {
      "text/plain": [
       "rbc      0.6200\n",
       "rbcc     0.6725\n",
       "wbcc     0.7350\n",
       "pot      0.7800\n",
       "sod      0.7825\n",
       "pcv      0.8225\n",
       "pc       0.8375\n",
       "hemo     0.8700\n",
       "su       0.8775\n",
       "sg       0.8825\n",
       "al       0.8850\n",
       "bgr      0.8900\n",
       "bu       0.9525\n",
       "sc       0.9575\n",
       "bp       0.9700\n",
       "age      0.9775\n",
       "ba       0.9900\n",
       "pcc      0.9900\n",
       "htn      0.9950\n",
       "dm       0.9950\n",
       "cad      0.9950\n",
       "appet    0.9975\n",
       "pe       0.9975\n",
       "ane      0.9975\n",
       "class    1.0000\n",
       "dtype: float64"
      ]
     },
     "execution_count": 5,
     "metadata": {},
     "output_type": "execute_result"
    }
   ],
   "source": [
    "full_data_frame.count().sort_values()/len(full_data_frame)"
   ]
  },
  {
   "cell_type": "markdown",
   "metadata": {},
   "source": [
    "### В категориальном параметре rbc  больше трети пропущенных значений. Замена их по простому правилу, например, наиболее частым значением, представляется нецелесообразным. Отбросить этот параметр тоже не хотелось бы - данных, в целом, и так не много.\n",
    "### В параметрах rbcc, wbcc, pot, sod также много пропущенных значений.\n",
    "### Используем алгоритм Iterative imputer, вычисляющий значения пропущенных переменных на основании значений других параметров.\n",
    "### Отсутствующие значения численных параметров заполним медианными значениями."
   ]
  },
  {
   "cell_type": "code",
   "execution_count": 6,
   "metadata": {},
   "outputs": [],
   "source": [
    "from sklearn.experimental import enable_iterative_imputer\n",
    "from sklearn.impute import IterativeImputer"
   ]
  },
  {
   "cell_type": "code",
   "execution_count": 7,
   "metadata": {},
   "outputs": [],
   "source": [
    "smart_imputer = IterativeImputer(max_iter=10, random_state=1812, initial_strategy='most_frequent')"
   ]
  },
  {
   "cell_type": "markdown",
   "metadata": {},
   "source": [
    "### Для обучения алгоритма нужно перекодировать все номинативные параметры.\n",
    "### Большинство из них принимают лишь два каких-то значения, используем one-hot кодирование."
   ]
  },
  {
   "cell_type": "code",
   "execution_count": 8,
   "metadata": {},
   "outputs": [
    {
     "data": {
      "text/plain": [
       "Index(['age', 'bp', 'sg', 'al', 'su', 'rbc', 'pc', 'pcc', 'ba', 'bgr', 'bu',\n",
       "       'sc', 'sod', 'pot', 'hemo', 'pcv', 'wbcc', 'rbcc', 'htn', 'dm', 'cad',\n",
       "       'appet', 'pe', 'ane', 'class'],\n",
       "      dtype='object')"
      ]
     },
     "execution_count": 8,
     "metadata": {},
     "output_type": "execute_result"
    }
   ],
   "source": [
    "full_data_frame.columns"
   ]
  },
  {
   "cell_type": "code",
   "execution_count": 9,
   "metadata": {},
   "outputs": [],
   "source": [
    "nominal_parameters = ['sg', 'al', 'su', 'rbc', 'pc', 'pcc', 'ba', 'htn', 'dm', 'cad', 'appet', 'pe', 'ane', 'class']\n",
    "encodable_parameters = ['sg', 'al', 'su', 'rbc', 'pc', 'pcc', 'ba', 'htn', 'dm', 'cad', 'appet', 'pe', 'ane']\n",
    "numerical_parameters = ['age', 'bp', 'bgr', 'bu', 'sc', 'sod', 'pot', 'hemo', 'pcv', 'wbcc', 'rbcc']"
   ]
  },
  {
   "cell_type": "code",
   "execution_count": 10,
   "metadata": {},
   "outputs": [
    {
     "data": {
      "text/plain": [
       "IterativeImputer(add_indicator=False, estimator=None,\n",
       "                 imputation_order='ascending', initial_strategy='most_frequent',\n",
       "                 max_iter=10, max_value=None, min_value=None,\n",
       "                 missing_values=nan, n_nearest_features=None, random_state=1812,\n",
       "                 sample_posterior=False, tol=0.001, verbose=0)"
      ]
     },
     "execution_count": 10,
     "metadata": {},
     "output_type": "execute_result"
    }
   ],
   "source": [
    "full_encoded = pd.get_dummies(full_data_frame, drop_first=True, columns=encodable_parameters)\n",
    "full_encoded['class'] = full_encoded['class'].apply(lambda x: 1 if x == 'ckd' else 0)\n",
    "smart_imputer.fit(full_encoded)"
   ]
  },
  {
   "cell_type": "code",
   "execution_count": 11,
   "metadata": {},
   "outputs": [
    {
     "name": "stdout",
     "output_type": "stream",
     "text": [
      "<class 'pandas.core.frame.DataFrame'>\n",
      "RangeIndex: 400 entries, 0 to 399\n",
      "Data columns (total 36 columns):\n",
      "age            391 non-null float64\n",
      "bp             388 non-null float64\n",
      "bgr            356 non-null float64\n",
      "bu             381 non-null float64\n",
      "sc             383 non-null float64\n",
      "sod            313 non-null float64\n",
      "pot            312 non-null float64\n",
      "hemo           348 non-null float64\n",
      "pcv            329 non-null float64\n",
      "wbcc           294 non-null float64\n",
      "rbcc           269 non-null float64\n",
      "class          400 non-null int64\n",
      "sg_1.01        400 non-null uint8\n",
      "sg_1.015       400 non-null uint8\n",
      "sg_1.02        400 non-null uint8\n",
      "sg_1.025       400 non-null uint8\n",
      "al_1.0         400 non-null uint8\n",
      "al_2.0         400 non-null uint8\n",
      "al_3.0         400 non-null uint8\n",
      "al_4.0         400 non-null uint8\n",
      "al_5.0         400 non-null uint8\n",
      "su_1.0         400 non-null uint8\n",
      "su_2.0         400 non-null uint8\n",
      "su_3.0         400 non-null uint8\n",
      "su_4.0         400 non-null uint8\n",
      "su_5.0         400 non-null uint8\n",
      "rbc_normal     400 non-null uint8\n",
      "pc_normal      400 non-null uint8\n",
      "pcc_present    400 non-null uint8\n",
      "ba_present     400 non-null uint8\n",
      "htn_yes        400 non-null uint8\n",
      "dm_yes         400 non-null uint8\n",
      "cad_yes        400 non-null uint8\n",
      "appet_poor     400 non-null uint8\n",
      "pe_yes         400 non-null uint8\n",
      "ane_yes        400 non-null uint8\n",
      "dtypes: float64(11), int64(1), uint8(24)\n",
      "memory usage: 47.0 KB\n"
     ]
    }
   ],
   "source": [
    "full_encoded.info()"
   ]
  },
  {
   "cell_type": "code",
   "execution_count": 12,
   "metadata": {},
   "outputs": [
    {
     "data": {
      "text/plain": [
       "Index(['age', 'bp', 'bgr', 'bu', 'sc', 'sod', 'pot', 'hemo', 'pcv', 'wbcc',\n",
       "       'rbcc', 'class', 'sg_1.01', 'sg_1.015', 'sg_1.02', 'sg_1.025', 'al_1.0',\n",
       "       'al_2.0', 'al_3.0', 'al_4.0', 'al_5.0', 'su_1.0', 'su_2.0', 'su_3.0',\n",
       "       'su_4.0', 'su_5.0', 'rbc_normal', 'pc_normal', 'pcc_present',\n",
       "       'ba_present', 'htn_yes', 'dm_yes', 'cad_yes', 'appet_poor', 'pe_yes',\n",
       "       'ane_yes'],\n",
       "      dtype='object')"
      ]
     },
     "execution_count": 12,
     "metadata": {},
     "output_type": "execute_result"
    }
   ],
   "source": [
    "full_encoded.columns"
   ]
  },
  {
   "cell_type": "code",
   "execution_count": 13,
   "metadata": {},
   "outputs": [],
   "source": [
    "nominal_parameters = [\n",
    "    'class',\n",
    "    'sg_1.01', 'sg_1.015', 'sg_1.02', 'sg_1.025',\n",
    "    'al_1.0', 'al_2.0', 'al_3.0', 'al_4.0', 'al_5.0',\n",
    "    'su_1.0', 'su_2.0', 'su_3.0', 'su_4.0', 'su_5.0',\n",
    "    'rbc_normal',\n",
    "    'pc_normal',\n",
    "    'pcc_present',\n",
    "    'ba_present',\n",
    "    'htn_yes',\n",
    "    'dm_yes',\n",
    "    'cad_yes',\n",
    "    'appet_poor',\n",
    "    'pe_yes',\n",
    "    'ane_yes'\n",
    "]\n",
    "encodable_parameters = [\n",
    "    'sg_1.01', 'sg_1.015', 'sg_1.02', 'sg_1.025',\n",
    "    'al_1.0', 'al_2.0', 'al_3.0', 'al_4.0', 'al_5.0',\n",
    "    'su_1.0', 'su_2.0', 'su_3.0', 'su_4.0', 'su_5.0',\n",
    "    'rbc_normal',\n",
    "    'pc_normal',\n",
    "    'pcc_present',\n",
    "    'ba_present',\n",
    "    'htn_yes',\n",
    "    'dm_yes',\n",
    "    'cad_yes',\n",
    "    'appet_poor',\n",
    "    'pe_yes',\n",
    "    'ane_yes'\n",
    "]"
   ]
  },
  {
   "cell_type": "code",
   "execution_count": 14,
   "metadata": {},
   "outputs": [],
   "source": [
    "imputed_data = full_encoded.fillna(pd.DataFrame(smart_imputer.transform(full_encoded), columns=full_encoded.columns))"
   ]
  },
  {
   "cell_type": "code",
   "execution_count": 15,
   "metadata": {
    "scrolled": true
   },
   "outputs": [
    {
     "name": "stdout",
     "output_type": "stream",
     "text": [
      "<class 'pandas.core.frame.DataFrame'>\n",
      "RangeIndex: 400 entries, 0 to 399\n",
      "Data columns (total 36 columns):\n",
      "age            400 non-null float64\n",
      "bp             400 non-null float64\n",
      "bgr            400 non-null float64\n",
      "bu             400 non-null float64\n",
      "sc             400 non-null float64\n",
      "sod            400 non-null float64\n",
      "pot            400 non-null float64\n",
      "hemo           400 non-null float64\n",
      "pcv            400 non-null float64\n",
      "wbcc           400 non-null float64\n",
      "rbcc           400 non-null float64\n",
      "class          400 non-null int64\n",
      "sg_1.01        400 non-null uint8\n",
      "sg_1.015       400 non-null uint8\n",
      "sg_1.02        400 non-null uint8\n",
      "sg_1.025       400 non-null uint8\n",
      "al_1.0         400 non-null uint8\n",
      "al_2.0         400 non-null uint8\n",
      "al_3.0         400 non-null uint8\n",
      "al_4.0         400 non-null uint8\n",
      "al_5.0         400 non-null uint8\n",
      "su_1.0         400 non-null uint8\n",
      "su_2.0         400 non-null uint8\n",
      "su_3.0         400 non-null uint8\n",
      "su_4.0         400 non-null uint8\n",
      "su_5.0         400 non-null uint8\n",
      "rbc_normal     400 non-null uint8\n",
      "pc_normal      400 non-null uint8\n",
      "pcc_present    400 non-null uint8\n",
      "ba_present     400 non-null uint8\n",
      "htn_yes        400 non-null uint8\n",
      "dm_yes         400 non-null uint8\n",
      "cad_yes        400 non-null uint8\n",
      "appet_poor     400 non-null uint8\n",
      "pe_yes         400 non-null uint8\n",
      "ane_yes        400 non-null uint8\n",
      "dtypes: float64(11), int64(1), uint8(24)\n",
      "memory usage: 47.0 KB\n"
     ]
    }
   ],
   "source": [
    "imputed_data.info()"
   ]
  },
  {
   "cell_type": "code",
   "execution_count": 16,
   "metadata": {
    "scrolled": true
   },
   "outputs": [
    {
     "name": "stdout",
     "output_type": "stream",
     "text": [
      "<class 'pandas.core.frame.DataFrame'>\n",
      "RangeIndex: 400 entries, 0 to 399\n",
      "Data columns (total 36 columns):\n",
      "age            391 non-null float64\n",
      "bp             388 non-null float64\n",
      "bgr            356 non-null float64\n",
      "bu             381 non-null float64\n",
      "sc             383 non-null float64\n",
      "sod            400 non-null float64\n",
      "pot            400 non-null float64\n",
      "hemo           348 non-null float64\n",
      "pcv            329 non-null float64\n",
      "wbcc           400 non-null float64\n",
      "rbcc           400 non-null float64\n",
      "class          400 non-null int64\n",
      "sg_1.01        400 non-null uint8\n",
      "sg_1.015       400 non-null uint8\n",
      "sg_1.02        400 non-null uint8\n",
      "sg_1.025       400 non-null uint8\n",
      "al_1.0         400 non-null uint8\n",
      "al_2.0         400 non-null uint8\n",
      "al_3.0         400 non-null uint8\n",
      "al_4.0         400 non-null uint8\n",
      "al_5.0         400 non-null uint8\n",
      "su_1.0         400 non-null uint8\n",
      "su_2.0         400 non-null uint8\n",
      "su_3.0         400 non-null uint8\n",
      "su_4.0         400 non-null uint8\n",
      "su_5.0         400 non-null uint8\n",
      "rbc_normal     400 non-null uint8\n",
      "pc_normal      400 non-null uint8\n",
      "pcc_present    400 non-null uint8\n",
      "ba_present     400 non-null uint8\n",
      "htn_yes        400 non-null uint8\n",
      "dm_yes         400 non-null uint8\n",
      "cad_yes        400 non-null uint8\n",
      "appet_poor     400 non-null uint8\n",
      "pe_yes         400 non-null uint8\n",
      "ane_yes        400 non-null uint8\n",
      "dtypes: float64(11), int64(1), uint8(24)\n",
      "memory usage: 47.0 KB\n"
     ]
    }
   ],
   "source": [
    "processed_data = full_encoded\n",
    "processed_data['rbc_normal'] = imputed_data['rbc_normal']\n",
    "processed_data['rbcc'] = imputed_data['rbcc']\n",
    "processed_data['wbcc'] = imputed_data['wbcc']\n",
    "processed_data['pot'] = imputed_data['pot']\n",
    "processed_data['sod'] = imputed_data['sod']\n",
    "processed_data.info()"
   ]
  },
  {
   "cell_type": "markdown",
   "metadata": {},
   "source": [
    "### Для замены отсутствующих численных значений нужно оценить медианы параметров. Для более адекватной оценки избавимся от \"выбросов\"."
   ]
  },
  {
   "cell_type": "code",
   "execution_count": 17,
   "metadata": {},
   "outputs": [
    {
     "data": {
      "text/html": [
       "<div>\n",
       "<style scoped>\n",
       "    .dataframe tbody tr th:only-of-type {\n",
       "        vertical-align: middle;\n",
       "    }\n",
       "\n",
       "    .dataframe tbody tr th {\n",
       "        vertical-align: top;\n",
       "    }\n",
       "\n",
       "    .dataframe thead th {\n",
       "        text-align: right;\n",
       "    }\n",
       "</style>\n",
       "<table border=\"1\" class=\"dataframe\">\n",
       "  <thead>\n",
       "    <tr style=\"text-align: right;\">\n",
       "      <th></th>\n",
       "      <th>count</th>\n",
       "      <th>mean</th>\n",
       "      <th>std</th>\n",
       "      <th>min</th>\n",
       "      <th>25%</th>\n",
       "      <th>50%</th>\n",
       "      <th>75%</th>\n",
       "      <th>max</th>\n",
       "    </tr>\n",
       "  </thead>\n",
       "  <tbody>\n",
       "    <tr>\n",
       "      <th>age</th>\n",
       "      <td>391.0</td>\n",
       "      <td>51.483376</td>\n",
       "      <td>17.169714</td>\n",
       "      <td>2.000000</td>\n",
       "      <td>42.000000</td>\n",
       "      <td>55.000000</td>\n",
       "      <td>64.5</td>\n",
       "      <td>90.0</td>\n",
       "    </tr>\n",
       "    <tr>\n",
       "      <th>bp</th>\n",
       "      <td>388.0</td>\n",
       "      <td>76.469072</td>\n",
       "      <td>13.683637</td>\n",
       "      <td>50.000000</td>\n",
       "      <td>70.000000</td>\n",
       "      <td>80.000000</td>\n",
       "      <td>80.0</td>\n",
       "      <td>180.0</td>\n",
       "    </tr>\n",
       "    <tr>\n",
       "      <th>bgr</th>\n",
       "      <td>356.0</td>\n",
       "      <td>148.036517</td>\n",
       "      <td>79.281714</td>\n",
       "      <td>22.000000</td>\n",
       "      <td>99.000000</td>\n",
       "      <td>121.000000</td>\n",
       "      <td>163.0</td>\n",
       "      <td>490.0</td>\n",
       "    </tr>\n",
       "    <tr>\n",
       "      <th>bu</th>\n",
       "      <td>381.0</td>\n",
       "      <td>57.425722</td>\n",
       "      <td>50.503006</td>\n",
       "      <td>1.500000</td>\n",
       "      <td>27.000000</td>\n",
       "      <td>42.000000</td>\n",
       "      <td>66.0</td>\n",
       "      <td>391.0</td>\n",
       "    </tr>\n",
       "    <tr>\n",
       "      <th>sc</th>\n",
       "      <td>383.0</td>\n",
       "      <td>3.072454</td>\n",
       "      <td>5.741126</td>\n",
       "      <td>0.400000</td>\n",
       "      <td>0.900000</td>\n",
       "      <td>1.300000</td>\n",
       "      <td>2.8</td>\n",
       "      <td>76.0</td>\n",
       "    </tr>\n",
       "    <tr>\n",
       "      <th>sod</th>\n",
       "      <td>400.0</td>\n",
       "      <td>137.349680</td>\n",
       "      <td>9.948735</td>\n",
       "      <td>4.500000</td>\n",
       "      <td>135.000000</td>\n",
       "      <td>138.000000</td>\n",
       "      <td>141.0</td>\n",
       "      <td>163.0</td>\n",
       "    </tr>\n",
       "    <tr>\n",
       "      <th>pot</th>\n",
       "      <td>400.0</td>\n",
       "      <td>4.547006</td>\n",
       "      <td>2.864228</td>\n",
       "      <td>-0.420019</td>\n",
       "      <td>3.800000</td>\n",
       "      <td>4.385327</td>\n",
       "      <td>4.9</td>\n",
       "      <td>47.0</td>\n",
       "    </tr>\n",
       "    <tr>\n",
       "      <th>hemo</th>\n",
       "      <td>348.0</td>\n",
       "      <td>12.526437</td>\n",
       "      <td>2.912587</td>\n",
       "      <td>3.100000</td>\n",
       "      <td>10.300000</td>\n",
       "      <td>12.650000</td>\n",
       "      <td>15.0</td>\n",
       "      <td>17.8</td>\n",
       "    </tr>\n",
       "    <tr>\n",
       "      <th>pcv</th>\n",
       "      <td>329.0</td>\n",
       "      <td>38.884498</td>\n",
       "      <td>8.990105</td>\n",
       "      <td>9.000000</td>\n",
       "      <td>32.000000</td>\n",
       "      <td>40.000000</td>\n",
       "      <td>45.0</td>\n",
       "      <td>54.0</td>\n",
       "    </tr>\n",
       "    <tr>\n",
       "      <th>wbcc</th>\n",
       "      <td>400.0</td>\n",
       "      <td>8429.240364</td>\n",
       "      <td>2531.497270</td>\n",
       "      <td>2200.000000</td>\n",
       "      <td>6975.000000</td>\n",
       "      <td>8300.000000</td>\n",
       "      <td>9400.0</td>\n",
       "      <td>26400.0</td>\n",
       "    </tr>\n",
       "    <tr>\n",
       "      <th>rbcc</th>\n",
       "      <td>400.0</td>\n",
       "      <td>4.567810</td>\n",
       "      <td>0.935362</td>\n",
       "      <td>2.100000</td>\n",
       "      <td>3.900512</td>\n",
       "      <td>4.587582</td>\n",
       "      <td>5.2</td>\n",
       "      <td>8.0</td>\n",
       "    </tr>\n",
       "  </tbody>\n",
       "</table>\n",
       "</div>"
      ],
      "text/plain": [
       "      count         mean          std          min          25%          50%  \\\n",
       "age   391.0    51.483376    17.169714     2.000000    42.000000    55.000000   \n",
       "bp    388.0    76.469072    13.683637    50.000000    70.000000    80.000000   \n",
       "bgr   356.0   148.036517    79.281714    22.000000    99.000000   121.000000   \n",
       "bu    381.0    57.425722    50.503006     1.500000    27.000000    42.000000   \n",
       "sc    383.0     3.072454     5.741126     0.400000     0.900000     1.300000   \n",
       "sod   400.0   137.349680     9.948735     4.500000   135.000000   138.000000   \n",
       "pot   400.0     4.547006     2.864228    -0.420019     3.800000     4.385327   \n",
       "hemo  348.0    12.526437     2.912587     3.100000    10.300000    12.650000   \n",
       "pcv   329.0    38.884498     8.990105     9.000000    32.000000    40.000000   \n",
       "wbcc  400.0  8429.240364  2531.497270  2200.000000  6975.000000  8300.000000   \n",
       "rbcc  400.0     4.567810     0.935362     2.100000     3.900512     4.587582   \n",
       "\n",
       "         75%      max  \n",
       "age     64.5     90.0  \n",
       "bp      80.0    180.0  \n",
       "bgr    163.0    490.0  \n",
       "bu      66.0    391.0  \n",
       "sc       2.8     76.0  \n",
       "sod    141.0    163.0  \n",
       "pot      4.9     47.0  \n",
       "hemo    15.0     17.8  \n",
       "pcv     45.0     54.0  \n",
       "wbcc  9400.0  26400.0  \n",
       "rbcc     5.2      8.0  "
      ]
     },
     "execution_count": 17,
     "metadata": {},
     "output_type": "execute_result"
    }
   ],
   "source": [
    "processed_data[numerical_parameters].describe().T"
   ]
  },
  {
   "cell_type": "code",
   "execution_count": 18,
   "metadata": {},
   "outputs": [
    {
     "data": {
      "text/plain": [
       "array([[<matplotlib.axes._subplots.AxesSubplot object at 0x00000090D346FAC8>,\n",
       "        <matplotlib.axes._subplots.AxesSubplot object at 0x00000090D34DE550>,\n",
       "        <matplotlib.axes._subplots.AxesSubplot object at 0x00000090D3506AC8>],\n",
       "       [<matplotlib.axes._subplots.AxesSubplot object at 0x00000090D3537080>,\n",
       "        <matplotlib.axes._subplots.AxesSubplot object at 0x00000090D355C5F8>,\n",
       "        <matplotlib.axes._subplots.AxesSubplot object at 0x00000090D3585B70>],\n",
       "       [<matplotlib.axes._subplots.AxesSubplot object at 0x00000090D35ACF60>,\n",
       "        <matplotlib.axes._subplots.AxesSubplot object at 0x00000090D35DA550>,\n",
       "        <matplotlib.axes._subplots.AxesSubplot object at 0x00000090D35DA588>],\n",
       "       [<matplotlib.axes._subplots.AxesSubplot object at 0x00000090D3633048>,\n",
       "        <matplotlib.axes._subplots.AxesSubplot object at 0x00000090D36585C0>,\n",
       "        <matplotlib.axes._subplots.AxesSubplot object at 0x00000090D367FB38>]],\n",
       "      dtype=object)"
      ]
     },
     "execution_count": 18,
     "metadata": {},
     "output_type": "execute_result"
    },
    {
     "data": {
      "image/png": "[encoded data removed]",
      "text/plain": [
       "<Figure size 1440x1440 with 12 Axes>"
      ]
     },
     "metadata": {
      "needs_background": "light"
     },
     "output_type": "display_data"
    }
   ],
   "source": [
    "processed_data[numerical_parameters].hist(bins=20, figsize=(20, 20))"
   ]
  },
  {
   "cell_type": "code",
   "execution_count": 19,
   "metadata": {},
   "outputs": [],
   "source": [
    "def outlier_detect_mean_std(data,col,threshold=3):\n",
    "    Upper_fence = data[col].mean() + threshold * data[col].std()\n",
    "    Lower_fence = data[col].mean() - threshold * data[col].std()   \n",
    "    para = (Upper_fence, Lower_fence)   \n",
    "    tmp = pd.concat([data[col]>Upper_fence,data[col]<Lower_fence],axis=1)\n",
    "    outlier_index = tmp.any(axis=1)\n",
    "    #print('Количество выбросов в данных:',outlier_index.value_counts()[1])\n",
    "    #print('Доля выбросов:',outlier_index.value_counts()[1]/len(outlier_index))\n",
    "    return outlier_index, para"
   ]
  },
  {
   "cell_type": "code",
   "execution_count": 20,
   "metadata": {},
   "outputs": [],
   "source": [
    "def multi_mean_std_outlier(data, columns=[], threshold=3):\n",
    "    if len(columns)==0:\n",
    "        columns = data.columns.to_list()\n",
    "    result = pd.DataFrame()\n",
    "    outlier_indices = None\n",
    "    outlier_fences = {k:[] for k in columns}\n",
    "    for col in columns:        \n",
    "        index, fences = outlier_detect_mean_std(data, col, threshold)        \n",
    "        if len(index.value_counts()) > 1:            \n",
    "            outliers_absolute_count = index.value_counts()[1]\n",
    "        else:\n",
    "            outliers_absolute_count = 0\n",
    "        outliers_relative_count = outliers_absolute_count / len(index)\n",
    "        if outlier_indices is None:\n",
    "            outlier_indices = data[index].index\n",
    "        else:\n",
    "            outlier_indices = outlier_indices.union(data[index].index)\n",
    "        outlier_fences[col].append(fences[0])\n",
    "        outlier_fences[col].append(fences[1])\n",
    "        outlier_fences[col].append(outliers_absolute_count)\n",
    "        outlier_fences[col].append(outliers_relative_count)\n",
    "    fences_df = pd.DataFrame(data=outlier_fences, index=['upper_fence', 'lower_fence', 'outliers_total', 'outliers_relative'])\n",
    "    return outlier_indices, fences_df"
   ]
  },
  {
   "cell_type": "code",
   "execution_count": 21,
   "metadata": {},
   "outputs": [
    {
     "data": {
      "text/html": [
       "<div>\n",
       "<style scoped>\n",
       "    .dataframe tbody tr th:only-of-type {\n",
       "        vertical-align: middle;\n",
       "    }\n",
       "\n",
       "    .dataframe tbody tr th {\n",
       "        vertical-align: top;\n",
       "    }\n",
       "\n",
       "    .dataframe thead th {\n",
       "        text-align: right;\n",
       "    }\n",
       "</style>\n",
       "<table border=\"1\" class=\"dataframe\">\n",
       "  <thead>\n",
       "    <tr style=\"text-align: right;\">\n",
       "      <th></th>\n",
       "      <th>upper_fence</th>\n",
       "      <th>lower_fence</th>\n",
       "      <th>outliers_total</th>\n",
       "      <th>outliers_relative</th>\n",
       "    </tr>\n",
       "  </thead>\n",
       "  <tbody>\n",
       "    <tr>\n",
       "      <th>age</th>\n",
       "      <td>102.992518</td>\n",
       "      <td>-0.025766</td>\n",
       "      <td>0.0</td>\n",
       "      <td>0.0000</td>\n",
       "    </tr>\n",
       "    <tr>\n",
       "      <th>bp</th>\n",
       "      <td>117.519985</td>\n",
       "      <td>35.418160</td>\n",
       "      <td>3.0</td>\n",
       "      <td>0.0075</td>\n",
       "    </tr>\n",
       "    <tr>\n",
       "      <th>bgr</th>\n",
       "      <td>385.881660</td>\n",
       "      <td>-89.808626</td>\n",
       "      <td>10.0</td>\n",
       "      <td>0.0250</td>\n",
       "    </tr>\n",
       "    <tr>\n",
       "      <th>bu</th>\n",
       "      <td>208.934739</td>\n",
       "      <td>-94.083296</td>\n",
       "      <td>9.0</td>\n",
       "      <td>0.0225</td>\n",
       "    </tr>\n",
       "    <tr>\n",
       "      <th>sc</th>\n",
       "      <td>20.295833</td>\n",
       "      <td>-14.150924</td>\n",
       "      <td>4.0</td>\n",
       "      <td>0.0100</td>\n",
       "    </tr>\n",
       "    <tr>\n",
       "      <th>sod</th>\n",
       "      <td>167.195884</td>\n",
       "      <td>107.503475</td>\n",
       "      <td>3.0</td>\n",
       "      <td>0.0075</td>\n",
       "    </tr>\n",
       "    <tr>\n",
       "      <th>pot</th>\n",
       "      <td>13.139691</td>\n",
       "      <td>-4.045679</td>\n",
       "      <td>2.0</td>\n",
       "      <td>0.0050</td>\n",
       "    </tr>\n",
       "    <tr>\n",
       "      <th>hemo</th>\n",
       "      <td>21.264197</td>\n",
       "      <td>3.788677</td>\n",
       "      <td>1.0</td>\n",
       "      <td>0.0025</td>\n",
       "    </tr>\n",
       "    <tr>\n",
       "      <th>pcv</th>\n",
       "      <td>65.854813</td>\n",
       "      <td>11.914184</td>\n",
       "      <td>1.0</td>\n",
       "      <td>0.0025</td>\n",
       "    </tr>\n",
       "    <tr>\n",
       "      <th>wbcc</th>\n",
       "      <td>16023.732174</td>\n",
       "      <td>834.748554</td>\n",
       "      <td>6.0</td>\n",
       "      <td>0.0150</td>\n",
       "    </tr>\n",
       "    <tr>\n",
       "      <th>rbcc</th>\n",
       "      <td>7.373896</td>\n",
       "      <td>1.761723</td>\n",
       "      <td>1.0</td>\n",
       "      <td>0.0025</td>\n",
       "    </tr>\n",
       "  </tbody>\n",
       "</table>\n",
       "</div>"
      ],
      "text/plain": [
       "       upper_fence  lower_fence  outliers_total  outliers_relative\n",
       "age     102.992518    -0.025766             0.0             0.0000\n",
       "bp      117.519985    35.418160             3.0             0.0075\n",
       "bgr     385.881660   -89.808626            10.0             0.0250\n",
       "bu      208.934739   -94.083296             9.0             0.0225\n",
       "sc       20.295833   -14.150924             4.0             0.0100\n",
       "sod     167.195884   107.503475             3.0             0.0075\n",
       "pot      13.139691    -4.045679             2.0             0.0050\n",
       "hemo     21.264197     3.788677             1.0             0.0025\n",
       "pcv      65.854813    11.914184             1.0             0.0025\n",
       "wbcc  16023.732174   834.748554             6.0             0.0150\n",
       "rbcc      7.373896     1.761723             1.0             0.0025"
      ]
     },
     "execution_count": 21,
     "metadata": {},
     "output_type": "execute_result"
    }
   ],
   "source": [
    "outlier_indices, outlier_info = multi_mean_std_outlier(processed_data, numerical_parameters, threshold=3)\n",
    "outlier_info.T"
   ]
  },
  {
   "cell_type": "code",
   "execution_count": 22,
   "metadata": {},
   "outputs": [
    {
     "name": "stdout",
     "output_type": "stream",
     "text": [
      "Общее количество выбросов:  33\n",
      "Общий процент выбросов:  8.25\n"
     ]
    }
   ],
   "source": [
    "print(\"Общее количество выбросов: \", len(outlier_indices))\n",
    "print(\"Общий процент выбросов: \", len(outlier_indices) * 100. / len(processed_data))"
   ]
  },
  {
   "cell_type": "code",
   "execution_count": 23,
   "metadata": {},
   "outputs": [],
   "source": [
    "def outlier_detect_IQR(data,col,threshold=3):    \n",
    "    IQR = data[col].quantile(0.75) - data[col].quantile(0.25)\n",
    "    Lower_fence = data[col].quantile(0.25) - (IQR * threshold)\n",
    "    Upper_fence = data[col].quantile(0.75) + (IQR * threshold)\n",
    "    para = (Upper_fence, Lower_fence)\n",
    "    tmp = pd.concat([data[col]>Upper_fence,data[col]<Lower_fence],axis=1)\n",
    "    outlier_index = tmp.any(axis=1)\n",
    "    #print('Количество выбросов в данных:',outlier_index.value_counts()[1])\n",
    "    #print('Доля выбросов:',outlier_index.value_counts()[1]/len(outlier_index))\n",
    "    return outlier_index, para"
   ]
  },
  {
   "cell_type": "code",
   "execution_count": 24,
   "metadata": {},
   "outputs": [],
   "source": [
    "def multi_IQR_outlier(data, columns=[], threshold=3):\n",
    "    if len(columns)==0:\n",
    "        columns = data.columns.to_list()\n",
    "    result = pd.DataFrame()\n",
    "    outlier_indices = None\n",
    "    outlier_fences = {k:[] for k in columns}\n",
    "    for col in columns:        \n",
    "        index, fences = outlier_detect_IQR(data, col, threshold)\n",
    "        if len(index.value_counts()) > 1:            \n",
    "            outliers_absolute_count = index.value_counts()[1]\n",
    "        else:\n",
    "            outliers_absolute_count = 0\n",
    "        outliers_relative_count = outliers_absolute_count / len(index)\n",
    "        if outlier_indices is None:\n",
    "            outlier_indices = data[index].index\n",
    "        else:\n",
    "            outlier_indices = outlier_indices.union(data[index].index)\n",
    "        outlier_fences[col].append(fences[0])\n",
    "        outlier_fences[col].append(fences[1])\n",
    "        outlier_fences[col].append(outliers_absolute_count)\n",
    "        outlier_fences[col].append(outliers_relative_count)\n",
    "    fences_df = pd.DataFrame(data=outlier_fences, index=['upper_fence', 'lower_fence', 'outliers_total', 'outliers_relative'])\n",
    "    return outlier_indices, fences_df"
   ]
  },
  {
   "cell_type": "code",
   "execution_count": 25,
   "metadata": {},
   "outputs": [],
   "source": [
    "outlier_indices, outlier_info = multi_IQR_outlier(processed_data, numerical_parameters, threshold=5)"
   ]
  },
  {
   "cell_type": "code",
   "execution_count": 26,
   "metadata": {},
   "outputs": [
    {
     "data": {
      "text/html": [
       "<div>\n",
       "<style scoped>\n",
       "    .dataframe tbody tr th:only-of-type {\n",
       "        vertical-align: middle;\n",
       "    }\n",
       "\n",
       "    .dataframe tbody tr th {\n",
       "        vertical-align: top;\n",
       "    }\n",
       "\n",
       "    .dataframe thead th {\n",
       "        text-align: right;\n",
       "    }\n",
       "</style>\n",
       "<table border=\"1\" class=\"dataframe\">\n",
       "  <thead>\n",
       "    <tr style=\"text-align: right;\">\n",
       "      <th></th>\n",
       "      <th>upper_fence</th>\n",
       "      <th>lower_fence</th>\n",
       "      <th>outliers_total</th>\n",
       "      <th>outliers_relative</th>\n",
       "    </tr>\n",
       "  </thead>\n",
       "  <tbody>\n",
       "    <tr>\n",
       "      <th>age</th>\n",
       "      <td>177.000000</td>\n",
       "      <td>-70.50000</td>\n",
       "      <td>0.0</td>\n",
       "      <td>0.0000</td>\n",
       "    </tr>\n",
       "    <tr>\n",
       "      <th>bp</th>\n",
       "      <td>130.000000</td>\n",
       "      <td>20.00000</td>\n",
       "      <td>2.0</td>\n",
       "      <td>0.0050</td>\n",
       "    </tr>\n",
       "    <tr>\n",
       "      <th>bgr</th>\n",
       "      <td>483.000000</td>\n",
       "      <td>-221.00000</td>\n",
       "      <td>2.0</td>\n",
       "      <td>0.0050</td>\n",
       "    </tr>\n",
       "    <tr>\n",
       "      <th>bu</th>\n",
       "      <td>261.000000</td>\n",
       "      <td>-168.00000</td>\n",
       "      <td>3.0</td>\n",
       "      <td>0.0075</td>\n",
       "    </tr>\n",
       "    <tr>\n",
       "      <th>sc</th>\n",
       "      <td>12.300000</td>\n",
       "      <td>-8.60000</td>\n",
       "      <td>17.0</td>\n",
       "      <td>0.0425</td>\n",
       "    </tr>\n",
       "    <tr>\n",
       "      <th>sod</th>\n",
       "      <td>171.000000</td>\n",
       "      <td>105.00000</td>\n",
       "      <td>3.0</td>\n",
       "      <td>0.0075</td>\n",
       "    </tr>\n",
       "    <tr>\n",
       "      <th>pot</th>\n",
       "      <td>10.400000</td>\n",
       "      <td>-1.70000</td>\n",
       "      <td>2.0</td>\n",
       "      <td>0.0050</td>\n",
       "    </tr>\n",
       "    <tr>\n",
       "      <th>hemo</th>\n",
       "      <td>38.500000</td>\n",
       "      <td>-13.20000</td>\n",
       "      <td>0.0</td>\n",
       "      <td>0.0000</td>\n",
       "    </tr>\n",
       "    <tr>\n",
       "      <th>pcv</th>\n",
       "      <td>110.000000</td>\n",
       "      <td>-33.00000</td>\n",
       "      <td>0.0</td>\n",
       "      <td>0.0000</td>\n",
       "    </tr>\n",
       "    <tr>\n",
       "      <th>wbcc</th>\n",
       "      <td>21525.000000</td>\n",
       "      <td>-5150.00000</td>\n",
       "      <td>2.0</td>\n",
       "      <td>0.0050</td>\n",
       "    </tr>\n",
       "    <tr>\n",
       "      <th>rbcc</th>\n",
       "      <td>11.697442</td>\n",
       "      <td>-2.59693</td>\n",
       "      <td>0.0</td>\n",
       "      <td>0.0000</td>\n",
       "    </tr>\n",
       "  </tbody>\n",
       "</table>\n",
       "</div>"
      ],
      "text/plain": [
       "       upper_fence  lower_fence  outliers_total  outliers_relative\n",
       "age     177.000000    -70.50000             0.0             0.0000\n",
       "bp      130.000000     20.00000             2.0             0.0050\n",
       "bgr     483.000000   -221.00000             2.0             0.0050\n",
       "bu      261.000000   -168.00000             3.0             0.0075\n",
       "sc       12.300000     -8.60000            17.0             0.0425\n",
       "sod     171.000000    105.00000             3.0             0.0075\n",
       "pot      10.400000     -1.70000             2.0             0.0050\n",
       "hemo     38.500000    -13.20000             0.0             0.0000\n",
       "pcv     110.000000    -33.00000             0.0             0.0000\n",
       "wbcc  21525.000000  -5150.00000             2.0             0.0050\n",
       "rbcc     11.697442     -2.59693             0.0             0.0000"
      ]
     },
     "execution_count": 26,
     "metadata": {},
     "output_type": "execute_result"
    }
   ],
   "source": [
    "outlier_info.T"
   ]
  },
  {
   "cell_type": "code",
   "execution_count": 27,
   "metadata": {},
   "outputs": [
    {
     "name": "stdout",
     "output_type": "stream",
     "text": [
      "Общее количество выбросов:  24\n",
      "Общий процент выбросов:  6.0\n"
     ]
    }
   ],
   "source": [
    "print(\"Общее количество выбросов: \", len(outlier_indices))\n",
    "print(\"Общий процент выбросов: \", len(outlier_indices) * 100. / len(processed_data))"
   ]
  },
  {
   "cell_type": "markdown",
   "metadata": {},
   "source": [
    "### В целом, выбросов немного. Проведём их замену."
   ]
  },
  {
   "cell_type": "code",
   "execution_count": 28,
   "metadata": {},
   "outputs": [],
   "source": [
    "def impute_outlier_with_avg(data,col,outlier_index,strategy='mean'):\n",
    "    data_copy = data.copy(deep=True)\n",
    "    if strategy=='mean':\n",
    "        data_copy.loc[outlier_index,col] = data_copy[col].mean()\n",
    "    elif strategy=='median':\n",
    "        data_copy.loc[outlier_index,col] = data_copy[col].median()\n",
    "    elif strategy=='mode':\n",
    "        data_copy.loc[outlier_index,col] = data_copy[col].mode()[0]           \n",
    "    return data_copy"
   ]
  },
  {
   "cell_type": "code",
   "execution_count": 29,
   "metadata": {},
   "outputs": [],
   "source": [
    "for parameter in numerical_parameters:\n",
    "    index, fences = outlier_detect_IQR(processed_data, parameter, 5)\n",
    "    processed_data = impute_outlier_with_avg(data=processed_data, col=parameter,\n",
    "                                             outlier_index=index,\n",
    "                                             strategy='median')"
   ]
  },
  {
   "cell_type": "code",
   "execution_count": 30,
   "metadata": {},
   "outputs": [
    {
     "data": {
      "text/plain": [
       "array([[<matplotlib.axes._subplots.AxesSubplot object at 0x00000090D424BC18>,\n",
       "        <matplotlib.axes._subplots.AxesSubplot object at 0x00000090D38E8048>,\n",
       "        <matplotlib.axes._subplots.AxesSubplot object at 0x00000090D39092B0>],\n",
       "       [<matplotlib.axes._subplots.AxesSubplot object at 0x00000090D3933518>,\n",
       "        <matplotlib.axes._subplots.AxesSubplot object at 0x00000090D395B828>,\n",
       "        <matplotlib.axes._subplots.AxesSubplot object at 0x00000090D3982DA0>],\n",
       "       [<matplotlib.axes._subplots.AxesSubplot object at 0x00000090D39B4358>,\n",
       "        <matplotlib.axes._subplots.AxesSubplot object at 0x00000090D39DA908>,\n",
       "        <matplotlib.axes._subplots.AxesSubplot object at 0x00000090D39DA940>],\n",
       "       [<matplotlib.axes._subplots.AxesSubplot object at 0x00000090D3A32400>,\n",
       "        <matplotlib.axes._subplots.AxesSubplot object at 0x00000090D3A58940>,\n",
       "        <matplotlib.axes._subplots.AxesSubplot object at 0x00000090D3A82EB8>]],\n",
       "      dtype=object)"
      ]
     },
     "execution_count": 30,
     "metadata": {},
     "output_type": "execute_result"
    },
    {
     "data": {
      "image/png": "[encoded data removed]",
      "text/plain": [
       "<Figure size 1440x1440 with 12 Axes>"
      ]
     },
     "metadata": {
      "needs_background": "light"
     },
     "output_type": "display_data"
    }
   ],
   "source": [
    "processed_data[numerical_parameters].hist(bins=20, figsize=(20, 20))"
   ]
  },
  {
   "cell_type": "markdown",
   "metadata": {},
   "source": [
    "### Теперь можно провести замену пропущенных значений"
   ]
  },
  {
   "cell_type": "code",
   "execution_count": 31,
   "metadata": {},
   "outputs": [],
   "source": [
    "processed_data[numerical_parameters] = processed_data.fillna(processed_data.median())[numerical_parameters]\n",
    "processed_data[nominal_parameters] = processed_data.fillna(processed_data.mode().loc[0])[nominal_parameters]"
   ]
  },
  {
   "cell_type": "code",
   "execution_count": 32,
   "metadata": {
    "scrolled": true
   },
   "outputs": [
    {
     "name": "stdout",
     "output_type": "stream",
     "text": [
      "<class 'pandas.core.frame.DataFrame'>\n",
      "RangeIndex: 400 entries, 0 to 399\n",
      "Data columns (total 36 columns):\n",
      "age            400 non-null float64\n",
      "bp             400 non-null float64\n",
      "bgr            400 non-null float64\n",
      "bu             400 non-null float64\n",
      "sc             400 non-null float64\n",
      "sod            400 non-null float64\n",
      "pot            400 non-null float64\n",
      "hemo           400 non-null float64\n",
      "pcv            400 non-null float64\n",
      "wbcc           400 non-null float64\n",
      "rbcc           400 non-null float64\n",
      "class          400 non-null int64\n",
      "sg_1.01        400 non-null uint8\n",
      "sg_1.015       400 non-null uint8\n",
      "sg_1.02        400 non-null uint8\n",
      "sg_1.025       400 non-null uint8\n",
      "al_1.0         400 non-null uint8\n",
      "al_2.0         400 non-null uint8\n",
      "al_3.0         400 non-null uint8\n",
      "al_4.0         400 non-null uint8\n",
      "al_5.0         400 non-null uint8\n",
      "su_1.0         400 non-null uint8\n",
      "su_2.0         400 non-null uint8\n",
      "su_3.0         400 non-null uint8\n",
      "su_4.0         400 non-null uint8\n",
      "su_5.0         400 non-null uint8\n",
      "rbc_normal     400 non-null uint8\n",
      "pc_normal      400 non-null uint8\n",
      "pcc_present    400 non-null uint8\n",
      "ba_present     400 non-null uint8\n",
      "htn_yes        400 non-null uint8\n",
      "dm_yes         400 non-null uint8\n",
      "cad_yes        400 non-null uint8\n",
      "appet_poor     400 non-null uint8\n",
      "pe_yes         400 non-null uint8\n",
      "ane_yes        400 non-null uint8\n",
      "dtypes: float64(11), int64(1), uint8(24)\n",
      "memory usage: 47.0 KB\n"
     ]
    }
   ],
   "source": [
    "processed_data.info()"
   ]
  },
  {
   "cell_type": "markdown",
   "metadata": {},
   "source": [
    "### Оценим степень корреляции между параметрами"
   ]
  },
  {
   "cell_type": "code",
   "execution_count": 33,
   "metadata": {},
   "outputs": [
    {
     "data": {
      "text/plain": [
       "age     0.112619\n",
       "sod     0.106139\n",
       "hemo    0.098530\n",
       "pot     0.098135\n",
       "pcv     0.096216\n",
       "rbcc    0.087543\n",
       "wbcc    0.084380\n",
       "bp      0.079671\n",
       "bgr     0.070812\n",
       "bu      0.048394\n",
       "sc      0.043474\n",
       "dtype: float64"
      ]
     },
     "execution_count": 33,
     "metadata": {},
     "output_type": "execute_result"
    }
   ],
   "source": [
    "corr_matrix = processed_data[numerical_parameters].corr()\n",
    "corr_matrix.mean().sort_values(ascending=False)"
   ]
  },
  {
   "cell_type": "code",
   "execution_count": 34,
   "metadata": {},
   "outputs": [
    {
     "data": {
      "text/plain": [
       "<matplotlib.axes._subplots.AxesSubplot at 0x90d3db8470>"
      ]
     },
     "execution_count": 34,
     "metadata": {},
     "output_type": "execute_result"
    },
    {
     "data": {
      "image/png": "[encoded data removed]",
      "text/plain": [
       "<Figure size 720x720 with 2 Axes>"
      ]
     },
     "metadata": {
      "needs_background": "light"
     },
     "output_type": "display_data"
    }
   ],
   "source": [
    "plt.figure(figsize=(10,10))\n",
    "sns.heatmap(corr_matrix, annot=True, fmt='.2f', center = 0.25)"
   ]
  },
  {
   "cell_type": "code",
   "execution_count": 35,
   "metadata": {},
   "outputs": [
    {
     "data": {
      "text/plain": [
       "<seaborn.axisgrid.PairGrid at 0x90d3f81908>"
      ]
     },
     "execution_count": 35,
     "metadata": {},
     "output_type": "execute_result"
    },
    {
     "data": {
      "image/png": "[encoded data removed]",
      "text/plain": [
       "<Figure size 582.375x540 with 12 Axes>"
      ]
     },
     "metadata": {
      "needs_background": "light"
     },
     "output_type": "display_data"
    }
   ],
   "source": [
    "most_correlated_variables = ['hemo', 'pcv', 'rbcc']\n",
    "sns.pairplot(data=processed_data, vars=most_correlated_variables, hue='class')"
   ]
  },
  {
   "cell_type": "code",
   "execution_count": 36,
   "metadata": {},
   "outputs": [
    {
     "data": {
      "image/png": "[encoded data removed]",
      "text/plain": [
       "<Figure size 1440x1440 with 12 Axes>"
      ]
     },
     "metadata": {
      "needs_background": "light"
     },
     "output_type": "display_data"
    }
   ],
   "source": [
    "fig, ax = plt.subplots(nrows=4, ncols=3, figsize=(20, 20))\n",
    "\n",
    "i_col = 0\n",
    "i_row = 0\n",
    "\n",
    "for column in processed_data[numerical_parameters].columns:\n",
    "    sns.boxplot(y=column, x='class', data=processed_data, ax=ax[i_row, i_col])\n",
    "    if i_row < 3:\n",
    "        i_row += 1\n",
    "    else:\n",
    "        i_col += 1\n",
    "        i_row = 0"
   ]
  },
  {
   "cell_type": "markdown",
   "metadata": {},
   "source": [
    "### Только 3 параметра - hemo, pcv и rbcc - показали значительную взаимную корреляцию. Это - кандидаты на исключение из набора данных.\n",
    "### Остальные параметры можно считать некоррелированными.\n",
    "### Большинство численных параметров показывают хорошую разделимость значений по целевой переменной."
   ]
  },
  {
   "cell_type": "markdown",
   "metadata": {},
   "source": [
    "### Оценка значимости параметров"
   ]
  },
  {
   "cell_type": "code",
   "execution_count": 37,
   "metadata": {},
   "outputs": [],
   "source": [
    "from sklearn.feature_selection import SelectKBest, chi2, f_classif, mutual_info_classif"
   ]
  },
  {
   "cell_type": "code",
   "execution_count": 38,
   "metadata": {},
   "outputs": [],
   "source": [
    "from sklearn.ensemble import ExtraTreesClassifier, RandomForestClassifier"
   ]
  },
  {
   "cell_type": "code",
   "execution_count": 39,
   "metadata": {},
   "outputs": [],
   "source": [
    "from sklearn import preprocessing\n",
    "standard_scaler = preprocessing.StandardScaler()\n",
    "min_max_scaler = preprocessing.MinMaxScaler()"
   ]
  },
  {
   "cell_type": "code",
   "execution_count": 40,
   "metadata": {},
   "outputs": [],
   "source": [
    "standard_scaled_data = pd.DataFrame(standard_scaler.fit_transform(processed_data), columns=processed_data.columns)\n",
    "minmax_scaled_data = pd.DataFrame(min_max_scaler.fit_transform(processed_data), columns=processed_data.columns)"
   ]
  },
  {
   "cell_type": "code",
   "execution_count": 41,
   "metadata": {},
   "outputs": [],
   "source": [
    "standard_scaled_data[nominal_parameters] = processed_data[nominal_parameters]\n",
    "minmax_scaled_data[nominal_parameters] = processed_data[nominal_parameters]"
   ]
  },
  {
   "cell_type": "code",
   "execution_count": 42,
   "metadata": {},
   "outputs": [
    {
     "data": {
      "text/html": [
       "<div>\n",
       "<style scoped>\n",
       "    .dataframe tbody tr th:only-of-type {\n",
       "        vertical-align: middle;\n",
       "    }\n",
       "\n",
       "    .dataframe tbody tr th {\n",
       "        vertical-align: top;\n",
       "    }\n",
       "\n",
       "    .dataframe thead th {\n",
       "        text-align: right;\n",
       "    }\n",
       "</style>\n",
       "<table border=\"1\" class=\"dataframe\">\n",
       "  <thead>\n",
       "    <tr style=\"text-align: right;\">\n",
       "      <th></th>\n",
       "      <th>count</th>\n",
       "      <th>mean</th>\n",
       "      <th>std</th>\n",
       "      <th>min</th>\n",
       "      <th>25%</th>\n",
       "      <th>50%</th>\n",
       "      <th>75%</th>\n",
       "      <th>max</th>\n",
       "    </tr>\n",
       "  </thead>\n",
       "  <tbody>\n",
       "    <tr>\n",
       "      <th>age</th>\n",
       "      <td>400.0</td>\n",
       "      <td>3.630429e-16</td>\n",
       "      <td>1.001252</td>\n",
       "      <td>-2.922015</td>\n",
       "      <td>-0.563768</td>\n",
       "      <td>0.202662</td>\n",
       "      <td>0.733267</td>\n",
       "      <td>2.266128</td>\n",
       "    </tr>\n",
       "    <tr>\n",
       "      <th>bp</th>\n",
       "      <td>400.0</td>\n",
       "      <td>8.062995e-17</td>\n",
       "      <td>1.001252</td>\n",
       "      <td>-2.176574</td>\n",
       "      <td>-0.513480</td>\n",
       "      <td>0.318067</td>\n",
       "      <td>0.318067</td>\n",
       "      <td>3.644254</td>\n",
       "    </tr>\n",
       "    <tr>\n",
       "      <th>bgr</th>\n",
       "      <td>400.0</td>\n",
       "      <td>-4.676814e-17</td>\n",
       "      <td>1.001252</td>\n",
       "      <td>-1.704989</td>\n",
       "      <td>-0.593812</td>\n",
       "      <td>-0.312501</td>\n",
       "      <td>0.074301</td>\n",
       "      <td>4.497913</td>\n",
       "    </tr>\n",
       "    <tr>\n",
       "      <th>bu</th>\n",
       "      <td>400.0</td>\n",
       "      <td>-2.267631e-16</td>\n",
       "      <td>1.001252</td>\n",
       "      <td>-1.242647</td>\n",
       "      <td>-0.644239</td>\n",
       "      <td>-0.292234</td>\n",
       "      <td>0.130171</td>\n",
       "      <td>4.377694</td>\n",
       "    </tr>\n",
       "    <tr>\n",
       "      <th>sc</th>\n",
       "      <td>400.0</td>\n",
       "      <td>-1.444678e-16</td>\n",
       "      <td>1.001252</td>\n",
       "      <td>-0.798080</td>\n",
       "      <td>-0.565826</td>\n",
       "      <td>-0.380024</td>\n",
       "      <td>0.084482</td>\n",
       "      <td>4.683092</td>\n",
       "    </tr>\n",
       "    <tr>\n",
       "      <th>sod</th>\n",
       "      <td>400.0</td>\n",
       "      <td>5.577483e-16</td>\n",
       "      <td>1.001252</td>\n",
       "      <td>-4.333716</td>\n",
       "      <td>-0.474227</td>\n",
       "      <td>0.008209</td>\n",
       "      <td>0.490645</td>\n",
       "      <td>4.028510</td>\n",
       "    </tr>\n",
       "    <tr>\n",
       "      <th>pot</th>\n",
       "      <td>400.0</td>\n",
       "      <td>-5.345724e-16</td>\n",
       "      <td>1.001252</td>\n",
       "      <td>-5.819366</td>\n",
       "      <td>-0.675234</td>\n",
       "      <td>0.036095</td>\n",
       "      <td>0.665647</td>\n",
       "      <td>4.370539</td>\n",
       "    </tr>\n",
       "    <tr>\n",
       "      <th>hemo</th>\n",
       "      <td>400.0</td>\n",
       "      <td>-2.087219e-16</td>\n",
       "      <td>1.001252</td>\n",
       "      <td>-3.480346</td>\n",
       "      <td>-0.614612</td>\n",
       "      <td>0.039623</td>\n",
       "      <td>0.767574</td>\n",
       "      <td>1.937826</td>\n",
       "    </tr>\n",
       "    <tr>\n",
       "      <th>pcv</th>\n",
       "      <td>400.0</td>\n",
       "      <td>-8.731904e-16</td>\n",
       "      <td>1.001252</td>\n",
       "      <td>-3.690182</td>\n",
       "      <td>-0.623464</td>\n",
       "      <td>0.112549</td>\n",
       "      <td>0.603224</td>\n",
       "      <td>1.829911</td>\n",
       "    </tr>\n",
       "    <tr>\n",
       "      <th>wbcc</th>\n",
       "      <td>400.0</td>\n",
       "      <td>-5.584422e-16</td>\n",
       "      <td>1.001252</td>\n",
       "      <td>-2.711568</td>\n",
       "      <td>-0.606498</td>\n",
       "      <td>-0.022369</td>\n",
       "      <td>0.462569</td>\n",
       "      <td>4.738836</td>\n",
       "    </tr>\n",
       "    <tr>\n",
       "      <th>rbcc</th>\n",
       "      <td>400.0</td>\n",
       "      <td>8.271162e-16</td>\n",
       "      <td>1.001252</td>\n",
       "      <td>-2.641651</td>\n",
       "      <td>-0.714305</td>\n",
       "      <td>0.021166</td>\n",
       "      <td>0.676724</td>\n",
       "      <td>3.673966</td>\n",
       "    </tr>\n",
       "  </tbody>\n",
       "</table>\n",
       "</div>"
      ],
      "text/plain": [
       "      count          mean       std       min       25%       50%       75%  \\\n",
       "age   400.0  3.630429e-16  1.001252 -2.922015 -0.563768  0.202662  0.733267   \n",
       "bp    400.0  8.062995e-17  1.001252 -2.176574 -0.513480  0.318067  0.318067   \n",
       "bgr   400.0 -4.676814e-17  1.001252 -1.704989 -0.593812 -0.312501  0.074301   \n",
       "bu    400.0 -2.267631e-16  1.001252 -1.242647 -0.644239 -0.292234  0.130171   \n",
       "sc    400.0 -1.444678e-16  1.001252 -0.798080 -0.565826 -0.380024  0.084482   \n",
       "sod   400.0  5.577483e-16  1.001252 -4.333716 -0.474227  0.008209  0.490645   \n",
       "pot   400.0 -5.345724e-16  1.001252 -5.819366 -0.675234  0.036095  0.665647   \n",
       "hemo  400.0 -2.087219e-16  1.001252 -3.480346 -0.614612  0.039623  0.767574   \n",
       "pcv   400.0 -8.731904e-16  1.001252 -3.690182 -0.623464  0.112549  0.603224   \n",
       "wbcc  400.0 -5.584422e-16  1.001252 -2.711568 -0.606498 -0.022369  0.462569   \n",
       "rbcc  400.0  8.271162e-16  1.001252 -2.641651 -0.714305  0.021166  0.676724   \n",
       "\n",
       "           max  \n",
       "age   2.266128  \n",
       "bp    3.644254  \n",
       "bgr   4.497913  \n",
       "bu    4.377694  \n",
       "sc    4.683092  \n",
       "sod   4.028510  \n",
       "pot   4.370539  \n",
       "hemo  1.937826  \n",
       "pcv   1.829911  \n",
       "wbcc  4.738836  \n",
       "rbcc  3.673966  "
      ]
     },
     "execution_count": 42,
     "metadata": {},
     "output_type": "execute_result"
    }
   ],
   "source": [
    "standard_scaled_data[numerical_parameters].describe().T"
   ]
  },
  {
   "cell_type": "code",
   "execution_count": 43,
   "metadata": {},
   "outputs": [
    {
     "data": {
      "text/html": [
       "<div>\n",
       "<style scoped>\n",
       "    .dataframe tbody tr th:only-of-type {\n",
       "        vertical-align: middle;\n",
       "    }\n",
       "\n",
       "    .dataframe tbody tr th {\n",
       "        vertical-align: top;\n",
       "    }\n",
       "\n",
       "    .dataframe thead th {\n",
       "        text-align: right;\n",
       "    }\n",
       "</style>\n",
       "<table border=\"1\" class=\"dataframe\">\n",
       "  <thead>\n",
       "    <tr style=\"text-align: right;\">\n",
       "      <th></th>\n",
       "      <th>count</th>\n",
       "      <th>mean</th>\n",
       "      <th>std</th>\n",
       "      <th>min</th>\n",
       "      <th>25%</th>\n",
       "      <th>50%</th>\n",
       "      <th>75%</th>\n",
       "      <th>max</th>\n",
       "    </tr>\n",
       "  </thead>\n",
       "  <tbody>\n",
       "    <tr>\n",
       "      <th>age</th>\n",
       "      <td>400.0</td>\n",
       "      <td>0.563210</td>\n",
       "      <td>0.192989</td>\n",
       "      <td>0.0</td>\n",
       "      <td>0.454545</td>\n",
       "      <td>0.602273</td>\n",
       "      <td>0.704545</td>\n",
       "      <td>1.0</td>\n",
       "    </tr>\n",
       "    <tr>\n",
       "      <th>bp</th>\n",
       "      <td>400.0</td>\n",
       "      <td>0.373929</td>\n",
       "      <td>0.172012</td>\n",
       "      <td>0.0</td>\n",
       "      <td>0.285714</td>\n",
       "      <td>0.428571</td>\n",
       "      <td>0.428571</td>\n",
       "      <td>1.0</td>\n",
       "    </tr>\n",
       "    <tr>\n",
       "      <th>bgr</th>\n",
       "      <td>400.0</td>\n",
       "      <td>0.274870</td>\n",
       "      <td>0.161417</td>\n",
       "      <td>0.0</td>\n",
       "      <td>0.179138</td>\n",
       "      <td>0.224490</td>\n",
       "      <td>0.286848</td>\n",
       "      <td>1.0</td>\n",
       "    </tr>\n",
       "    <tr>\n",
       "      <th>bu</th>\n",
       "      <td>400.0</td>\n",
       "      <td>0.221098</td>\n",
       "      <td>0.178148</td>\n",
       "      <td>0.0</td>\n",
       "      <td>0.106472</td>\n",
       "      <td>0.169102</td>\n",
       "      <td>0.244259</td>\n",
       "      <td>1.0</td>\n",
       "    </tr>\n",
       "    <tr>\n",
       "      <th>sc</th>\n",
       "      <td>400.0</td>\n",
       "      <td>0.145604</td>\n",
       "      <td>0.182671</td>\n",
       "      <td>0.0</td>\n",
       "      <td>0.042373</td>\n",
       "      <td>0.076271</td>\n",
       "      <td>0.161017</td>\n",
       "      <td>1.0</td>\n",
       "    </tr>\n",
       "    <tr>\n",
       "      <th>sod</th>\n",
       "      <td>400.0</td>\n",
       "      <td>0.518249</td>\n",
       "      <td>0.119735</td>\n",
       "      <td>0.0</td>\n",
       "      <td>0.461538</td>\n",
       "      <td>0.519231</td>\n",
       "      <td>0.576923</td>\n",
       "      <td>1.0</td>\n",
       "    </tr>\n",
       "    <tr>\n",
       "      <th>pot</th>\n",
       "      <td>400.0</td>\n",
       "      <td>0.571091</td>\n",
       "      <td>0.098259</td>\n",
       "      <td>0.0</td>\n",
       "      <td>0.504826</td>\n",
       "      <td>0.574634</td>\n",
       "      <td>0.636415</td>\n",
       "      <td>1.0</td>\n",
       "    </tr>\n",
       "    <tr>\n",
       "      <th>hemo</th>\n",
       "      <td>400.0</td>\n",
       "      <td>0.642347</td>\n",
       "      <td>0.184795</td>\n",
       "      <td>0.0</td>\n",
       "      <td>0.528912</td>\n",
       "      <td>0.649660</td>\n",
       "      <td>0.784014</td>\n",
       "      <td>1.0</td>\n",
       "    </tr>\n",
       "    <tr>\n",
       "      <th>pcv</th>\n",
       "      <td>400.0</td>\n",
       "      <td>0.668500</td>\n",
       "      <td>0.181383</td>\n",
       "      <td>0.0</td>\n",
       "      <td>0.555556</td>\n",
       "      <td>0.688889</td>\n",
       "      <td>0.777778</td>\n",
       "      <td>1.0</td>\n",
       "    </tr>\n",
       "    <tr>\n",
       "      <th>wbcc</th>\n",
       "      <td>400.0</td>\n",
       "      <td>0.363949</td>\n",
       "      <td>0.134389</td>\n",
       "      <td>0.0</td>\n",
       "      <td>0.282544</td>\n",
       "      <td>0.360947</td>\n",
       "      <td>0.426036</td>\n",
       "      <td>1.0</td>\n",
       "    </tr>\n",
       "    <tr>\n",
       "      <th>rbcc</th>\n",
       "      <td>400.0</td>\n",
       "      <td>0.418273</td>\n",
       "      <td>0.158536</td>\n",
       "      <td>0.0</td>\n",
       "      <td>0.305171</td>\n",
       "      <td>0.421624</td>\n",
       "      <td>0.525424</td>\n",
       "      <td>1.0</td>\n",
       "    </tr>\n",
       "  </tbody>\n",
       "</table>\n",
       "</div>"
      ],
      "text/plain": [
       "      count      mean       std  min       25%       50%       75%  max\n",
       "age   400.0  0.563210  0.192989  0.0  0.454545  0.602273  0.704545  1.0\n",
       "bp    400.0  0.373929  0.172012  0.0  0.285714  0.428571  0.428571  1.0\n",
       "bgr   400.0  0.274870  0.161417  0.0  0.179138  0.224490  0.286848  1.0\n",
       "bu    400.0  0.221098  0.178148  0.0  0.106472  0.169102  0.244259  1.0\n",
       "sc    400.0  0.145604  0.182671  0.0  0.042373  0.076271  0.161017  1.0\n",
       "sod   400.0  0.518249  0.119735  0.0  0.461538  0.519231  0.576923  1.0\n",
       "pot   400.0  0.571091  0.098259  0.0  0.504826  0.574634  0.636415  1.0\n",
       "hemo  400.0  0.642347  0.184795  0.0  0.528912  0.649660  0.784014  1.0\n",
       "pcv   400.0  0.668500  0.181383  0.0  0.555556  0.688889  0.777778  1.0\n",
       "wbcc  400.0  0.363949  0.134389  0.0  0.282544  0.360947  0.426036  1.0\n",
       "rbcc  400.0  0.418273  0.158536  0.0  0.305171  0.421624  0.525424  1.0"
      ]
     },
     "execution_count": 43,
     "metadata": {},
     "output_type": "execute_result"
    }
   ],
   "source": [
    "minmax_scaled_data[numerical_parameters].describe().T"
   ]
  },
  {
   "cell_type": "code",
   "execution_count": 44,
   "metadata": {},
   "outputs": [],
   "source": [
    "X = standard_scaled_data.loc[:,standard_scaled_data.columns!='class']\n",
    "y = standard_scaled_data['class']"
   ]
  },
  {
   "cell_type": "code",
   "execution_count": 45,
   "metadata": {},
   "outputs": [
    {
     "name": "stdout",
     "output_type": "stream",
     "text": [
      "Index(['hemo', 'pcv', 'rbcc', 'rbc_normal', 'htn_yes'], dtype='object')\n"
     ]
    }
   ],
   "source": [
    "feature_selector = SelectKBest(f_classif, k=5)\n",
    "feature_selector.fit(X, y)\n",
    "print(X.columns[feature_selector.get_support(indices=True)])"
   ]
  },
  {
   "cell_type": "code",
   "execution_count": 46,
   "metadata": {},
   "outputs": [
    {
     "name": "stdout",
     "output_type": "stream",
     "text": [
      "Index(['sc', 'sod', 'hemo', 'pcv', 'rbcc'], dtype='object')\n"
     ]
    }
   ],
   "source": [
    "feature_selector = SelectKBest(mutual_info_classif, k=5)\n",
    "feature_selector.fit(X, y)\n",
    "print(X.columns[feature_selector.get_support(indices=True)])"
   ]
  },
  {
   "cell_type": "code",
   "execution_count": 47,
   "metadata": {},
   "outputs": [],
   "source": [
    "X = minmax_scaled_data.loc[:,numerical_parameters]\n",
    "y = minmax_scaled_data['class']"
   ]
  },
  {
   "cell_type": "code",
   "execution_count": 48,
   "metadata": {},
   "outputs": [
    {
     "name": "stdout",
     "output_type": "stream",
     "text": [
      "Index(['bu', 'sc', 'hemo', 'pcv', 'rbcc'], dtype='object')\n"
     ]
    }
   ],
   "source": [
    "feature_selector = SelectKBest(chi2, k=5)\n",
    "feature_selector.fit(X, y)\n",
    "print(X.columns[feature_selector.get_support(indices=True)])"
   ]
  },
  {
   "cell_type": "code",
   "execution_count": 49,
   "metadata": {},
   "outputs": [],
   "source": [
    "from sklearn.ensemble import RandomForestClassifier\n",
    "random_forest = RandomForestClassifier(n_estimators=100, random_state=1812)"
   ]
  },
  {
   "cell_type": "code",
   "execution_count": 50,
   "metadata": {},
   "outputs": [],
   "source": [
    "X = standard_scaled_data.loc[:,standard_scaled_data.columns!='class']\n",
    "y = standard_scaled_data['class']"
   ]
  },
  {
   "cell_type": "code",
   "execution_count": 51,
   "metadata": {},
   "outputs": [
    {
     "data": {
      "text/plain": [
       "RandomForestClassifier(bootstrap=True, class_weight=None, criterion='gini',\n",
       "                       max_depth=None, max_features='auto', max_leaf_nodes=None,\n",
       "                       min_impurity_decrease=0.0, min_impurity_split=None,\n",
       "                       min_samples_leaf=1, min_samples_split=2,\n",
       "                       min_weight_fraction_leaf=0.0, n_estimators=100,\n",
       "                       n_jobs=None, oob_score=False, random_state=1812,\n",
       "                       verbose=0, warm_start=False)"
      ]
     },
     "execution_count": 51,
     "metadata": {},
     "output_type": "execute_result"
    }
   ],
   "source": [
    "random_forest.fit(X, y)"
   ]
  },
  {
   "cell_type": "code",
   "execution_count": 52,
   "metadata": {},
   "outputs": [
    {
     "data": {
      "image/png": "[encoded data removed]",
      "text/plain": [
       "<Figure size 720x720 with 1 Axes>"
      ]
     },
     "metadata": {
      "needs_background": "light"
     },
     "output_type": "display_data"
    }
   ],
   "source": [
    "feature_importances = pd.DataFrame({'feature': X.columns, 'importance': random_forest.feature_importances_})\n",
    "feature_importances.set_index('feature', inplace=True)\n",
    "feature_importances.sort_values(['importance'], ascending=False, inplace=True)\n",
    "plot_colors = ['b' if coeff<0 else 'r' for coeff in feature_importances['importance'].tolist()]\n",
    "feature_importances['importance'].plot('bar', figsize=(10, 10), color=plot_colors);"
   ]
  },
  {
   "cell_type": "markdown",
   "metadata": {},
   "source": [
    "### В разных тестах параметры hemo, pcv и rbcc - 3 наиболее коррелированных между собой параметра - входят в 5 наиболее важных. Оставим их в наборе данных.\n",
    "### <font color=red> Параметр rbc, имевший много пропущенных значений, также показал высокую значимость, что подтверждает верность решения и его использовании в модели и необходимости генерации отсутвующих значений."
   ]
  },
  {
   "cell_type": "markdown",
   "metadata": {},
   "source": [
    "## 2. Масштабирование численных параметров и кодирование номинативных."
   ]
  },
  {
   "cell_type": "markdown",
   "metadata": {},
   "source": [
    "### К номинативным параметрам уже было применено one-hot кодирование. Для масштабирования численных параметров используем standard_scaler."
   ]
  },
  {
   "cell_type": "code",
   "execution_count": 53,
   "metadata": {},
   "outputs": [],
   "source": [
    "X = standard_scaled_data.loc[:,standard_scaled_data.columns!='class']\n",
    "y = standard_scaled_data['class']"
   ]
  },
  {
   "cell_type": "code",
   "execution_count": 54,
   "metadata": {},
   "outputs": [],
   "source": [
    "from sklearn.model_selection import train_test_split"
   ]
  },
  {
   "cell_type": "code",
   "execution_count": 55,
   "metadata": {},
   "outputs": [],
   "source": [
    "X_train, X_test, y_train, y_test = train_test_split(X, y, test_size=0.3, random_state=2019, stratify=y)"
   ]
  },
  {
   "cell_type": "code",
   "execution_count": 56,
   "metadata": {},
   "outputs": [
    {
     "data": {
      "text/plain": [
       "1    250\n",
       "0    150\n",
       "Name: class, dtype: int64"
      ]
     },
     "execution_count": 56,
     "metadata": {},
     "output_type": "execute_result"
    }
   ],
   "source": [
    "y.value_counts()"
   ]
  },
  {
   "cell_type": "markdown",
   "metadata": {},
   "source": [
    "### Наблюдается разбаланс в пользу положительного класса.\n",
    "### После оценки метрик качества моделей вернёмся к вопросу о возможном oversampling'е."
   ]
  },
  {
   "cell_type": "markdown",
   "metadata": {},
   "source": [
    "## 3. Сравнений моделей градиентного бустинга"
   ]
  },
  {
   "cell_type": "code",
   "execution_count": 57,
   "metadata": {},
   "outputs": [],
   "source": [
    "import xgboost as xgb\n",
    "import lightgbm as lgb\n",
    "\n",
    "from sklearn.linear_model import LogisticRegressionCV\n",
    "from sklearn.model_selection import RandomizedSearchCV\n",
    "\n",
    "import time"
   ]
  },
  {
   "cell_type": "code",
   "execution_count": 58,
   "metadata": {},
   "outputs": [],
   "source": [
    "from sklearn.metrics import accuracy_score, precision_score, recall_score, f1_score\n",
    "\n",
    "def quality_report(prediction, actual):\n",
    "    print(\"Accuracy: {:.3f}\\nPrecision: {:.3f}\\nRecall: {:.3f}\\nf1_score: {:.3f}\".format(\n",
    "        accuracy_score(prediction, actual),\n",
    "        precision_score(prediction, actual),\n",
    "        recall_score(prediction, actual),\n",
    "        f1_score(prediction, actual)\n",
    "    ))"
   ]
  },
  {
   "cell_type": "code",
   "execution_count": 59,
   "metadata": {},
   "outputs": [],
   "source": [
    "from sklearn.metrics import roc_auc_score, roc_curve\n",
    "\n",
    "def plot_roc_curve(prob_prediction, actual):\n",
    "    fpr, tpr, thresholds = roc_curve(actual, prob_prediction)\n",
    "    auc_score = roc_auc_score(actual, prob_prediction)\n",
    "    \n",
    "    plt.plot(fpr, tpr, label='ROC curve ')\n",
    "    plt.plot([0, 1], [0, 1])\n",
    "    plt.xlim([0.0, 1.0])\n",
    "    plt.ylim([0.0, 1.05])\n",
    "    plt.xlabel('False Positive Rate')\n",
    "    plt.ylabel('True Positive Rate')\n",
    "    plt.title('ROC AUC: {:.3f}'.format(auc_score))\n",
    "    plt.show()"
   ]
  },
  {
   "cell_type": "code",
   "execution_count": 60,
   "metadata": {},
   "outputs": [],
   "source": [
    "log_reg_model = LogisticRegressionCV(Cs=10, cv=5, scoring='precision')"
   ]
  },
  {
   "cell_type": "code",
   "execution_count": 61,
   "metadata": {},
   "outputs": [
    {
     "data": {
      "text/plain": [
       "LogisticRegressionCV(Cs=10, class_weight=None, cv=5, dual=False,\n",
       "                     fit_intercept=True, intercept_scaling=1.0, l1_ratios=None,\n",
       "                     max_iter=100, multi_class='warn', n_jobs=None,\n",
       "                     penalty='l2', random_state=None, refit=True,\n",
       "                     scoring='precision', solver='lbfgs', tol=0.0001,\n",
       "                     verbose=0)"
      ]
     },
     "execution_count": 61,
     "metadata": {},
     "output_type": "execute_result"
    }
   ],
   "source": [
    "log_reg_model.fit(X_train, y_train)"
   ]
  },
  {
   "cell_type": "code",
   "execution_count": 62,
   "metadata": {},
   "outputs": [
    {
     "name": "stdout",
     "output_type": "stream",
     "text": [
      "Accuracy: 0.983\n",
      "Precision: 0.973\n",
      "Recall: 1.000\n",
      "f1_score: 0.986\n"
     ]
    }
   ],
   "source": [
    "quality_report(log_reg_model.predict(X_test), y_test)"
   ]
  },
  {
   "cell_type": "code",
   "execution_count": 63,
   "metadata": {},
   "outputs": [],
   "source": [
    "log_reg_model = LogisticRegressionCV(Cs=10, cv=5, scoring='accuracy')"
   ]
  },
  {
   "cell_type": "code",
   "execution_count": 92,
   "metadata": {},
   "outputs": [
    {
     "name": "stdout",
     "output_type": "stream",
     "text": [
      "Accuracy: 1.000\n",
      "Precision: 1.000\n",
      "Recall: 1.000\n",
      "f1_score: 1.000\n"
     ]
    }
   ],
   "source": [
    "log_reg_model.fit(X_train, y_train)\n",
    "quality_report(log_reg_model.predict(X_test), y_test)"
   ]
  },
  {
   "cell_type": "code",
   "execution_count": 93,
   "metadata": {},
   "outputs": [],
   "source": [
    "def randomized_cv(model, param_grid, X, y):\n",
    "    grid_search = RandomizedSearchCV(model, param_grid, cv=5, scoring='accuracy')\n",
    "    t_start = time.time()\n",
    "    grid_search.fit(X, y)\n",
    "    t_end = time.time()\n",
    "    print('model {} best accuracy score is {}'.format(model.__class__.__name__, grid_search.best_score_))\n",
    "    print('time for training is {} seconds'.format(t_end - t_start))\n",
    "    print(grid_search.best_score_)\n",
    "    return grid_search.best_estimator_"
   ]
  },
  {
   "cell_type": "code",
   "execution_count": 94,
   "metadata": {},
   "outputs": [
    {
     "name": "stdout",
     "output_type": "stream",
     "text": [
      "model XGBClassifier best accuracy score is 0.9785714285714285\n",
      "time for training is 1.9757230281829834 seconds\n",
      "0.9785714285714285\n"
     ]
    }
   ],
   "source": [
    "param_grid = {\n",
    "    'max_depth': [2, 3, 4, 5],\n",
    "    'n_estimators': [50, 100, 150, 200],\n",
    "    'learning_rate': [0.01, 0.02, 0.05]\n",
    "}\n",
    "best_xgb = randomized_cv(xgb.XGBClassifier(), param_grid, X_train, y_train)"
   ]
  },
  {
   "cell_type": "code",
   "execution_count": 95,
   "metadata": {},
   "outputs": [
    {
     "name": "stdout",
     "output_type": "stream",
     "text": [
      "Accuracy: 0.967\n",
      "Precision: 0.987\n",
      "Recall: 0.961\n",
      "f1_score: 0.974\n"
     ]
    }
   ],
   "source": [
    "quality_report(best_xgb.predict(X_test), y_test)"
   ]
  },
  {
   "cell_type": "code",
   "execution_count": 96,
   "metadata": {},
   "outputs": [
    {
     "data": {
      "image/png": "[encoded data removed]",
      "text/plain": [
       "<Figure size 432x288 with 1 Axes>"
      ]
     },
     "metadata": {
      "needs_background": "light"
     },
     "output_type": "display_data"
    }
   ],
   "source": [
    "plot_roc_curve(best_xgb.predict_proba(X_test)[:,1], y_test)"
   ]
  },
  {
   "cell_type": "code",
   "execution_count": 101,
   "metadata": {},
   "outputs": [
    {
     "name": "stdout",
     "output_type": "stream",
     "text": [
      "model LGBMClassifier best accuracy score is 0.9785714285714285\n",
      "time for training is 2.2768306732177734 seconds\n",
      "0.9785714285714285\n"
     ]
    }
   ],
   "source": [
    "param_grid = {\n",
    "    'max_depth': [2, 3, 4, 5],\n",
    "    'n_estimators': [50, 100, 150, 200],\n",
    "    'learning_rate': [0.01, 0.02, 0.05]\n",
    "}\n",
    "best_lgb = randomized_cv(lgb.LGBMClassifier(), param_grid, X_train, y_train)"
   ]
  },
  {
   "cell_type": "code",
   "execution_count": 102,
   "metadata": {},
   "outputs": [
    {
     "name": "stdout",
     "output_type": "stream",
     "text": [
      "Accuracy: 0.992\n",
      "Precision: 1.000\n",
      "Recall: 0.987\n",
      "f1_score: 0.993\n"
     ]
    }
   ],
   "source": [
    "quality_report(best_lgb.predict(X_test), y_test)"
   ]
  },
  {
   "cell_type": "code",
   "execution_count": 103,
   "metadata": {},
   "outputs": [
    {
     "data": {
      "image/png": "[encoded data removed]",
      "text/plain": [
       "<Figure size 432x288 with 1 Axes>"
      ]
     },
     "metadata": {
      "needs_background": "light"
     },
     "output_type": "display_data"
    }
   ],
   "source": [
    "plot_roc_curve(best_lgb.predict_proba(X_test)[:,1], y_test)"
   ]
  },
  {
   "cell_type": "markdown",
   "metadata": {},
   "source": [
    "## <font color=red>МОДЕЛИ ПОКАЗЫВАЮТ ТОЧНОСТЬ РАСПОЗНАВАНИЯ, БЛИЗКУЮ К 100%.</font>\n",
    "## <font color=red>ДЛЯ ОЦЕНКИ ВОЗМОЖНОСТЕЙ БУСТИНГА И ТРЕНИРОВКИ ПОДБОРА ПАРАМЕТРОВ МОДЕЛЕЙ ЗАМЕНИМ НАБОР ДАННЫХ НА БОЛЕЕ \"ПРОБЛЕМАТИЧНЫЙ\"</font>"
   ]
  },
  {
   "cell_type": "markdown",
   "metadata": {},
   "source": [
    "## Новые данные: https://archive.ics.uci.edu/ml/datasets/Polish+companies+bankruptcy+data#\n",
    "### Предсказание банкроства польских компаний"
   ]
  },
  {
   "cell_type": "markdown",
   "metadata": {},
   "source": [
    "### Эти данные использовались в предыдущем домашнем задании. Поэтому воспользуемся сразу готовыми результатми подготовки данных.\n",
    "### Заодно сравним разные способы составления ансамблей моделей - random forest и gradient boosting."
   ]
  },
  {
   "cell_type": "code",
   "execution_count": 105,
   "metadata": {},
   "outputs": [
    {
     "data": {
      "text/html": [
       "<div>\n",
       "<style scoped>\n",
       "    .dataframe tbody tr th:only-of-type {\n",
       "        vertical-align: middle;\n",
       "    }\n",
       "\n",
       "    .dataframe tbody tr th {\n",
       "        vertical-align: top;\n",
       "    }\n",
       "\n",
       "    .dataframe thead th {\n",
       "        text-align: right;\n",
       "    }\n",
       "</style>\n",
       "<table border=\"1\" class=\"dataframe\">\n",
       "  <thead>\n",
       "    <tr style=\"text-align: right;\">\n",
       "      <th></th>\n",
       "      <th>Attr1</th>\n",
       "      <th>Attr2</th>\n",
       "      <th>Attr3</th>\n",
       "      <th>Attr4</th>\n",
       "      <th>Attr5</th>\n",
       "      <th>Attr6</th>\n",
       "      <th>Attr8</th>\n",
       "      <th>Attr9</th>\n",
       "      <th>Attr10</th>\n",
       "      <th>Attr12</th>\n",
       "      <th>...</th>\n",
       "      <th>Attr51</th>\n",
       "      <th>Attr55</th>\n",
       "      <th>Attr56</th>\n",
       "      <th>Attr57</th>\n",
       "      <th>Attr58</th>\n",
       "      <th>Attr59</th>\n",
       "      <th>Attr60</th>\n",
       "      <th>Attr61</th>\n",
       "      <th>Attr64</th>\n",
       "      <th>class</th>\n",
       "    </tr>\n",
       "  </thead>\n",
       "  <tbody>\n",
       "    <tr>\n",
       "      <th>0</th>\n",
       "      <td>0.583130</td>\n",
       "      <td>0.144185</td>\n",
       "      <td>0.700533</td>\n",
       "      <td>0.107262</td>\n",
       "      <td>-0.256758</td>\n",
       "      <td>0.452319</td>\n",
       "      <td>0.187795</td>\n",
       "      <td>0.284306</td>\n",
       "      <td>0.589700</td>\n",
       "      <td>0.538100</td>\n",
       "      <td>...</td>\n",
       "      <td>0.185463</td>\n",
       "      <td>0.472736</td>\n",
       "      <td>0.568410</td>\n",
       "      <td>0.582351</td>\n",
       "      <td>0.429152</td>\n",
       "      <td>0.452231</td>\n",
       "      <td>0.099275</td>\n",
       "      <td>0.270279</td>\n",
       "      <td>0.084109</td>\n",
       "      <td>0</td>\n",
       "    </tr>\n",
       "    <tr>\n",
       "      <th>1</th>\n",
       "      <td>0.562436</td>\n",
       "      <td>0.160730</td>\n",
       "      <td>0.746096</td>\n",
       "      <td>0.129688</td>\n",
       "      <td>-0.000074</td>\n",
       "      <td>0.452319</td>\n",
       "      <td>0.190701</td>\n",
       "      <td>0.332131</td>\n",
       "      <td>0.609166</td>\n",
       "      <td>0.514155</td>\n",
       "      <td>...</td>\n",
       "      <td>0.201406</td>\n",
       "      <td>0.525415</td>\n",
       "      <td>0.468606</td>\n",
       "      <td>0.546047</td>\n",
       "      <td>0.478858</td>\n",
       "      <td>0.452228</td>\n",
       "      <td>0.061195</td>\n",
       "      <td>0.224693</td>\n",
       "      <td>0.124053</td>\n",
       "      <td>0</td>\n",
       "    </tr>\n",
       "    <tr>\n",
       "      <th>2</th>\n",
       "      <td>0.454604</td>\n",
       "      <td>0.078944</td>\n",
       "      <td>0.813851</td>\n",
       "      <td>0.251661</td>\n",
       "      <td>0.668753</td>\n",
       "      <td>0.692723</td>\n",
       "      <td>0.297132</td>\n",
       "      <td>0.262098</td>\n",
       "      <td>0.643997</td>\n",
       "      <td>0.455521</td>\n",
       "      <td>...</td>\n",
       "      <td>0.101545</td>\n",
       "      <td>0.884214</td>\n",
       "      <td>0.454067</td>\n",
       "      <td>0.452421</td>\n",
       "      <td>0.548616</td>\n",
       "      <td>0.452228</td>\n",
       "      <td>0.069228</td>\n",
       "      <td>0.218013</td>\n",
       "      <td>0.092949</td>\n",
       "      <td>0</td>\n",
       "    </tr>\n",
       "    <tr>\n",
       "      <th>3</th>\n",
       "      <td>0.472322</td>\n",
       "      <td>0.150948</td>\n",
       "      <td>0.743847</td>\n",
       "      <td>0.141953</td>\n",
       "      <td>-0.103311</td>\n",
       "      <td>0.452319</td>\n",
       "      <td>0.198531</td>\n",
       "      <td>0.267190</td>\n",
       "      <td>0.615544</td>\n",
       "      <td>0.463522</td>\n",
       "      <td>...</td>\n",
       "      <td>0.157913</td>\n",
       "      <td>0.559577</td>\n",
       "      <td>0.483881</td>\n",
       "      <td>0.467174</td>\n",
       "      <td>0.517466</td>\n",
       "      <td>0.506546</td>\n",
       "      <td>0.043213</td>\n",
       "      <td>0.244483</td>\n",
       "      <td>0.072648</td>\n",
       "      <td>0</td>\n",
       "    </tr>\n",
       "    <tr>\n",
       "      <th>4</th>\n",
       "      <td>0.593569</td>\n",
       "      <td>0.144901</td>\n",
       "      <td>0.765825</td>\n",
       "      <td>0.153477</td>\n",
       "      <td>-0.494866</td>\n",
       "      <td>0.452319</td>\n",
       "      <td>0.204609</td>\n",
       "      <td>0.301187</td>\n",
       "      <td>0.620775</td>\n",
       "      <td>0.554542</td>\n",
       "      <td>...</td>\n",
       "      <td>0.165668</td>\n",
       "      <td>0.742862</td>\n",
       "      <td>0.577568</td>\n",
       "      <td>0.563682</td>\n",
       "      <td>0.421747</td>\n",
       "      <td>0.479975</td>\n",
       "      <td>0.026480</td>\n",
       "      <td>0.286958</td>\n",
       "      <td>0.096689</td>\n",
       "      <td>0</td>\n",
       "    </tr>\n",
       "  </tbody>\n",
       "</table>\n",
       "<p>5 rows × 45 columns</p>\n",
       "</div>"
      ],
      "text/plain": [
       "      Attr1     Attr2     Attr3     Attr4     Attr5     Attr6     Attr8  \\\n",
       "0  0.583130  0.144185  0.700533  0.107262 -0.256758  0.452319  0.187795   \n",
       "1  0.562436  0.160730  0.746096  0.129688 -0.000074  0.452319  0.190701   \n",
       "2  0.454604  0.078944  0.813851  0.251661  0.668753  0.692723  0.297132   \n",
       "3  0.472322  0.150948  0.743847  0.141953 -0.103311  0.452319  0.198531   \n",
       "4  0.593569  0.144901  0.765825  0.153477 -0.494866  0.452319  0.204609   \n",
       "\n",
       "      Attr9    Attr10    Attr12  ...    Attr51    Attr55    Attr56    Attr57  \\\n",
       "0  0.284306  0.589700  0.538100  ...  0.185463  0.472736  0.568410  0.582351   \n",
       "1  0.332131  0.609166  0.514155  ...  0.201406  0.525415  0.468606  0.546047   \n",
       "2  0.262098  0.643997  0.455521  ...  0.101545  0.884214  0.454067  0.452421   \n",
       "3  0.267190  0.615544  0.463522  ...  0.157913  0.559577  0.483881  0.467174   \n",
       "4  0.301187  0.620775  0.554542  ...  0.165668  0.742862  0.577568  0.563682   \n",
       "\n",
       "     Attr58    Attr59    Attr60    Attr61    Attr64  class  \n",
       "0  0.429152  0.452231  0.099275  0.270279  0.084109      0  \n",
       "1  0.478858  0.452228  0.061195  0.224693  0.124053      0  \n",
       "2  0.548616  0.452228  0.069228  0.218013  0.092949      0  \n",
       "3  0.517466  0.506546  0.043213  0.244483  0.072648      0  \n",
       "4  0.421747  0.479975  0.026480  0.286958  0.096689      0  \n",
       "\n",
       "[5 rows x 45 columns]"
      ]
     },
     "execution_count": 105,
     "metadata": {},
     "output_type": "execute_result"
    }
   ],
   "source": [
    "scaled_data = pd.read_csv('3year_scaled.csv')\n",
    "scaled_data.head()"
   ]
  },
  {
   "cell_type": "code",
   "execution_count": 172,
   "metadata": {},
   "outputs": [],
   "source": [
    "X = scaled_data.loc[:,scaled_data.columns!='class']\n",
    "y = scaled_data['class']"
   ]
  },
  {
   "cell_type": "code",
   "execution_count": 173,
   "metadata": {},
   "outputs": [],
   "source": [
    "X_train, X_test, y_train, y_test = train_test_split(X, y, test_size=0.3, random_state=2019, stratify=y)"
   ]
  },
  {
   "cell_type": "code",
   "execution_count": 110,
   "metadata": {},
   "outputs": [
    {
     "data": {
      "text/plain": [
       "0    10008\n",
       "1      495\n",
       "Name: class, dtype: int64"
      ]
     },
     "execution_count": 110,
     "metadata": {},
     "output_type": "execute_result"
    }
   ],
   "source": [
    "y.value_counts()"
   ]
  },
  {
   "cell_type": "code",
   "execution_count": 119,
   "metadata": {},
   "outputs": [
    {
     "name": "stderr",
     "output_type": "stream",
     "text": [
      "Using TensorFlow backend.\n"
     ]
    }
   ],
   "source": [
    "from imblearn.over_sampling import SMOTE"
   ]
  },
  {
   "cell_type": "code",
   "execution_count": 120,
   "metadata": {},
   "outputs": [],
   "source": [
    "oversampler = SMOTE(random_state=42)\n",
    "X_res, y_res = oversampler.fit_resample(X_train, y_train)"
   ]
  },
  {
   "cell_type": "code",
   "execution_count": 134,
   "metadata": {},
   "outputs": [],
   "source": [
    "X_res = pd.DataFrame(data=X_res, columns=X_train.columns)\n",
    "y_res = pd.Series(y_res)"
   ]
  },
  {
   "cell_type": "code",
   "execution_count": 123,
   "metadata": {},
   "outputs": [
    {
     "data": {
      "text/plain": [
       "LogisticRegressionCV(Cs=20, class_weight=None, cv=5, dual=False,\n",
       "                     fit_intercept=True, intercept_scaling=1.0, l1_ratios=None,\n",
       "                     max_iter=1000, multi_class='warn', n_jobs=None,\n",
       "                     penalty='l2', random_state=None, refit=True,\n",
       "                     scoring='precision', solver='lbfgs', tol=0.0001,\n",
       "                     verbose=0)"
      ]
     },
     "execution_count": 123,
     "metadata": {},
     "output_type": "execute_result"
    }
   ],
   "source": [
    "log_reg_model = LogisticRegressionCV(Cs=20, cv=5, scoring='precision', max_iter=1000)\n",
    "log_reg_model.fit(X_res, y_res)"
   ]
  },
  {
   "cell_type": "code",
   "execution_count": 124,
   "metadata": {},
   "outputs": [
    {
     "name": "stdout",
     "output_type": "stream",
     "text": [
      "Accuracy: 0.669\n",
      "Precision: 0.658\n",
      "Recall: 0.090\n",
      "f1_score: 0.158\n"
     ]
    }
   ],
   "source": [
    "quality_report(log_reg_model.predict(X_test), y_test)"
   ]
  },
  {
   "cell_type": "code",
   "execution_count": 125,
   "metadata": {},
   "outputs": [
    {
     "data": {
      "image/png": "[encoded data removed]",
      "text/plain": [
       "<Figure size 432x288 with 1 Axes>"
      ]
     },
     "metadata": {
      "needs_background": "light"
     },
     "output_type": "display_data"
    }
   ],
   "source": [
    "plot_roc_curve(log_reg_model.predict_proba(X_test)[:,1], y_test)"
   ]
  },
  {
   "cell_type": "code",
   "execution_count": 136,
   "metadata": {},
   "outputs": [
    {
     "name": "stdout",
     "output_type": "stream",
     "text": [
      "model XGBClassifier best accuracy score is 0.9247073936625749\n",
      "time for training is 300.6760103702545 seconds\n",
      "0.9247073936625749\n"
     ]
    }
   ],
   "source": [
    "param_grid = {\n",
    "    'max_depth': [2, 3, 4, 5],\n",
    "    'n_estimators': [50, 100, 150, 200],\n",
    "    'learning_rate': [0.01, 0.02, 0.05]\n",
    "}\n",
    "best_xgb = randomized_cv(xgb.XGBClassifier(), param_grid, X_res, y_res)"
   ]
  },
  {
   "cell_type": "code",
   "execution_count": 137,
   "metadata": {},
   "outputs": [
    {
     "name": "stdout",
     "output_type": "stream",
     "text": [
      "Accuracy: 0.890\n",
      "Precision: 0.611\n",
      "Recall: 0.240\n",
      "f1_score: 0.345\n"
     ]
    }
   ],
   "source": [
    "quality_report(best_xgb.predict(X_test), y_test)"
   ]
  },
  {
   "cell_type": "code",
   "execution_count": 139,
   "metadata": {},
   "outputs": [
    {
     "data": {
      "image/png": "[encoded data removed]",
      "text/plain": [
       "<Figure size 432x288 with 1 Axes>"
      ]
     },
     "metadata": {
      "needs_background": "light"
     },
     "output_type": "display_data"
    }
   ],
   "source": [
    "plot_roc_curve(best_xgb.predict_proba(X_test)[:,1], y_test)"
   ]
  },
  {
   "cell_type": "code",
   "execution_count": 140,
   "metadata": {},
   "outputs": [
    {
     "name": "stdout",
     "output_type": "stream",
     "text": [
      "model LGBMClassifier best accuracy score is 0.9434770196974023\n",
      "time for training is 49.48110222816467 seconds\n",
      "0.9434770196974023\n"
     ]
    }
   ],
   "source": [
    "param_grid = {\n",
    "    'max_depth': [2, 3, 4, 5],\n",
    "    'n_estimators': [50, 100, 150, 200],\n",
    "    'learning_rate': [0.01, 0.02, 0.05]\n",
    "}\n",
    "best_lgb = randomized_cv(lgb.LGBMClassifier(), param_grid, X_res, y_res)"
   ]
  },
  {
   "cell_type": "code",
   "execution_count": 141,
   "metadata": {},
   "outputs": [
    {
     "name": "stdout",
     "output_type": "stream",
     "text": [
      "Accuracy: 0.902\n",
      "Precision: 0.537\n",
      "Recall: 0.251\n",
      "f1_score: 0.342\n"
     ]
    }
   ],
   "source": [
    "quality_report(best_lgb.predict(X_test), y_test)"
   ]
  },
  {
   "cell_type": "code",
   "execution_count": 142,
   "metadata": {},
   "outputs": [
    {
     "data": {
      "image/png": "[encoded data removed]",
      "text/plain": [
       "<Figure size 432x288 with 1 Axes>"
      ]
     },
     "metadata": {
      "needs_background": "light"
     },
     "output_type": "display_data"
    }
   ],
   "source": [
    "plot_roc_curve(best_lgb.predict_proba(X_test)[:,1], y_test)"
   ]
  },
  {
   "cell_type": "code",
   "execution_count": 144,
   "metadata": {},
   "outputs": [],
   "source": [
    "from catboost import CatBoostClassifier"
   ]
  },
  {
   "cell_type": "code",
   "execution_count": 146,
   "metadata": {
    "scrolled": true
   },
   "outputs": [
    {
     "name": "stdout",
     "output_type": "stream",
     "text": [
      "0:\tlearn: 0.6905522\ttotal: 88ms\tremaining: 176ms\n",
      "1:\tlearn: 0.6872404\ttotal: 109ms\tremaining: 54.6ms\n",
      "2:\tlearn: 0.6854063\ttotal: 129ms\tremaining: 0us\n",
      "0:\tlearn: 0.6915265\ttotal: 23.3ms\tremaining: 46.6ms\n",
      "1:\tlearn: 0.6897880\ttotal: 46.7ms\tremaining: 23.3ms\n",
      "2:\tlearn: 0.6882991\ttotal: 63.4ms\tremaining: 0us\n",
      "0:\tlearn: 0.6914503\ttotal: 26.8ms\tremaining: 53.6ms\n",
      "1:\tlearn: 0.6893571\ttotal: 48.3ms\tremaining: 24.1ms\n",
      "2:\tlearn: 0.6877842\ttotal: 73ms\tremaining: 0us\n",
      "0:\tlearn: 0.6918008\ttotal: 23.7ms\tremaining: 47.5ms\n",
      "1:\tlearn: 0.6899604\ttotal: 46.8ms\tremaining: 23.4ms\n",
      "2:\tlearn: 0.6886331\ttotal: 67.4ms\tremaining: 0us\n",
      "0:\tlearn: 0.6915370\ttotal: 27.4ms\tremaining: 54.8ms\n",
      "1:\tlearn: 0.6893503\ttotal: 47.2ms\tremaining: 23.6ms\n",
      "2:\tlearn: 0.6880988\ttotal: 70.9ms\tremaining: 0us\n",
      "0:\tlearn: 0.6931437\ttotal: 16.9ms\tremaining: 16.9ms\n",
      "1:\tlearn: 0.6931400\ttotal: 31.1ms\tremaining: 0us\n",
      "0:\tlearn: 0.6931451\ttotal: 24.6ms\tremaining: 24.6ms\n",
      "1:\tlearn: 0.6931437\ttotal: 40.3ms\tremaining: 0us\n",
      "0:\tlearn: 0.6931441\ttotal: 19.8ms\tremaining: 19.8ms\n",
      "1:\tlearn: 0.6931428\ttotal: 35.4ms\tremaining: 0us\n",
      "0:\tlearn: 0.6931457\ttotal: 21.2ms\tremaining: 21.2ms\n",
      "1:\tlearn: 0.6931441\ttotal: 43.2ms\tremaining: 0us\n",
      "0:\tlearn: 0.6931450\ttotal: 19.4ms\tremaining: 19.4ms\n",
      "1:\tlearn: 0.6931440\ttotal: 40ms\tremaining: 0us\n",
      "0:\tlearn: 0.6931210\ttotal: 17.6ms\tremaining: 70.4ms\n",
      "1:\tlearn: 0.6930967\ttotal: 31.9ms\tremaining: 47.9ms\n",
      "2:\tlearn: 0.6930746\ttotal: 46.1ms\tremaining: 30.7ms\n",
      "3:\tlearn: 0.6930513\ttotal: 59.2ms\tremaining: 14.8ms\n",
      "4:\tlearn: 0.6930295\ttotal: 75.5ms\tremaining: 0us\n",
      "0:\tlearn: 0.6931319\ttotal: 13.8ms\tremaining: 55.3ms\n",
      "1:\tlearn: 0.6931268\ttotal: 27.1ms\tremaining: 40.7ms\n",
      "2:\tlearn: 0.6931169\ttotal: 38.1ms\tremaining: 25.4ms\n",
      "3:\tlearn: 0.6931055\ttotal: 50.2ms\tremaining: 12.6ms\n",
      "4:\tlearn: 0.6930869\ttotal: 62ms\tremaining: 0us\n",
      "0:\tlearn: 0.6931361\ttotal: 21.3ms\tremaining: 85ms\n",
      "1:\tlearn: 0.6931316\ttotal: 42.2ms\tremaining: 63.3ms\n",
      "2:\tlearn: 0.6931125\ttotal: 56.8ms\tremaining: 37.9ms\n",
      "3:\tlearn: 0.6931058\ttotal: 73ms\tremaining: 18.3ms\n",
      "4:\tlearn: 0.6930954\ttotal: 90.1ms\tremaining: 0us\n",
      "0:\tlearn: 0.6931408\ttotal: 15.4ms\tremaining: 61.8ms\n",
      "1:\tlearn: 0.6931235\ttotal: 27.8ms\tremaining: 41.7ms\n",
      "2:\tlearn: 0.6931102\ttotal: 40.8ms\tremaining: 27.2ms\n",
      "3:\tlearn: 0.6931002\ttotal: 52.8ms\tremaining: 13.2ms\n",
      "4:\tlearn: 0.6930890\ttotal: 67.7ms\tremaining: 0us\n",
      "0:\tlearn: 0.6931379\ttotal: 25.4ms\tremaining: 101ms\n",
      "1:\tlearn: 0.6931216\ttotal: 38.3ms\tremaining: 57.5ms\n",
      "2:\tlearn: 0.6931119\ttotal: 50.9ms\tremaining: 33.9ms\n",
      "3:\tlearn: 0.6931080\ttotal: 63.4ms\tremaining: 15.8ms\n",
      "4:\tlearn: 0.6930949\ttotal: 75.7ms\tremaining: 0us\n",
      "0:\tlearn: 0.6931450\ttotal: 16.2ms\tremaining: 16.2ms\n",
      "1:\tlearn: 0.6931438\ttotal: 25.6ms\tremaining: 0us\n",
      "0:\tlearn: 0.6931465\ttotal: 14ms\tremaining: 14ms\n",
      "1:\tlearn: 0.6931463\ttotal: 26.2ms\tremaining: 0us\n",
      "0:\tlearn: 0.6931467\ttotal: 11.8ms\tremaining: 11.8ms\n",
      "1:\tlearn: 0.6931464\ttotal: 22ms\tremaining: 0us\n",
      "0:\tlearn: 0.6931467\ttotal: 15.7ms\tremaining: 15.7ms\n",
      "1:\tlearn: 0.6931459\ttotal: 26.1ms\tremaining: 0us\n",
      "0:\tlearn: 0.6931467\ttotal: 12.9ms\tremaining: 12.9ms\n",
      "1:\tlearn: 0.6931464\ttotal: 22.1ms\tremaining: 0us\n",
      "0:\tlearn: 0.6931420\ttotal: 25.8ms\tremaining: 25.8ms\n",
      "1:\tlearn: 0.6931358\ttotal: 46.8ms\tremaining: 0us\n",
      "0:\tlearn: 0.6931439\ttotal: 26.2ms\tremaining: 26.2ms\n",
      "1:\tlearn: 0.6931393\ttotal: 51ms\tremaining: 0us\n",
      "0:\tlearn: 0.6931437\ttotal: 29.7ms\tremaining: 29.7ms\n",
      "1:\tlearn: 0.6931397\ttotal: 52.3ms\tremaining: 0us\n",
      "0:\tlearn: 0.6931447\ttotal: 22ms\tremaining: 22ms\n",
      "1:\tlearn: 0.6931403\ttotal: 46.7ms\tremaining: 0us\n",
      "0:\tlearn: 0.6931440\ttotal: 25.1ms\tremaining: 25.1ms\n",
      "1:\tlearn: 0.6931399\ttotal: 45.6ms\tremaining: 0us\n",
      "0:\tlearn: 0.6931210\ttotal: 26.4ms\tremaining: 26.4ms\n",
      "1:\tlearn: 0.6930967\ttotal: 45.2ms\tremaining: 0us\n",
      "0:\tlearn: 0.6931319\ttotal: 16.8ms\tremaining: 16.8ms\n",
      "1:\tlearn: 0.6931268\ttotal: 34.6ms\tremaining: 0us\n",
      "0:\tlearn: 0.6931361\ttotal: 15.8ms\tremaining: 15.8ms\n",
      "1:\tlearn: 0.6931316\ttotal: 29.1ms\tremaining: 0us\n",
      "0:\tlearn: 0.6931408\ttotal: 15.2ms\tremaining: 15.2ms\n",
      "1:\tlearn: 0.6931235\ttotal: 29.5ms\tremaining: 0us\n",
      "0:\tlearn: 0.6931379\ttotal: 14.8ms\tremaining: 14.8ms\n",
      "1:\tlearn: 0.6931216\ttotal: 29.5ms\tremaining: 0us\n",
      "0:\tlearn: 0.6928975\ttotal: 17.6ms\tremaining: 52.7ms\n",
      "1:\tlearn: 0.6926654\ttotal: 30.7ms\tremaining: 30.7ms\n",
      "2:\tlearn: 0.6923320\ttotal: 44.5ms\tremaining: 14.8ms\n",
      "3:\tlearn: 0.6921107\ttotal: 57ms\tremaining: 0us\n",
      "0:\tlearn: 0.6930013\ttotal: 18ms\tremaining: 54ms\n",
      "1:\tlearn: 0.6929530\ttotal: 30.3ms\tremaining: 30.3ms\n",
      "2:\tlearn: 0.6927427\ttotal: 43.2ms\tremaining: 14.4ms\n",
      "3:\tlearn: 0.6926663\ttotal: 54.9ms\tremaining: 0us\n",
      "0:\tlearn: 0.6930415\ttotal: 14.7ms\tremaining: 44.1ms\n",
      "1:\tlearn: 0.6929993\ttotal: 29.4ms\tremaining: 29.4ms\n",
      "2:\tlearn: 0.6928166\ttotal: 47ms\tremaining: 15.7ms\n",
      "3:\tlearn: 0.6927538\ttotal: 59.1ms\tremaining: 0us\n",
      "0:\tlearn: 0.6930867\ttotal: 17.1ms\tremaining: 51.4ms\n",
      "1:\tlearn: 0.6929200\ttotal: 31ms\tremaining: 31ms\n",
      "2:\tlearn: 0.6927942\ttotal: 44.3ms\tremaining: 14.8ms\n",
      "3:\tlearn: 0.6927008\ttotal: 58.4ms\tremaining: 0us\n",
      "0:\tlearn: 0.6930591\ttotal: 17.8ms\tremaining: 53.3ms\n",
      "1:\tlearn: 0.6929057\ttotal: 31.5ms\tremaining: 31.5ms\n",
      "2:\tlearn: 0.6928729\ttotal: 43.7ms\tremaining: 14.6ms\n",
      "3:\tlearn: 0.6927630\ttotal: 56.6ms\tremaining: 0us\n",
      "0:\tlearn: 0.6931445\ttotal: 15.9ms\tremaining: 15.9ms\n",
      "1:\tlearn: 0.6931421\ttotal: 28ms\tremaining: 0us\n",
      "0:\tlearn: 0.6931456\ttotal: 15.9ms\tremaining: 15.9ms\n",
      "1:\tlearn: 0.6931451\ttotal: 29.4ms\tremaining: 0us\n",
      "0:\tlearn: 0.6931461\ttotal: 19ms\tremaining: 19ms\n",
      "1:\tlearn: 0.6931456\ttotal: 33.4ms\tremaining: 0us\n",
      "0:\tlearn: 0.6931465\ttotal: 21.1ms\tremaining: 21.1ms\n",
      "1:\tlearn: 0.6931448\ttotal: 34.6ms\tremaining: 0us\n",
      "0:\tlearn: 0.6931463\ttotal: 13.7ms\tremaining: 13.7ms\n",
      "1:\tlearn: 0.6931446\ttotal: 28.9ms\tremaining: 0us\n",
      "0:\tlearn: 0.6930952\ttotal: 28.2ms\tremaining: 28.2ms\n",
      "1:\tlearn: 0.6930344\ttotal: 53.3ms\tremaining: 0us\n",
      "0:\tlearn: 0.6931149\ttotal: 35ms\tremaining: 35ms\n",
      "1:\tlearn: 0.6930691\ttotal: 54.7ms\tremaining: 0us\n",
      "0:\tlearn: 0.6931127\ttotal: 29.1ms\tremaining: 29.1ms\n",
      "1:\tlearn: 0.6930727\ttotal: 51.3ms\tremaining: 0us\n",
      "0:\tlearn: 0.6931221\ttotal: 31.7ms\tremaining: 31.7ms\n",
      "1:\tlearn: 0.6930791\ttotal: 56ms\tremaining: 0us\n",
      "0:\tlearn: 0.6931153\ttotal: 28.9ms\tremaining: 28.9ms\n",
      "1:\tlearn: 0.6930743\ttotal: 51.9ms\tremaining: 0us\n",
      "0:\tlearn: 0.6931259\ttotal: 13.6ms\tremaining: 40.7ms\n",
      "1:\tlearn: 0.6931139\ttotal: 24.2ms\tremaining: 24.2ms\n",
      "2:\tlearn: 0.6931059\ttotal: 35ms\tremaining: 11.7ms\n",
      "3:\tlearn: 0.6930930\ttotal: 44.1ms\tremaining: 0us\n",
      "0:\tlearn: 0.6931405\ttotal: 10.2ms\tremaining: 30.6ms\n",
      "1:\tlearn: 0.6931384\ttotal: 19.5ms\tremaining: 19.5ms\n",
      "2:\tlearn: 0.6931375\ttotal: 28.3ms\tremaining: 9.42ms\n",
      "3:\tlearn: 0.6931250\ttotal: 37.6ms\tremaining: 0us\n",
      "0:\tlearn: 0.6931423\ttotal: 14.6ms\tremaining: 43.7ms\n",
      "1:\tlearn: 0.6931392\ttotal: 24ms\tremaining: 24ms\n",
      "2:\tlearn: 0.6931357\ttotal: 39.7ms\tremaining: 13.2ms\n",
      "3:\tlearn: 0.6931296\ttotal: 54.3ms\tremaining: 0us\n",
      "0:\tlearn: 0.6931422\ttotal: 12.5ms\tremaining: 37.6ms\n",
      "1:\tlearn: 0.6931340\ttotal: 22.9ms\tremaining: 22.9ms\n",
      "2:\tlearn: 0.6931295\ttotal: 35ms\tremaining: 11.7ms\n",
      "3:\tlearn: 0.6931265\ttotal: 45ms\tremaining: 0us\n",
      "0:\tlearn: 0.6931424\ttotal: 11.9ms\tremaining: 35.6ms\n",
      "1:\tlearn: 0.6931397\ttotal: 22.2ms\tremaining: 22.2ms\n",
      "2:\tlearn: 0.6931357\ttotal: 34.1ms\tremaining: 11.4ms\n",
      "3:\tlearn: 0.6931321\ttotal: 44.3ms\tremaining: 0us\n",
      "0:\tlearn: 0.6931413\ttotal: 16.9ms\tremaining: 50.7ms\n",
      "1:\tlearn: 0.6931326\ttotal: 25.9ms\tremaining: 25.9ms\n",
      "2:\tlearn: 0.6931198\ttotal: 35.5ms\tremaining: 11.8ms\n",
      "3:\tlearn: 0.6931154\ttotal: 45.7ms\tremaining: 0us\n",
      "model CatBoostClassifier best accuracy score is 0.5093491293177277\n",
      "time for training is 26.034135818481445 seconds\n",
      "0.5093491293177277\n"
     ]
    }
   ],
   "source": [
    "param_grid = {\n",
    "    'iterations': [2, 3, 4, 5],\n",
    "    'depth': [2, 3, 4, 5],\n",
    "    'learning_rate': [1, 0.1, 0.01, 0.001]\n",
    "}\n",
    "best_cbm = randomized_cv(CatBoostClassifier(), param_grid, X_res, y_res)"
   ]
  },
  {
   "cell_type": "code",
   "execution_count": 147,
   "metadata": {},
   "outputs": [
    {
     "name": "stdout",
     "output_type": "stream",
     "text": [
      "Accuracy: 0.670\n",
      "Precision: 0.208\n",
      "Recall: 0.033\n",
      "f1_score: 0.056\n"
     ]
    }
   ],
   "source": [
    "quality_report(best_cbm.predict(X_test), y_test)"
   ]
  },
  {
   "cell_type": "code",
   "execution_count": 148,
   "metadata": {},
   "outputs": [
    {
     "data": {
      "image/png": "[encoded data removed]",
      "text/plain": [
       "<Figure size 432x288 with 1 Axes>"
      ]
     },
     "metadata": {
      "needs_background": "light"
     },
     "output_type": "display_data"
    }
   ],
   "source": [
    "plot_roc_curve(best_cbm.predict_proba(X_test)[:,1], y_test)"
   ]
  },
  {
   "cell_type": "markdown",
   "metadata": {},
   "source": [
    "### Лучшие результаты из 3-ёх моделей показал XGBoost. LightGBM показал близкий результат, при этом времени на обучение модели было потрачено в 6 раз меньше - 50 с вместо 300."
   ]
  },
  {
   "cell_type": "markdown",
   "metadata": {},
   "source": [
    "## Подбор гиперпараметров XGBoost"
   ]
  },
  {
   "cell_type": "code",
   "execution_count": 156,
   "metadata": {},
   "outputs": [],
   "source": [
    "from sklearn.model_selection import cross_validate"
   ]
  },
  {
   "cell_type": "markdown",
   "metadata": {},
   "source": [
    "### 1. Подбор количества деревьев. "
   ]
  },
  {
   "cell_type": "code",
   "execution_count": 175,
   "metadata": {},
   "outputs": [
    {
     "data": {
      "text/plain": [
       "7352"
      ]
     },
     "execution_count": 175,
     "metadata": {},
     "output_type": "execute_result"
    }
   ],
   "source": [
    "len(y_train)"
   ]
  },
  {
   "cell_type": "code",
   "execution_count": 154,
   "metadata": {},
   "outputs": [],
   "source": [
    "validation_parameters = ['accuracy', 'precision', 'recall', 'f1']"
   ]
  },
  {
   "cell_type": "code",
   "execution_count": 174,
   "metadata": {},
   "outputs": [
    {
     "name": "stdout",
     "output_type": "stream",
     "text": [
      "200\n",
      "[0.9644994084590358, 0.889151515151515, 0.2803312629399585, 0.4257776761471842]\n",
      "---\n",
      "400\n",
      "[0.9655874741200827, 0.8649536550406115, 0.3178467908902691, 0.46455444147569935]\n",
      "---\n",
      "800\n",
      "[0.9664036157941437, 0.8548275862068964, 0.3438923395445135, 0.4902191559854582]\n",
      "---\n",
      "1600\n",
      "[0.9665400399290152, 0.8477923736544426, 0.3526293995859213, 0.49791601582838696]\n",
      "---\n",
      "3200\n",
      "[0.9668119639160013, 0.8598054275473631, 0.3526293995859213, 0.49989732800336634]\n",
      "---\n",
      "6400\n",
      "[0.9666760943507839, 0.8582181259600615, 0.34977225672877854, 0.49669759450171824]\n",
      "---\n"
     ]
    }
   ],
   "source": [
    "history=[]\n",
    "for num_trees in [200, 400, 800, 1600, 3200, 6400]:\n",
    "    model = xgb.XGBClassifier(n_estimators=num_trees, learning_rate=0.1)\n",
    "    val_scores = cross_validate(model, X_train, y_train, scoring=validation_parameters, cv=5)\n",
    "    mean_acc = np.mean(val_scores['test_accuracy'])\n",
    "    mean_prc = np.mean(val_scores['test_precision'])\n",
    "    mean_rcl = np.mean(val_scores['test_recall'])\n",
    "    mean_f1 = np.mean(val_scores['test_f1'])\n",
    "    history.append([mean_acc, mean_prc, mean_rcl, mean_f1])\n",
    "    print(num_trees)\n",
    "    print([mean_acc, mean_prc, mean_rcl, mean_f1])\n",
    "    print('---')\n",
    "learning_curves = pd.DataFrame(data=history, columns = ['accuracy', 'precision', 'recall', 'f1'])"
   ]
  },
  {
   "cell_type": "code",
   "execution_count": 180,
   "metadata": {},
   "outputs": [
    {
     "name": "stdout",
     "output_type": "stream",
     "text": [
      "200\n",
      "[0.9647730879086004, 0.2550335570469799, 1.0, 0.40641711229946526]\n",
      "---\n",
      "400\n",
      "[0.9657251666137734, 0.28859060402684567, 0.9555555555555556, 0.443298969072165]\n",
      "---\n",
      "800\n",
      "[0.9647730879086004, 0.31543624161073824, 0.8392857142857143, 0.4585365853658537]\n",
      "---\n",
      "1600\n",
      "[0.9650904474769915, 0.3221476510067114, 0.8421052631578947, 0.4660194174757281]\n",
      "---\n",
      "3200\n",
      "[0.9641383687718185, 0.33557046979865773, 0.78125, 0.46948356807511743]\n",
      "---\n",
      "6400\n",
      "[0.9647730879086004, 0.33557046979865773, 0.8064516129032258, 0.4739336492890996]\n",
      "---\n"
     ]
    }
   ],
   "source": [
    "test_results=[]\n",
    "for num_trees in [200, 400, 800, 1600, 3200, 6400]:\n",
    "    model = xgb.XGBClassifier(n_estimators=num_trees, learning_rate=0.1).fit(X_train, y_train)\n",
    "    prediction= model.predict(X_test)    \n",
    "    test_acc = accuracy_score(prediction, y_test)\n",
    "    test_prc = precision_score(prediction, y_test)\n",
    "    test_rcl = recall_score(prediction, y_test)\n",
    "    test_f1 = f1_score(prediction, y_test)\n",
    "    test_results.append([test_acc, test_prc, test_rcl, test_f1])\n",
    "    print(num_trees)\n",
    "    print([test_acc, test_prc, test_rcl, test_f1])\n",
    "    print('---')\n",
    "test_scores = pd.DataFrame(data=test_results, columns = ['accuracy', 'precision', 'recall', 'f1'])"
   ]
  },
  {
   "cell_type": "markdown",
   "metadata": {},
   "source": [
    "### Будем считать оптимальным количество деревьев 1600"
   ]
  },
  {
   "cell_type": "markdown",
   "metadata": {},
   "source": [
    "### 2. Подбор глубины деревьев"
   ]
  },
  {
   "cell_type": "code",
   "execution_count": 183,
   "metadata": {},
   "outputs": [
    {
     "name": "stdout",
     "output_type": "stream",
     "text": [
      "2\n",
      "[0.9642274844720496, 0.7985860244480933, 0.32082815734989645, 0.4576670874535381]\n",
      "---\n",
      "4\n",
      "[0.9673559967465246, 0.8906666666666666, 0.3497722567287785, 0.501892610313663]\n",
      "---\n",
      "8\n",
      "[0.9673558118899734, 0.9086080586080586, 0.34103519668737053, 0.4956979912368217]\n",
      "---\n",
      "16\n",
      "[0.9655876589766341, 0.8659373219373219, 0.31792960662525876, 0.4649446110127756]\n",
      "---\n",
      "32\n",
      "[0.9659960070984915, 0.8817692307692309, 0.32082815734989645, 0.4704102999434069]\n",
      "---\n",
      "64\n",
      "[0.9659960070984915, 0.8817692307692309, 0.32082815734989645, 0.4704102999434069]\n",
      "---\n"
     ]
    }
   ],
   "source": [
    "history=[]\n",
    "for depth in [2, 4, 8, 16, 32, 64]:\n",
    "    model = xgb.XGBClassifier(n_estimators=1600, max_depth=depth, learning_rate=0.1)\n",
    "    val_scores = cross_validate(model, X_train, y_train, scoring=validation_parameters, cv=5)\n",
    "    mean_acc = np.mean(val_scores['test_accuracy'])\n",
    "    mean_prc = np.mean(val_scores['test_precision'])\n",
    "    mean_rcl = np.mean(val_scores['test_recall'])\n",
    "    mean_f1 = np.mean(val_scores['test_f1'])\n",
    "    history.append([mean_acc, mean_prc, mean_rcl, mean_f1])\n",
    "    print(depth)\n",
    "    print([mean_acc, mean_prc, mean_rcl, mean_f1])\n",
    "    print('---')\n",
    "learning_curves = pd.DataFrame(data=history, columns = ['accuracy', 'precision', 'recall', 'f1'])"
   ]
  },
  {
   "cell_type": "code",
   "execution_count": 184,
   "metadata": {},
   "outputs": [
    {
     "name": "stdout",
     "output_type": "stream",
     "text": [
      "4\n",
      "[0.9673559967465246, 0.8906666666666666, 0.3497722567287785, 0.501892610313663]\n",
      "---\n",
      "5\n",
      "[0.9676277358769594, 0.8967439967439967, 0.35258799171842653, 0.5060765961294991]\n",
      "---\n",
      "6\n",
      "[0.9670838879029873, 0.8882328042328043, 0.3439337474120083, 0.4957245741025078]\n",
      "---\n",
      "7\n",
      "[0.9665400399290152, 0.8851778591778592, 0.3324223602484472, 0.48302255264033045]\n",
      "---\n",
      "8\n",
      "[0.9673558118899734, 0.9086080586080586, 0.34103519668737053, 0.4956979912368217]\n",
      "---\n"
     ]
    }
   ],
   "source": [
    "history=[]\n",
    "for depth in [4, 5, 6, 7, 8]:\n",
    "    model = xgb.XGBClassifier(n_estimators=1600, max_depth=depth, learning_rate=0.1)\n",
    "    val_scores = cross_validate(model, X_train, y_train, scoring=validation_parameters, cv=5)\n",
    "    mean_acc = np.mean(val_scores['test_accuracy'])\n",
    "    mean_prc = np.mean(val_scores['test_precision'])\n",
    "    mean_rcl = np.mean(val_scores['test_recall'])\n",
    "    mean_f1 = np.mean(val_scores['test_f1'])\n",
    "    history.append([mean_acc, mean_prc, mean_rcl, mean_f1])\n",
    "    print(depth)\n",
    "    print([mean_acc, mean_prc, mean_rcl, mean_f1])\n",
    "    print('---')\n",
    "learning_curves = pd.DataFrame(data=history, columns = ['accuracy', 'precision', 'recall', 'f1'])"
   ]
  },
  {
   "cell_type": "code",
   "execution_count": 185,
   "metadata": {},
   "outputs": [
    {
     "name": "stdout",
     "output_type": "stream",
     "text": [
      "4\n",
      "[0.9660425261821644, 0.3422818791946309, 0.85, 0.4880382775119617]\n",
      "---\n",
      "5\n",
      "[0.9650904474769915, 0.33557046979865773, 0.819672131147541, 0.4761904761904763]\n",
      "---\n",
      "6\n",
      "[0.9650904474769915, 0.3221476510067114, 0.8421052631578947, 0.4660194174757281]\n",
      "---\n",
      "7\n",
      "[0.9657251666137734, 0.3288590604026846, 0.8596491228070176, 0.47572815533980584]\n",
      "---\n",
      "8\n",
      "[0.9644557283402094, 0.3087248322147651, 0.8363636363636363, 0.45098039215686275]\n",
      "---\n"
     ]
    }
   ],
   "source": [
    "test_results=[]\n",
    "for depth in [4, 5, 6, 7, 8]:\n",
    "    model = xgb.XGBClassifier(n_estimators=1600, max_depth=depth, learning_rate=0.1).fit(X_train, y_train)\n",
    "    prediction= model.predict(X_test)    \n",
    "    test_acc = accuracy_score(prediction, y_test)\n",
    "    test_prc = precision_score(prediction, y_test)\n",
    "    test_rcl = recall_score(prediction, y_test)\n",
    "    test_f1 = f1_score(prediction, y_test)\n",
    "    test_results.append([test_acc, test_prc, test_rcl, test_f1])\n",
    "    print(depth)\n",
    "    print([test_acc, test_prc, test_rcl, test_f1])\n",
    "    print('---')\n",
    "test_scores = pd.DataFrame(data=test_results, columns = ['accuracy', 'precision', 'recall', 'f1'])"
   ]
  },
  {
   "cell_type": "markdown",
   "metadata": {},
   "source": [
    "### Оптимальная глубина 4"
   ]
  },
  {
   "cell_type": "markdown",
   "metadata": {},
   "source": [
    "### 3. Подбор скорости обучения"
   ]
  },
  {
   "cell_type": "code",
   "execution_count": 186,
   "metadata": {},
   "outputs": [
    {
     "name": "stdout",
     "output_type": "stream",
     "text": [
      "0.001\n",
      "[0.9617788745933156, 0.9549019607843139, 0.19937888198757764, 0.328231616445919]\n",
      "---\n",
      "0.01\n",
      "[0.965315734989648, 0.9416746411483252, 0.28037267080745343, 0.4318245923863902]\n",
      "---\n",
      "0.1\n",
      "[0.9673559967465246, 0.8906666666666666, 0.3497722567287785, 0.501892610313663]\n",
      "---\n",
      "0.2\n",
      "[0.9666759094942325, 0.8588122605363985, 0.34973084886128364, 0.4969703345255628]\n",
      "---\n",
      "0.3\n",
      "[0.9665396702159125, 0.8515672322568874, 0.34968944099378885, 0.49566541705716965]\n",
      "---\n"
     ]
    }
   ],
   "source": [
    "history=[]\n",
    "for rate in [0.001, 0.01, 0.1, 0.2, 0.3]:\n",
    "    model = xgb.XGBClassifier(n_estimators=1600, max_depth=4, learning_rate=rate)\n",
    "    val_scores = cross_validate(model, X_train, y_train, scoring=validation_parameters, cv=5)\n",
    "    mean_acc = np.mean(val_scores['test_accuracy'])\n",
    "    mean_prc = np.mean(val_scores['test_precision'])\n",
    "    mean_rcl = np.mean(val_scores['test_recall'])\n",
    "    mean_f1 = np.mean(val_scores['test_f1'])\n",
    "    history.append([mean_acc, mean_prc, mean_rcl, mean_f1])\n",
    "    print(rate)\n",
    "    print([mean_acc, mean_prc, mean_rcl, mean_f1])\n",
    "    print('---')\n",
    "learning_curves = pd.DataFrame(data=history, columns = ['accuracy', 'precision', 'recall', 'f1'])"
   ]
  },
  {
   "cell_type": "code",
   "execution_count": 187,
   "metadata": {},
   "outputs": [
    {
     "name": "stdout",
     "output_type": "stream",
     "text": [
      "0.001\n",
      "[0.9603300539511266, 0.1610738255033557, 1.0, 0.2774566473988439]\n",
      "---\n",
      "0.01\n",
      "[0.9654078070453824, 0.2751677852348993, 0.9761904761904762, 0.4293193717277487]\n",
      "---\n",
      "0.1\n",
      "[0.9660425261821644, 0.3422818791946309, 0.85, 0.4880382775119617]\n",
      "---\n",
      "0.2\n",
      "[0.9663598857505554, 0.3422818791946309, 0.864406779661017, 0.4903846153846155]\n",
      "---\n",
      "0.3\n",
      "[0.9657251666137734, 0.3422818791946309, 0.8360655737704918, 0.48571428571428565]\n",
      "---\n"
     ]
    }
   ],
   "source": [
    "test_results=[]\n",
    "for rate in [0.001, 0.01, 0.1, 0.2, 0.3]:\n",
    "    model = xgb.XGBClassifier(n_estimators=1600, max_depth=4, learning_rate=rate).fit(X_train, y_train)\n",
    "    prediction= model.predict(X_test)    \n",
    "    test_acc = accuracy_score(prediction, y_test)\n",
    "    test_prc = precision_score(prediction, y_test)\n",
    "    test_rcl = recall_score(prediction, y_test)\n",
    "    test_f1 = f1_score(prediction, y_test)\n",
    "    test_results.append([test_acc, test_prc, test_rcl, test_f1])\n",
    "    print(rate)\n",
    "    print([test_acc, test_prc, test_rcl, test_f1])\n",
    "    print('---')\n",
    "test_scores = pd.DataFrame(data=test_results, columns = ['accuracy', 'precision', 'recall', 'f1'])"
   ]
  },
  {
   "cell_type": "markdown",
   "metadata": {},
   "source": [
    "### Оптимальная скорость обучения 0.2"
   ]
  },
  {
   "cell_type": "markdown",
   "metadata": {},
   "source": [
    "### 4. Уточнение количества деревьев"
   ]
  },
  {
   "cell_type": "code",
   "execution_count": 188,
   "metadata": {},
   "outputs": [
    {
     "name": "stdout",
     "output_type": "stream",
     "text": [
      "100\n",
      "[0.9653161047027506, 0.8963636363636363, 0.2977639751552795, 0.446765060906686]\n",
      "---\n",
      "200\n",
      "[0.965316289559302, 0.8691778591778592, 0.3093167701863354, 0.455632427843803]\n",
      "---\n",
      "300\n",
      "[0.9662683007985804, 0.8884415954415953, 0.323768115942029, 0.4743760611205433]\n",
      "---\n",
      "400\n",
      "[0.9665402247855663, 0.8743035661656352, 0.33821946169772255, 0.48749819076566797]\n",
      "---\n",
      "800\n",
      "[0.9668119639160013, 0.8707675466296155, 0.34683229813664596, 0.4959400710908346]\n",
      "---\n",
      "1600\n",
      "[0.9666759094942325, 0.8588122605363985, 0.34973084886128364, 0.4969703345255628]\n",
      "---\n"
     ]
    }
   ],
   "source": [
    "history=[]\n",
    "for num_trees in [100, 200, 300, 400, 800, 1600]:\n",
    "    model = xgb.XGBClassifier(n_estimators=num_trees, max_depth=4, learning_rate=0.2)\n",
    "    val_scores = cross_validate(model, X_train, y_train, scoring=validation_parameters, cv=5)\n",
    "    mean_acc = np.mean(val_scores['test_accuracy'])\n",
    "    mean_prc = np.mean(val_scores['test_precision'])\n",
    "    mean_rcl = np.mean(val_scores['test_recall'])\n",
    "    mean_f1 = np.mean(val_scores['test_f1'])\n",
    "    history.append([mean_acc, mean_prc, mean_rcl, mean_f1])\n",
    "    print(num_trees)\n",
    "    print([mean_acc, mean_prc, mean_rcl, mean_f1])\n",
    "    print('---')\n",
    "learning_curves = pd.DataFrame(data=history, columns = ['accuracy', 'precision', 'recall', 'f1'])"
   ]
  },
  {
   "cell_type": "code",
   "execution_count": 189,
   "metadata": {},
   "outputs": [
    {
     "name": "stdout",
     "output_type": "stream",
     "text": [
      "800\n",
      "[0.9668119639160013, 0.8707675466296155, 0.34683229813664596, 0.4959400710908346]\n",
      "---\n",
      "900\n",
      "[0.9666760943507837, 0.8697093455714147, 0.34397515527950306, 0.49282624824210747]\n",
      "---\n",
      "1000\n",
      "[0.9668119639160013, 0.8707675466296155, 0.34683229813664596, 0.4959400710908346]\n",
      "---\n",
      "1200\n",
      "[0.9668119639160011, 0.865426017150155, 0.34973084886128364, 0.49804421768707485]\n",
      "---\n",
      "1400\n",
      "[0.9665400399290149, 0.8577540594781974, 0.3468737060041408, 0.49385651167683564]\n",
      "---\n",
      "1600\n",
      "[0.9666759094942325, 0.8588122605363985, 0.34973084886128364, 0.4969703345255628]\n",
      "---\n"
     ]
    }
   ],
   "source": [
    "history=[]\n",
    "for num_trees in [800, 900, 1000, 1200, 1400, 1600]:\n",
    "    model = xgb.XGBClassifier(n_estimators=num_trees, max_depth=4, learning_rate=0.2)\n",
    "    val_scores = cross_validate(model, X_train, y_train, scoring=validation_parameters, cv=5)\n",
    "    mean_acc = np.mean(val_scores['test_accuracy'])\n",
    "    mean_prc = np.mean(val_scores['test_precision'])\n",
    "    mean_rcl = np.mean(val_scores['test_recall'])\n",
    "    mean_f1 = np.mean(val_scores['test_f1'])\n",
    "    history.append([mean_acc, mean_prc, mean_rcl, mean_f1])\n",
    "    print(num_trees)\n",
    "    print([mean_acc, mean_prc, mean_rcl, mean_f1])\n",
    "    print('---')\n",
    "learning_curves = pd.DataFrame(data=history, columns = ['accuracy', 'precision', 'recall', 'f1'])"
   ]
  },
  {
   "cell_type": "code",
   "execution_count": 194,
   "metadata": {},
   "outputs": [
    {
     "name": "stdout",
     "output_type": "stream",
     "text": [
      "800\n",
      "[0.9660425261821644, 0.33557046979865773, 0.8620689655172413, 0.4830917874396135]\n",
      "---\n",
      "900\n",
      "[0.9660425261821644, 0.33557046979865773, 0.8620689655172413, 0.4830917874396135]\n",
      "---\n",
      "1000\n",
      "[0.9660425261821644, 0.33557046979865773, 0.8620689655172413, 0.4830917874396135]\n",
      "---\n",
      "1200\n",
      "[0.9660425261821644, 0.33557046979865773, 0.8620689655172413, 0.4830917874396135]\n",
      "---\n",
      "1400\n",
      "[0.9663598857505554, 0.3422818791946309, 0.864406779661017, 0.4903846153846155]\n",
      "---\n",
      "1600\n",
      "[0.9663598857505554, 0.3422818791946309, 0.864406779661017, 0.4903846153846155]\n",
      "---\n"
     ]
    }
   ],
   "source": [
    "test_results=[]\n",
    "for num_trees in [800, 900, 1000, 1200, 1400, 1600]:\n",
    "    model = xgb.XGBClassifier(n_estimators=num_trees, learning_rate=0.2, max_depth=4).fit(X_train, y_train)\n",
    "    prediction= model.predict(X_test)    \n",
    "    test_acc = accuracy_score(prediction, y_test)\n",
    "    test_prc = precision_score(prediction, y_test)\n",
    "    test_rcl = recall_score(prediction, y_test)\n",
    "    test_f1 = f1_score(prediction, y_test)\n",
    "    test_results.append([test_acc, test_prc, test_rcl, test_f1])\n",
    "    print(num_trees)\n",
    "    print([test_acc, test_prc, test_rcl, test_f1])\n",
    "    print('---')\n",
    "test_scores = pd.DataFrame(data=test_results, columns = ['accuracy', 'precision', 'recall', 'f1'])"
   ]
  },
  {
   "cell_type": "markdown",
   "metadata": {},
   "source": [
    "### Уточнённое количество деревьев 1400"
   ]
  },
  {
   "cell_type": "markdown",
   "metadata": {},
   "source": [
    "### 5. Влияние oversampling'а"
   ]
  },
  {
   "cell_type": "code",
   "execution_count": 199,
   "metadata": {},
   "outputs": [],
   "source": [
    "model = xgb.XGBClassifier(n_estimators=1400, learning_rate=0.2, max_depth=4).fit(X_train, y_train)\n",
    "prediction= model.predict(X_test)\n",
    "prediction_proba = model.predict_proba(X_test)"
   ]
  },
  {
   "cell_type": "markdown",
   "metadata": {},
   "source": [
    "### Результаты обучения на исходном наборе"
   ]
  },
  {
   "cell_type": "code",
   "execution_count": 200,
   "metadata": {},
   "outputs": [
    {
     "name": "stdout",
     "output_type": "stream",
     "text": [
      "Accuracy: 0.966\n",
      "Precision: 0.342\n",
      "Recall: 0.864\n",
      "f1_score: 0.490\n"
     ]
    }
   ],
   "source": [
    "quality_report(prediction, y_test)"
   ]
  },
  {
   "cell_type": "code",
   "execution_count": 201,
   "metadata": {},
   "outputs": [
    {
     "data": {
      "image/png": "[encoded data removed]",
      "text/plain": [
       "<Figure size 432x288 with 1 Axes>"
      ]
     },
     "metadata": {
      "needs_background": "light"
     },
     "output_type": "display_data"
    }
   ],
   "source": [
    "plot_roc_curve(prediction_proba[:,1], y_test)"
   ]
  },
  {
   "cell_type": "code",
   "execution_count": 203,
   "metadata": {},
   "outputs": [],
   "source": [
    "model = xgb.XGBClassifier(n_estimators=1400, learning_rate=0.2, max_depth=4).fit(X_res, y_res)\n",
    "prediction= model.predict(X_test)\n",
    "prediction_proba = model.predict_proba(X_test)"
   ]
  },
  {
   "cell_type": "markdown",
   "metadata": {},
   "source": [
    "### Результаты обучения на искусственно расширенном наборе"
   ]
  },
  {
   "cell_type": "code",
   "execution_count": 204,
   "metadata": {},
   "outputs": [
    {
     "name": "stdout",
     "output_type": "stream",
     "text": [
      "Accuracy: 0.959\n",
      "Precision: 0.409\n",
      "Recall: 0.598\n",
      "f1_score: 0.486\n"
     ]
    }
   ],
   "source": [
    "quality_report(prediction, y_test)"
   ]
  },
  {
   "cell_type": "code",
   "execution_count": 205,
   "metadata": {},
   "outputs": [
    {
     "data": {
      "image/png": "[encoded data removed]",
      "text/plain": [
       "<Figure size 432x288 with 1 Axes>"
      ]
     },
     "metadata": {
      "needs_background": "light"
     },
     "output_type": "display_data"
    }
   ],
   "source": [
    "plot_roc_curve(prediction_proba[:,1], y_test)"
   ]
  },
  {
   "cell_type": "markdown",
   "metadata": {},
   "source": [
    "### Расширение обучающей выборки позволило повысить precision на 6%, однако, другие метрики несколько ухудшились."
   ]
  },
  {
   "cell_type": "markdown",
   "metadata": {},
   "source": [
    "### 6. Сравнение с другими моделями"
   ]
  },
  {
   "cell_type": "code",
   "execution_count": 206,
   "metadata": {},
   "outputs": [],
   "source": [
    "from sklearn.ensemble import RandomForestClassifier"
   ]
  },
  {
   "cell_type": "code",
   "execution_count": 208,
   "metadata": {},
   "outputs": [],
   "source": [
    "forest_classifier = RandomForestClassifier(n_estimators=100).fit(X_train, y_train)\n",
    "forest_prediction = forest_classifier.predict(X_test)\n",
    "forest_probabilities = forest_classifier.predict_proba(X_test)"
   ]
  },
  {
   "cell_type": "code",
   "execution_count": 210,
   "metadata": {},
   "outputs": [
    {
     "name": "stdout",
     "output_type": "stream",
     "text": [
      "Accuracy: 0.952\n",
      "Precision: 0.040\n",
      "Recall: 0.429\n",
      "f1_score: 0.074\n"
     ]
    }
   ],
   "source": [
    "quality_report(forest_prediction, y_test)"
   ]
  },
  {
   "cell_type": "code",
   "execution_count": 209,
   "metadata": {},
   "outputs": [
    {
     "data": {
      "image/png": "[encoded data removed]",
      "text/plain": [
       "<Figure size 432x288 with 1 Axes>"
      ]
     },
     "metadata": {
      "needs_background": "light"
     },
     "output_type": "display_data"
    }
   ],
   "source": [
    "plot_roc_curve(forest_probabilities[:, 1], y_test)"
   ]
  },
  {
   "cell_type": "code",
   "execution_count": 211,
   "metadata": {},
   "outputs": [],
   "source": [
    "forest_classifier = RandomForestClassifier(n_estimators=100).fit(X_res, y_res)\n",
    "forest_prediction = forest_classifier.predict(X_test)\n",
    "forest_probabilities = forest_classifier.predict_proba(X_test)"
   ]
  },
  {
   "cell_type": "code",
   "execution_count": 212,
   "metadata": {},
   "outputs": [
    {
     "name": "stdout",
     "output_type": "stream",
     "text": [
      "Accuracy: 0.946\n",
      "Precision: 0.242\n",
      "Recall: 0.387\n",
      "f1_score: 0.298\n"
     ]
    }
   ],
   "source": [
    "quality_report(forest_prediction, y_test)"
   ]
  },
  {
   "cell_type": "code",
   "execution_count": 213,
   "metadata": {},
   "outputs": [
    {
     "data": {
      "image/png": "[encoded data removed]",
      "text/plain": [
       "<Figure size 432x288 with 1 Axes>"
      ]
     },
     "metadata": {
      "needs_background": "light"
     },
     "output_type": "display_data"
    }
   ],
   "source": [
    "plot_roc_curve(forest_probabilities[:, 1], y_test)"
   ]
  },
  {
   "cell_type": "markdown",
   "metadata": {},
   "source": [
    "### По всем метрикам random forest показывает худшие результаты на полной и расширенной обучающей выборках. Эффект oversampling'а тот же - повышается precision, остальные метрики ухудшаются. "
   ]
  },
  {
   "cell_type": "markdown",
   "metadata": {},
   "source": [
    "## <font color=red>ИСПОЛЬЗОВАНИЕ ГРАДИЕНТНОГО БУСТИНГА ПОЗВОЛИЛО ЗНАЧИТЕЛЬНО ПОВЫСИТЬ ЭФФЕКТИВНОСТЬ ДЕРЕВЬЕВ РЕШЕНИЙ ПО СРАВНЕНИЮ СО СЛУЧАЙНЫМ ЛЕСОМ</font>"
   ]
  },
  {
   "cell_type": "code",
   "execution_count": null,
   "metadata": {},
   "outputs": [],
   "source": []
  }
 ],
 "metadata": {
  "kernelspec": {
   "display_name": "Python 3",
   "language": "python",
   "name": "python3"
  },
  "language_info": {
   "codemirror_mode": {
    "name": "ipython",
    "version": 3
   },
   "file_extension": ".py",
   "mimetype": "text/x-python",
   "name": "python",
   "nbconvert_exporter": "python",
   "pygments_lexer": "ipython3",
   "version": "3.7.3"
  }
 },
 "nbformat": 4,
 "nbformat_minor": 2
}
